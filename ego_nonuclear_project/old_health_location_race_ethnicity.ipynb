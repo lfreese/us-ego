{
 "cells": [
  {
   "cell_type": "code",
   "execution_count": 26,
   "metadata": {},
   "outputs": [],
   "source": [
    "#%matplotlib inline\n",
    "\n",
    "import pandas as pd\n",
    "import numpy as np\n",
    "\n",
    "import xarray as xr\n",
    "\n",
    "import regionmask\n",
    "\n",
    "import matplotlib.pyplot as plt\n",
    "import cartopy.crs as ccrs\n",
    "from matplotlib import cm\n",
    "from matplotlib.colors import ListedColormap, LinearSegmentedColormap\n",
    "import cartopy.feature as cfeat\n",
    "from mpl_toolkits.axes_grid1 import make_axes_locatable\n",
    "#import feather, h5py, sys, pickle\n",
    "from shapely.geometry import Point, Polygon\n",
    "from geocube.api.core import make_geocube\n",
    "import xagg as xa\n",
    "import netCDF4\n",
    "import geopandas\n",
    "import feather \n",
    "\n",
    "import sys\n",
    "sys.path.append('../')\n",
    "import utils\n",
    "import plotting\n",
    "\n",
    "import difflib \n",
    "\n",
    "np.seterr(invalid='ignore'); # disable a warning from matplotlib and cartopy"
   ]
  },
  {
   "cell_type": "code",
   "execution_count": 28,
   "metadata": {},
   "outputs": [],
   "source": [
    "#import dataset\n",
    "ds = xr.open_dataset('./final_data/ds_PM_O3_daily_counties.nc4')\n"
   ]
  },
  {
   "cell_type": "code",
   "execution_count": 33,
   "metadata": {},
   "outputs": [],
   "source": [
    "states = geopandas.read_file('data/cb_2018_us_state_500k.shx')\n"
   ]
  },
  {
   "cell_type": "code",
   "execution_count": 34,
   "metadata": {},
   "outputs": [],
   "source": [
    "#convert to county name as coordinate/dim\n",
    "ds['pix_idx'] = ds['CountyName']\n",
    "ds = ds.rename({'pix_idx':'county'})"
   ]
  },
  {
   "cell_type": "code",
   "execution_count": 35,
   "metadata": {},
   "outputs": [],
   "source": [
    "#convert from statefp to statename\n",
    "states = geopandas.read_file('data/cb_2018_us_state_500k.shx')\n",
    "states['STATEFP'] = states['STATEFP'].astype('float64')\n",
    "state_dict = dict(states.groupby(\"STATEFP\").first()['NAME'])\n",
    "state_list = [state_dict[i] for i in ds['STATEFP'].values]\n",
    "ds['STATEFP'] = xr.DataArray(data = state_list, dims = 'county', coords = dict(county = ('county', ds.county)))\n",
    "ds = ds.rename({\"STATEFP\":'state'})"
   ]
  },
  {
   "cell_type": "code",
   "execution_count": 36,
   "metadata": {
    "tags": []
   },
   "outputs": [],
   "source": [
    "gen = feather.read_dataframe(f'../optimization_model/outputs/gen_normal.feather')\n",
    "carac = pd.read_csv(f'../optimization_model/good_model_inputs/inputs_gen_normal.csv')\n",
    "carac.loc[carac['FuelType'] == 'Pumps', 'FuelType'] = 'Hydro' #change pumps to hydro label\n",
    "# Clean columns name\n",
    "carac = carac.drop('Unnamed: 0', axis=1)\n",
    "\n",
    "# Merge\n",
    "df_normal = pd.concat((carac,gen), axis=1)\n",
    "df_normal['2016_365_23'] = df_normal['2016_365_22'].copy()\n",
    "\n",
    "col_list = list(gen.columns)\n",
    "col_list.append('2016_365_23')\n",
    "df_normal['total_gen'] = df_normal[col_list].sum(axis=1)\n",
    "df_normal.loc[df_normal['CountyName'] == 'La Salle','CountyName'] = 'LaSalle'\n",
    "df_normal.loc[df_normal['CountyName'] == 'WestChester','CountyName'] = 'Westchester'\n",
    "df_normal.loc[df_normal['CountyName'] == 'Apache', 'StateName'] = 'Arizona'\n",
    "df_normal.loc[df_normal['CountyName'] == 'Dona Ana','CountyName'] = 'Doña Ana'\n",
    "df_normal.loc[df_normal['CountyName'] == 'St Charles','CountyName'] = 'St. Charles'\n",
    "df_normal.loc[df_normal['CountyName'] == 'St Clair','CountyName'] = 'St. Clair'\n",
    "\n",
    "df_normal['CountyName'] = df_normal['CountyName'].str.lower()\n",
    "df_normal['StateName'] = df_normal['StateName'].str.lower()\n"
   ]
  },
  {
   "cell_type": "code",
   "execution_count": 57,
   "metadata": {},
   "outputs": [],
   "source": [
    "ds['state'] = ds['state'].str.lower()"
   ]
  },
  {
   "cell_type": "code",
   "execution_count": 58,
   "metadata": {},
   "outputs": [],
   "source": [
    "ds['county'] = ds['county'].str.lower()"
   ]
  },
  {
   "cell_type": "code",
   "execution_count": 61,
   "metadata": {
    "tags": []
   },
   "outputs": [
    {
     "name": "stdout",
     "output_type": "stream",
     "text": [
      "PM25\n",
      "O3\n",
      "DJF\n"
     ]
    },
    {
     "ename": "KeyboardInterrupt",
     "evalue": "",
     "output_type": "error",
     "traceback": [
      "\u001b[0;31m---------------------------------------------------------------------------\u001b[0m",
      "\u001b[0;31mKeyboardInterrupt\u001b[0m                         Traceback (most recent call last)",
      "\u001b[0;32m/tmp/ipykernel_3469530/4211964049.py\u001b[0m in \u001b[0;36m<module>\u001b[0;34m\u001b[0m\n\u001b[1;32m      4\u001b[0m         \u001b[0;32mfor\u001b[0m \u001b[0mi\u001b[0m \u001b[0;32min\u001b[0m \u001b[0mrange\u001b[0m\u001b[0;34m(\u001b[0m\u001b[0;36m0\u001b[0m\u001b[0;34m,\u001b[0m\u001b[0mlen\u001b[0m\u001b[0;34m(\u001b[0m\u001b[0;34m(\u001b[0m\u001b[0mdf_normal\u001b[0m\u001b[0;34m)\u001b[0m\u001b[0;34m.\u001b[0m\u001b[0mgroupby\u001b[0m\u001b[0;34m(\u001b[0m\u001b[0;34m[\u001b[0m\u001b[0;34m'CountyName'\u001b[0m\u001b[0;34m,\u001b[0m\u001b[0;34m'StateName'\u001b[0m\u001b[0;34m]\u001b[0m\u001b[0;34m)\u001b[0m\u001b[0;34m.\u001b[0m\u001b[0mfirst\u001b[0m\u001b[0;34m(\u001b[0m\u001b[0;34m)\u001b[0m\u001b[0;34m)\u001b[0m\u001b[0;34m)\u001b[0m\u001b[0;34m:\u001b[0m\u001b[0;34m\u001b[0m\u001b[0;34m\u001b[0m\u001b[0m\n\u001b[1;32m      5\u001b[0m             \u001b[0mstate_name\u001b[0m \u001b[0;34m=\u001b[0m  \u001b[0;34m(\u001b[0m\u001b[0mdf_normal\u001b[0m\u001b[0;34m)\u001b[0m\u001b[0;34m.\u001b[0m\u001b[0mgroupby\u001b[0m\u001b[0;34m(\u001b[0m\u001b[0;34m[\u001b[0m\u001b[0;34m'CountyName'\u001b[0m\u001b[0;34m,\u001b[0m\u001b[0;34m'StateName'\u001b[0m\u001b[0;34m]\u001b[0m\u001b[0;34m)\u001b[0m\u001b[0;34m.\u001b[0m\u001b[0mfirst\u001b[0m\u001b[0;34m(\u001b[0m\u001b[0;34m)\u001b[0m\u001b[0;34m.\u001b[0m\u001b[0mindex\u001b[0m\u001b[0;34m[\u001b[0m\u001b[0mi\u001b[0m\u001b[0;34m]\u001b[0m\u001b[0;34m[\u001b[0m\u001b[0;36m1\u001b[0m\u001b[0;34m]\u001b[0m\u001b[0;34m\u001b[0m\u001b[0;34m\u001b[0m\u001b[0m\n\u001b[0;32m----> 6\u001b[0;31m             \u001b[0mcounty_name\u001b[0m \u001b[0;34m=\u001b[0m \u001b[0;34m(\u001b[0m\u001b[0mdf_normal\u001b[0m\u001b[0;34m)\u001b[0m\u001b[0;34m.\u001b[0m\u001b[0mgroupby\u001b[0m\u001b[0;34m(\u001b[0m\u001b[0;34m[\u001b[0m\u001b[0;34m'CountyName'\u001b[0m\u001b[0;34m,\u001b[0m\u001b[0;34m'StateName'\u001b[0m\u001b[0;34m]\u001b[0m\u001b[0;34m)\u001b[0m\u001b[0;34m.\u001b[0m\u001b[0mfirst\u001b[0m\u001b[0;34m(\u001b[0m\u001b[0;34m)\u001b[0m\u001b[0;34m.\u001b[0m\u001b[0mindex\u001b[0m\u001b[0;34m[\u001b[0m\u001b[0mi\u001b[0m\u001b[0;34m]\u001b[0m\u001b[0;34m[\u001b[0m\u001b[0;36m0\u001b[0m\u001b[0;34m]\u001b[0m\u001b[0;34m\u001b[0m\u001b[0;34m\u001b[0m\u001b[0m\n\u001b[0m\u001b[1;32m      7\u001b[0m             p_change = (utils.season_mean(ds.where(ds.state == state_name,\n\u001b[1;32m      8\u001b[0m           \u001b[0mdrop\u001b[0m \u001b[0;34m=\u001b[0m \u001b[0;32mTrue\u001b[0m\u001b[0;34m)\u001b[0m\u001b[0;34m.\u001b[0m\u001b[0msel\u001b[0m\u001b[0;34m(\u001b[0m\u001b[0;34m\u001b[0m\u001b[0;34m\u001b[0m\u001b[0m\n",
      "\u001b[0;32m~/anaconda3/envs/grid_mod/lib/python3.9/site-packages/pandas/core/groupby/groupby.py\u001b[0m in \u001b[0;36mfirst\u001b[0;34m(self, numeric_only, min_count)\u001b[0m\n\u001b[1;32m   1899\u001b[0m                 \u001b[0;32mraise\u001b[0m \u001b[0mTypeError\u001b[0m\u001b[0;34m(\u001b[0m\u001b[0mtype\u001b[0m\u001b[0;34m(\u001b[0m\u001b[0mobj\u001b[0m\u001b[0;34m)\u001b[0m\u001b[0;34m)\u001b[0m\u001b[0;34m\u001b[0m\u001b[0;34m\u001b[0m\u001b[0m\n\u001b[1;32m   1900\u001b[0m \u001b[0;34m\u001b[0m\u001b[0m\n\u001b[0;32m-> 1901\u001b[0;31m         return self._agg_general(\n\u001b[0m\u001b[1;32m   1902\u001b[0m             \u001b[0mnumeric_only\u001b[0m\u001b[0;34m=\u001b[0m\u001b[0mnumeric_only\u001b[0m\u001b[0;34m,\u001b[0m\u001b[0;34m\u001b[0m\u001b[0;34m\u001b[0m\u001b[0m\n\u001b[1;32m   1903\u001b[0m             \u001b[0mmin_count\u001b[0m\u001b[0;34m=\u001b[0m\u001b[0mmin_count\u001b[0m\u001b[0;34m,\u001b[0m\u001b[0;34m\u001b[0m\u001b[0;34m\u001b[0m\u001b[0m\n",
      "\u001b[0;32m~/anaconda3/envs/grid_mod/lib/python3.9/site-packages/pandas/core/groupby/groupby.py\u001b[0m in \u001b[0;36m_agg_general\u001b[0;34m(self, numeric_only, min_count, alias, npfunc)\u001b[0m\n\u001b[1;32m   1362\u001b[0m         \u001b[0;32mwith\u001b[0m \u001b[0mgroup_selection_context\u001b[0m\u001b[0;34m(\u001b[0m\u001b[0mself\u001b[0m\u001b[0;34m)\u001b[0m\u001b[0;34m:\u001b[0m\u001b[0;34m\u001b[0m\u001b[0;34m\u001b[0m\u001b[0m\n\u001b[1;32m   1363\u001b[0m             \u001b[0;31m# try a cython aggregation if we can\u001b[0m\u001b[0;34m\u001b[0m\u001b[0;34m\u001b[0m\u001b[0;34m\u001b[0m\u001b[0m\n\u001b[0;32m-> 1364\u001b[0;31m             result = self._cython_agg_general(\n\u001b[0m\u001b[1;32m   1365\u001b[0m                 \u001b[0mhow\u001b[0m\u001b[0;34m=\u001b[0m\u001b[0malias\u001b[0m\u001b[0;34m,\u001b[0m\u001b[0;34m\u001b[0m\u001b[0;34m\u001b[0m\u001b[0m\n\u001b[1;32m   1366\u001b[0m                 \u001b[0malt\u001b[0m\u001b[0;34m=\u001b[0m\u001b[0mnpfunc\u001b[0m\u001b[0;34m,\u001b[0m\u001b[0;34m\u001b[0m\u001b[0;34m\u001b[0m\u001b[0m\n",
      "\u001b[0;32m~/anaconda3/envs/grid_mod/lib/python3.9/site-packages/pandas/core/groupby/generic.py\u001b[0m in \u001b[0;36m_cython_agg_general\u001b[0;34m(self, how, alt, numeric_only, min_count)\u001b[0m\n\u001b[1;32m   1080\u001b[0m         \u001b[0;31m# TypeError -> we may have an exception in trying to aggregate\u001b[0m\u001b[0;34m\u001b[0m\u001b[0;34m\u001b[0m\u001b[0;34m\u001b[0m\u001b[0m\n\u001b[1;32m   1081\u001b[0m         \u001b[0;31m#  continue and exclude the block\u001b[0m\u001b[0;34m\u001b[0m\u001b[0;34m\u001b[0m\u001b[0;34m\u001b[0m\u001b[0m\n\u001b[0;32m-> 1082\u001b[0;31m         \u001b[0mnew_mgr\u001b[0m \u001b[0;34m=\u001b[0m \u001b[0mdata\u001b[0m\u001b[0;34m.\u001b[0m\u001b[0mgrouped_reduce\u001b[0m\u001b[0;34m(\u001b[0m\u001b[0marray_func\u001b[0m\u001b[0;34m,\u001b[0m \u001b[0mignore_failures\u001b[0m\u001b[0;34m=\u001b[0m\u001b[0;32mTrue\u001b[0m\u001b[0;34m)\u001b[0m\u001b[0;34m\u001b[0m\u001b[0;34m\u001b[0m\u001b[0m\n\u001b[0m\u001b[1;32m   1083\u001b[0m \u001b[0;34m\u001b[0m\u001b[0m\n\u001b[1;32m   1084\u001b[0m         \u001b[0;32mif\u001b[0m \u001b[0mlen\u001b[0m\u001b[0;34m(\u001b[0m\u001b[0mnew_mgr\u001b[0m\u001b[0;34m)\u001b[0m \u001b[0;34m<\u001b[0m \u001b[0mlen\u001b[0m\u001b[0;34m(\u001b[0m\u001b[0mdata\u001b[0m\u001b[0;34m)\u001b[0m\u001b[0;34m:\u001b[0m\u001b[0;34m\u001b[0m\u001b[0;34m\u001b[0m\u001b[0m\n",
      "\u001b[0;32m~/anaconda3/envs/grid_mod/lib/python3.9/site-packages/pandas/core/internals/managers.py\u001b[0m in \u001b[0;36mgrouped_reduce\u001b[0;34m(self, func, ignore_failures)\u001b[0m\n\u001b[1;32m   1241\u001b[0m             \u001b[0;32melse\u001b[0m\u001b[0;34m:\u001b[0m\u001b[0;34m\u001b[0m\u001b[0;34m\u001b[0m\u001b[0m\n\u001b[1;32m   1242\u001b[0m                 \u001b[0;32mtry\u001b[0m\u001b[0;34m:\u001b[0m\u001b[0;34m\u001b[0m\u001b[0;34m\u001b[0m\u001b[0m\n\u001b[0;32m-> 1243\u001b[0;31m                     \u001b[0mapplied\u001b[0m \u001b[0;34m=\u001b[0m \u001b[0mblk\u001b[0m\u001b[0;34m.\u001b[0m\u001b[0mapply\u001b[0m\u001b[0;34m(\u001b[0m\u001b[0mfunc\u001b[0m\u001b[0;34m)\u001b[0m\u001b[0;34m\u001b[0m\u001b[0;34m\u001b[0m\u001b[0m\n\u001b[0m\u001b[1;32m   1244\u001b[0m                 \u001b[0;32mexcept\u001b[0m \u001b[0;34m(\u001b[0m\u001b[0mTypeError\u001b[0m\u001b[0;34m,\u001b[0m \u001b[0mNotImplementedError\u001b[0m\u001b[0;34m)\u001b[0m\u001b[0;34m:\u001b[0m\u001b[0;34m\u001b[0m\u001b[0;34m\u001b[0m\u001b[0m\n\u001b[1;32m   1245\u001b[0m                     \u001b[0;32mif\u001b[0m \u001b[0;32mnot\u001b[0m \u001b[0mignore_failures\u001b[0m\u001b[0;34m:\u001b[0m\u001b[0;34m\u001b[0m\u001b[0;34m\u001b[0m\u001b[0m\n",
      "\u001b[0;32m~/anaconda3/envs/grid_mod/lib/python3.9/site-packages/pandas/core/internals/blocks.py\u001b[0m in \u001b[0;36mapply\u001b[0;34m(self, func, **kwargs)\u001b[0m\n\u001b[1;32m    379\u001b[0m         \"\"\"\n\u001b[1;32m    380\u001b[0m         \u001b[0;32mwith\u001b[0m \u001b[0mnp\u001b[0m\u001b[0;34m.\u001b[0m\u001b[0merrstate\u001b[0m\u001b[0;34m(\u001b[0m\u001b[0mall\u001b[0m\u001b[0;34m=\u001b[0m\u001b[0;34m\"ignore\"\u001b[0m\u001b[0;34m)\u001b[0m\u001b[0;34m:\u001b[0m\u001b[0;34m\u001b[0m\u001b[0;34m\u001b[0m\u001b[0m\n\u001b[0;32m--> 381\u001b[0;31m             \u001b[0mresult\u001b[0m \u001b[0;34m=\u001b[0m \u001b[0mfunc\u001b[0m\u001b[0;34m(\u001b[0m\u001b[0mself\u001b[0m\u001b[0;34m.\u001b[0m\u001b[0mvalues\u001b[0m\u001b[0;34m,\u001b[0m \u001b[0;34m**\u001b[0m\u001b[0mkwargs\u001b[0m\u001b[0;34m)\u001b[0m\u001b[0;34m\u001b[0m\u001b[0;34m\u001b[0m\u001b[0m\n\u001b[0m\u001b[1;32m    382\u001b[0m \u001b[0;34m\u001b[0m\u001b[0m\n\u001b[1;32m    383\u001b[0m         \u001b[0;32mreturn\u001b[0m \u001b[0mself\u001b[0m\u001b[0;34m.\u001b[0m\u001b[0m_split_op_result\u001b[0m\u001b[0;34m(\u001b[0m\u001b[0mresult\u001b[0m\u001b[0;34m)\u001b[0m\u001b[0;34m\u001b[0m\u001b[0;34m\u001b[0m\u001b[0m\n",
      "\u001b[0;32m~/anaconda3/envs/grid_mod/lib/python3.9/site-packages/pandas/core/groupby/generic.py\u001b[0m in \u001b[0;36marray_func\u001b[0;34m(values)\u001b[0m\n\u001b[1;32m   1066\u001b[0m         \u001b[0;32mdef\u001b[0m \u001b[0marray_func\u001b[0m\u001b[0;34m(\u001b[0m\u001b[0mvalues\u001b[0m\u001b[0;34m:\u001b[0m \u001b[0mArrayLike\u001b[0m\u001b[0;34m)\u001b[0m \u001b[0;34m->\u001b[0m \u001b[0mArrayLike\u001b[0m\u001b[0;34m:\u001b[0m\u001b[0;34m\u001b[0m\u001b[0;34m\u001b[0m\u001b[0m\n\u001b[1;32m   1067\u001b[0m             \u001b[0;32mtry\u001b[0m\u001b[0;34m:\u001b[0m\u001b[0;34m\u001b[0m\u001b[0;34m\u001b[0m\u001b[0m\n\u001b[0;32m-> 1068\u001b[0;31m                 result = self.grouper._cython_operation(\n\u001b[0m\u001b[1;32m   1069\u001b[0m                     \u001b[0;34m\"aggregate\"\u001b[0m\u001b[0;34m,\u001b[0m \u001b[0mvalues\u001b[0m\u001b[0;34m,\u001b[0m \u001b[0mhow\u001b[0m\u001b[0;34m,\u001b[0m \u001b[0maxis\u001b[0m\u001b[0;34m=\u001b[0m\u001b[0mdata\u001b[0m\u001b[0;34m.\u001b[0m\u001b[0mndim\u001b[0m \u001b[0;34m-\u001b[0m \u001b[0;36m1\u001b[0m\u001b[0;34m,\u001b[0m \u001b[0mmin_count\u001b[0m\u001b[0;34m=\u001b[0m\u001b[0mmin_count\u001b[0m\u001b[0;34m\u001b[0m\u001b[0;34m\u001b[0m\u001b[0m\n\u001b[1;32m   1070\u001b[0m                 )\n",
      "\u001b[0;32m~/anaconda3/envs/grid_mod/lib/python3.9/site-packages/pandas/core/groupby/ops.py\u001b[0m in \u001b[0;36m_cython_operation\u001b[0;34m(self, kind, values, how, axis, min_count, **kwargs)\u001b[0m\n\u001b[1;32m   1008\u001b[0m         \u001b[0mids\u001b[0m\u001b[0;34m,\u001b[0m \u001b[0m_\u001b[0m\u001b[0;34m,\u001b[0m \u001b[0m_\u001b[0m \u001b[0;34m=\u001b[0m \u001b[0mself\u001b[0m\u001b[0;34m.\u001b[0m\u001b[0mgroup_info\u001b[0m\u001b[0;34m\u001b[0m\u001b[0;34m\u001b[0m\u001b[0m\n\u001b[1;32m   1009\u001b[0m         \u001b[0mngroups\u001b[0m \u001b[0;34m=\u001b[0m \u001b[0mself\u001b[0m\u001b[0;34m.\u001b[0m\u001b[0mngroups\u001b[0m\u001b[0;34m\u001b[0m\u001b[0;34m\u001b[0m\u001b[0m\n\u001b[0;32m-> 1010\u001b[0;31m         return cy_op.cython_operation(\n\u001b[0m\u001b[1;32m   1011\u001b[0m             \u001b[0mvalues\u001b[0m\u001b[0;34m=\u001b[0m\u001b[0mvalues\u001b[0m\u001b[0;34m,\u001b[0m\u001b[0;34m\u001b[0m\u001b[0;34m\u001b[0m\u001b[0m\n\u001b[1;32m   1012\u001b[0m             \u001b[0maxis\u001b[0m\u001b[0;34m=\u001b[0m\u001b[0maxis\u001b[0m\u001b[0;34m,\u001b[0m\u001b[0;34m\u001b[0m\u001b[0;34m\u001b[0m\u001b[0m\n",
      "\u001b[0;32m~/anaconda3/envs/grid_mod/lib/python3.9/site-packages/pandas/core/groupby/ops.py\u001b[0m in \u001b[0;36mcython_operation\u001b[0;34m(self, values, axis, min_count, comp_ids, ngroups, **kwargs)\u001b[0m\n\u001b[1;32m    669\u001b[0m             )\n\u001b[1;32m    670\u001b[0m \u001b[0;34m\u001b[0m\u001b[0m\n\u001b[0;32m--> 671\u001b[0;31m         return self._cython_op_ndim_compat(\n\u001b[0m\u001b[1;32m    672\u001b[0m             \u001b[0mvalues\u001b[0m\u001b[0;34m,\u001b[0m\u001b[0;34m\u001b[0m\u001b[0;34m\u001b[0m\u001b[0m\n\u001b[1;32m    673\u001b[0m             \u001b[0mmin_count\u001b[0m\u001b[0;34m=\u001b[0m\u001b[0mmin_count\u001b[0m\u001b[0;34m,\u001b[0m\u001b[0;34m\u001b[0m\u001b[0;34m\u001b[0m\u001b[0m\n",
      "\u001b[0;32m~/anaconda3/envs/grid_mod/lib/python3.9/site-packages/pandas/core/groupby/ops.py\u001b[0m in \u001b[0;36m_cython_op_ndim_compat\u001b[0;34m(self, values, min_count, ngroups, comp_ids, mask, **kwargs)\u001b[0m\n\u001b[1;32m    514\u001b[0m             \u001b[0;32mreturn\u001b[0m \u001b[0mres\u001b[0m\u001b[0;34m.\u001b[0m\u001b[0mT\u001b[0m\u001b[0;34m\u001b[0m\u001b[0;34m\u001b[0m\u001b[0m\n\u001b[1;32m    515\u001b[0m \u001b[0;34m\u001b[0m\u001b[0m\n\u001b[0;32m--> 516\u001b[0;31m         return self._call_cython_op(\n\u001b[0m\u001b[1;32m    517\u001b[0m             \u001b[0mvalues\u001b[0m\u001b[0;34m,\u001b[0m\u001b[0;34m\u001b[0m\u001b[0;34m\u001b[0m\u001b[0m\n\u001b[1;32m    518\u001b[0m             \u001b[0mmin_count\u001b[0m\u001b[0;34m=\u001b[0m\u001b[0mmin_count\u001b[0m\u001b[0;34m,\u001b[0m\u001b[0;34m\u001b[0m\u001b[0;34m\u001b[0m\u001b[0m\n",
      "\u001b[0;32m~/anaconda3/envs/grid_mod/lib/python3.9/site-packages/pandas/core/groupby/ops.py\u001b[0m in \u001b[0;36m_call_cython_op\u001b[0;34m(self, values, min_count, ngroups, comp_ids, mask, **kwargs)\u001b[0m\n\u001b[1;32m    587\u001b[0m                 )\n\u001b[1;32m    588\u001b[0m             \u001b[0;32melse\u001b[0m\u001b[0;34m:\u001b[0m\u001b[0;34m\u001b[0m\u001b[0;34m\u001b[0m\u001b[0m\n\u001b[0;32m--> 589\u001b[0;31m                 \u001b[0mfunc\u001b[0m\u001b[0;34m(\u001b[0m\u001b[0mresult\u001b[0m\u001b[0;34m,\u001b[0m \u001b[0mcounts\u001b[0m\u001b[0;34m,\u001b[0m \u001b[0mvalues\u001b[0m\u001b[0;34m,\u001b[0m \u001b[0mcomp_ids\u001b[0m\u001b[0;34m,\u001b[0m \u001b[0mmin_count\u001b[0m\u001b[0;34m)\u001b[0m\u001b[0;34m\u001b[0m\u001b[0;34m\u001b[0m\u001b[0m\n\u001b[0m\u001b[1;32m    590\u001b[0m         \u001b[0;32melse\u001b[0m\u001b[0;34m:\u001b[0m\u001b[0;34m\u001b[0m\u001b[0;34m\u001b[0m\u001b[0m\n\u001b[1;32m    591\u001b[0m             \u001b[0;31m# TODO: min_count\u001b[0m\u001b[0;34m\u001b[0m\u001b[0;34m\u001b[0m\u001b[0;34m\u001b[0m\u001b[0m\n",
      "\u001b[0;31mKeyboardInterrupt\u001b[0m: "
     ]
    }
   ],
   "source": [
    "for ssn in ['DJF','JJA']:\n",
    "    for poll in ['PM25','O3']:\n",
    "        df_normal[f'{ssn}_{poll}_delta'] = np.nan\n",
    "        for i in range(0,len((df_normal).groupby(['CountyName','StateName']).first())):\n",
    "            state_name =  (df_normal).groupby(['CountyName','StateName']).first().index[i][1]\n",
    "            county_name = (df_normal).groupby(['CountyName','StateName']).first().index[i][0]\n",
    "            p_change = (utils.season_mean(ds.where(ds.state == state_name,\n",
    "          drop = True).sel(\n",
    "    county = ds.where(ds.state == state_name,drop = True).county.isin(county_name))[poll]).sel(\n",
    "    model_name = 'nonuc_NA', season = ssn) - \n",
    "                  utils.season_mean(ds.where(ds.state == state_name,\n",
    "          drop = True).sel(\n",
    "    county = ds.where(ds.state == state_name,drop = True).county.isin(county_name))[poll]).sel(\n",
    "    model_name = 'normal_NA', season = ssn)\n",
    "                       ).mean().values\n",
    "            \n",
    "            df_normal.loc[(df_normal['CountyName'] == county_name) & (df_normal['StateName'] == state_name),f'{ssn}_{poll}_delta'] = p_change.squeeze()\n",
    "        print(poll)\n",
    "    print(ssn)"
   ]
  },
  {
   "cell_type": "code",
   "execution_count": null,
   "metadata": {},
   "outputs": [],
   "source": [
    "df_normal.to_csv('./final_data/county_avg.csv')"
   ]
  },
  {
   "cell_type": "markdown",
   "metadata": {},
   "source": [
    "# Analysis"
   ]
  },
  {
   "cell_type": "code",
   "execution_count": 5,
   "metadata": {},
   "outputs": [
    {
     "name": "stderr",
     "output_type": "stream",
     "text": [
      "/home/emfreese/anaconda3/envs/grid_mod/lib/python3.9/site-packages/IPython/core/interactiveshell.py:3441: DtypeWarning: Columns (7) have mixed types.Specify dtype option on import or set low_memory=False.\n",
      "  exec(code_obj, self.user_global_ns, self.user_ns)\n"
     ]
    }
   ],
   "source": [
    "df = pd.read_csv('./data/county_avg.csv')"
   ]
  },
  {
   "cell_type": "code",
   "execution_count": 6,
   "metadata": {},
   "outputs": [],
   "source": [
    "#import dataset\n",
    "ds = xr.open_zarr('data/GC_counties.zarr/')\n",
    "#convert to county name as coordinate/dim\n",
    "ds['pix_idx'] = ds['CountyName']\n",
    "ds = ds.rename({'pix_idx':'county'})\n",
    "\n",
    "#convert from statefp to statename\n",
    "states = geopandas.read_file('data/cb_2018_us_state_500k.shx')\n",
    "states['STATEFP'] = states['STATEFP'].astype('float64')\n",
    "state_dict = dict(states.groupby(\"STATEFP\").first()['NAME'])\n",
    "state_list = [state_dict[i] for i in ds['STATEFP'].values]\n",
    "ds['STATEFP'] = xr.DataArray(data = state_list, dims = 'county', coords = dict(county = ('county', ds.county)))\n",
    "ds = ds.rename({\"STATEFP\":'state'})"
   ]
  },
  {
   "cell_type": "code",
   "execution_count": 7,
   "metadata": {},
   "outputs": [
    {
     "name": "stderr",
     "output_type": "stream",
     "text": [
      "/home/emfreese/anaconda3/envs/grid_mod/lib/python3.9/site-packages/dask/array/numpy_compat.py:40: RuntimeWarning: invalid value encountered in true_divide\n",
      "  x = np.divide(x1, x2, out)\n"
     ]
    }
   ],
   "source": [
    "PM_df = xr.Dataset.to_dataframe(xr.merge([ds['state'], ds.drop('ilev').mean(dim = 'time')['PM25']]))"
   ]
  },
  {
   "cell_type": "code",
   "execution_count": 8,
   "metadata": {},
   "outputs": [
    {
     "name": "stderr",
     "output_type": "stream",
     "text": [
      "/home/emfreese/anaconda3/envs/grid_mod/lib/python3.9/site-packages/dask/array/numpy_compat.py:40: RuntimeWarning: invalid value encountered in true_divide\n",
      "  x = np.divide(x1, x2, out)\n"
     ]
    }
   ],
   "source": [
    "O3_df = xr.Dataset.to_dataframe(xr.merge([ds['state'], ds.drop('ilev').groupby('time.season').mean(dim = 'time').sel(season = 'JJA')['O3']]))\n",
    "O3_df.drop(columns = 'state', inplace = True)"
   ]
  },
  {
   "cell_type": "code",
   "execution_count": 9,
   "metadata": {},
   "outputs": [],
   "source": [
    "poll_df = pd.concat([O3_df,PM_df],axis=1)"
   ]
  },
  {
   "cell_type": "markdown",
   "metadata": {},
   "source": [
    "Mortality data from: https://wonder.cdc.gov/controller/datarequest/D140;jsessionid=3706D5550499EA883D9361BB7FC6\n",
    "Centers for Disease Control and Prevention, National Center for Health Statistics. Compressed Mortality File 1999-2016 on CDC WONDER Online Database, released June 2017. Data are from the Compressed Mortality File 1999-2016 Series 20 No. 2U, 2016, as compiled from data provided by the 57 vital statistics jurisdictions through the Vital Statistics Cooperative Program. Accessed at http://wonder.cdc.gov/cmf-icd10.html on Jul 13, 2021 2:41:50 PM"
   ]
  },
  {
   "cell_type": "code",
   "execution_count": 10,
   "metadata": {},
   "outputs": [],
   "source": [
    "mort_df = pd.read_excel('data/compressed_mortality_cdc.xlsx')\n",
    "mort_df = mort_df.drop(columns = 'Notes')\n",
    "mort_df.dropna(inplace = True)"
   ]
  },
  {
   "cell_type": "code",
   "execution_count": 11,
   "metadata": {},
   "outputs": [],
   "source": [
    "mort_df2 = pd.read_excel('./data/compressed_mortality_cdc_hispanic.xlsx')\n",
    "mort_df2 = mort_df2.drop(columns = {'Notes'})\n",
    "mort_df2.dropna(inplace = True)"
   ]
  },
  {
   "cell_type": "code",
   "execution_count": 12,
   "metadata": {},
   "outputs": [],
   "source": [
    "mort_df.rename(columns = {'Race':'Race/Hispanic Origin'}, inplace = True)\n",
    "mort_df2.rename(columns = {'Hispanic Origin':'Race/Hispanic Origin'}, inplace = True)"
   ]
  },
  {
   "cell_type": "code",
   "execution_count": 13,
   "metadata": {},
   "outputs": [],
   "source": [
    "mort_df = pd.concat([mort_df, mort_df2])\n",
    "mort_df.loc[mort_df['Population'] == 'Not Applicable','Population'] = np.nan"
   ]
  },
  {
   "cell_type": "markdown",
   "metadata": {},
   "source": [
    "## Beta calculations for PM"
   ]
  },
  {
   "cell_type": "code",
   "execution_count": 14,
   "metadata": {},
   "outputs": [],
   "source": [
    "#beta from Vodonos et al. 2018\n",
    "beta_orig_df = pd.read_csv('data/CRF_Vodonos_data.csv', names = ['PM25','beta'])\n",
    "zero_row = pd.DataFrame({'beta':beta_orig_df['beta'][0], 'PM25':0}, index = {0})\n",
    "beta_orig_df = pd.concat([zero_row, beta_orig_df]).set_index('PM25')\n"
   ]
  },
  {
   "cell_type": "code",
   "execution_count": 15,
   "metadata": {},
   "outputs": [],
   "source": [
    "β_df = pd.DataFrame()\n",
    "β_df['beta'] = np.interp(np.arange(0,70,.0001), list(beta_orig_df.index), beta_orig_df['beta'])/100.\n",
    "β_df['PM25'] = np.arange(0,70,.0001)\n",
    "β_df = β_df.set_index('PM25')\n",
    "β_df['Δx'] = np.insert(np.diff(β_df.index), 0, np.nan)"
   ]
  },
  {
   "cell_type": "code",
   "execution_count": 16,
   "metadata": {
    "tags": []
   },
   "outputs": [],
   "source": [
    "x0 = poll_df.xs('normal_model', level = 1)\n",
    "x1 = poll_df.xs('nonuc_model', level = 1)\n",
    "x0 = x0.rename(columns = {'PM25':'normal_PM25', 'O3':'normal_O3'})\n",
    "x1 = x1.rename(columns = {'PM25':'nonuc_PM25', 'O3':'nonuc_O3'})\n"
   ]
  },
  {
   "cell_type": "code",
   "execution_count": 17,
   "metadata": {},
   "outputs": [],
   "source": [
    "x0 = x0.groupby(['county','state']).mean()\n",
    "x1 = x1.groupby(['county','state']).mean()"
   ]
  },
  {
   "cell_type": "code",
   "execution_count": 18,
   "metadata": {},
   "outputs": [],
   "source": [
    "poll_df = pd.concat([x0, x1], axis=1)"
   ]
  },
  {
   "cell_type": "code",
   "execution_count": 19,
   "metadata": {},
   "outputs": [],
   "source": [
    "def β_mean(x_norm, x_nonuc):\n",
    "    if (x_norm==x_nonuc):\n",
    "        return β_df.iloc[β_df.index.get_loc(x_norm, method='nearest')]['beta']\n",
    "    if np.isnan(x_norm) | np.isnan(x_nonuc):\n",
    "        return(np.nan)\n",
    "    if x_nonuc>x_norm:\n",
    "        return((1/(x_nonuc-x_norm))*np.sum((β_df['beta']*β_df['Δx']).iloc[β_df.index.get_loc(x_norm, method='nearest'):β_df.index.get_loc(x_nonuc, method='nearest')]))\n",
    "    if x_norm>x_nonuc:\n",
    "        return((1/(x_norm-x_nonuc))*np.sum((β_df['beta']*β_df['Δx']).iloc[β_df.index.get_loc(x_nonuc, method='nearest'):β_df.index.get_loc(x_norm, method='nearest')]))\n"
   ]
  },
  {
   "cell_type": "code",
   "execution_count": 20,
   "metadata": {},
   "outputs": [],
   "source": [
    "def apply_β(df):\n",
    "    return pd.Series([\n",
    "    β_mean(x_norm, x_nonuc)\n",
    "    for (x_norm, x_nonuc) in zip(poll_df['normal_PM25'], poll_df['nonuc_PM25'])\n",
    "  ])"
   ]
  },
  {
   "cell_type": "code",
   "execution_count": 21,
   "metadata": {},
   "outputs": [],
   "source": [
    "a = apply_β(poll_df)\n",
    "poll_df = poll_df.reset_index()\n",
    "poll_df['βm_PM'] = a\n",
    "poll_df['AF_PM'] = (np.exp(poll_df['βm_PM']*(poll_df['nonuc_PM25'] - poll_df['normal_PM25']))-1)/np.exp(poll_df['βm_PM']*(poll_df['nonuc_PM25'] - poll_df['normal_PM25']))"
   ]
  },
  {
   "cell_type": "markdown",
   "metadata": {},
   "source": [
    "## Dataframe modifications"
   ]
  },
  {
   "cell_type": "code",
   "execution_count": 22,
   "metadata": {},
   "outputs": [],
   "source": [
    "mort_df['County'] = mort_df['County'].astype('string')\n",
    "mort_df[['county','state']] = mort_df['County'].str.split(', ',expand=True)"
   ]
  },
  {
   "cell_type": "code",
   "execution_count": 23,
   "metadata": {},
   "outputs": [],
   "source": [
    "states = {\n",
    "        'AK': 'Alaska',\n",
    "        'AL': 'Alabama',\n",
    "        'AR': 'Arkansas',\n",
    "        'AS': 'American Samoa',\n",
    "        'AZ': 'Arizona',\n",
    "        'CA': 'California',\n",
    "        'CO': 'Colorado',\n",
    "        'CT': 'Connecticut',\n",
    "        'DC': 'District of Columbia',\n",
    "        'DE': 'Delaware',\n",
    "        'FL': 'Florida',\n",
    "        'GA': 'Georgia',\n",
    "        'GU': 'Guam',\n",
    "        'HI': 'Hawaii',\n",
    "        'IA': 'Iowa',\n",
    "        'ID': 'Idaho',\n",
    "        'IL': 'Illinois',\n",
    "        'IN': 'Indiana',\n",
    "        'KS': 'Kansas',\n",
    "        'KY': 'Kentucky',\n",
    "        'LA': 'Louisiana',\n",
    "        'MA': 'Massachusetts',\n",
    "        'MD': 'Maryland',\n",
    "        'ME': 'Maine',\n",
    "        'MI': 'Michigan',\n",
    "        'MN': 'Minnesota',\n",
    "        'MO': 'Missouri',\n",
    "        'MP': 'Northern Mariana Islands',\n",
    "        'MS': 'Mississippi',\n",
    "        'MT': 'Montana',\n",
    "        'NA': 'National',\n",
    "        'NC': 'North Carolina',\n",
    "        'ND': 'North Dakota',\n",
    "        'NE': 'Nebraska',\n",
    "        'NH': 'New Hampshire',\n",
    "        'NJ': 'New Jersey',\n",
    "        'NM': 'New Mexico',\n",
    "        'NV': 'Nevada',\n",
    "        'NY': 'New York',\n",
    "        'OH': 'Ohio',\n",
    "        'OK': 'Oklahoma',\n",
    "        'OR': 'Oregon',\n",
    "        'PA': 'Pennsylvania',\n",
    "        'PR': 'Puerto Rico',\n",
    "        'RI': 'Rhode Island',\n",
    "        'SC': 'South Carolina',\n",
    "        'SD': 'South Dakota',\n",
    "        'TN': 'Tennessee',\n",
    "        'TX': 'Texas',\n",
    "        'UT': 'Utah',\n",
    "        'VA': 'Virginia',\n",
    "        'VI': 'Virgin Islands',\n",
    "        'VT': 'Vermont',\n",
    "        'WA': 'Washington',\n",
    "        'WI': 'Wisconsin',\n",
    "        'WV': 'West Virginia',\n",
    "        'WY': 'Wyoming'\n",
    "}"
   ]
  },
  {
   "cell_type": "code",
   "execution_count": 24,
   "metadata": {},
   "outputs": [],
   "source": [
    "mort_df['state'] = mort_df['state'].map(lambda x: x.replace(\" \", \"\"))\n",
    "state_list = [states[i] for i in mort_df['state'].values]\n",
    "mort_df['state'] = state_list"
   ]
  },
  {
   "cell_type": "code",
   "execution_count": 25,
   "metadata": {},
   "outputs": [],
   "source": [
    "poll_df['county'] = poll_df['county']\n",
    "mort_df['county'] = mort_df['county'].str.replace(' Parish', '')\n",
    "mort_df['county'] = mort_df['county'].str.replace(' County', '')\n",
    "mort_df['county'] = mort_df['county'].str.replace(' city', '')\n",
    "mort_df.loc[(mort_df['county'] == 'Shannon') & (mort_df['state'] == 'South Dakota'), 'county'] = 'Oglala Lakota'"
   ]
  },
  {
   "cell_type": "code",
   "execution_count": 26,
   "metadata": {},
   "outputs": [],
   "source": [
    "#drop non-contiguous US states\n",
    "poll_df.drop(index = poll_df.loc[poll_df['state'].isin(['American Samoa', 'Alaska','Hawaii', 'Commonwealth of the Northern Mariana Islands', 'Guam', 'Puerto Rico', 'United States Virgin Islands'])].index, inplace = True)\n",
    "mort_df.drop(index = mort_df.loc[mort_df['state'].isin(['Alaska', 'Hawaii'])].index, inplace = True)"
   ]
  },
  {
   "cell_type": "code",
   "execution_count": 27,
   "metadata": {},
   "outputs": [],
   "source": [
    "#map our counties together matching the names\n",
    "poll_df['county_new'] = poll_df['county'].map(lambda x: difflib.get_close_matches(x, mort_df['county'], n = 1, cutoff = .8))"
   ]
  },
  {
   "cell_type": "code",
   "execution_count": 28,
   "metadata": {
    "tags": []
   },
   "outputs": [],
   "source": [
    "#Reset indices to drop unmatched columns-- mortality data doesn't exist for many locations due to small numbers\n",
    "poll_df['index_new'] = range(0, len(poll_df))\n",
    "poll_df.reset_index(inplace = True)\n",
    "poll_df.set_index(poll_df['index_new'], inplace = True)\n",
    "poll_df.drop(columns = {'index','index_new'}, inplace = True)\n",
    "indices = [84, 202, 234, 357, 1341, 1462, 1477, 1695, 1844, 2211, 2587, 2671, 2686, 2782, 3101]\n",
    "poll_df.drop(index = indices, inplace = True)"
   ]
  },
  {
   "cell_type": "code",
   "execution_count": 29,
   "metadata": {},
   "outputs": [],
   "source": [
    "#change county names so that they are no longer in list format\n",
    "for i in poll_df.index:\n",
    "    poll_df.loc[i, 'county_new'] = poll_df.loc[i, 'county_new'][0]"
   ]
  },
  {
   "cell_type": "code",
   "execution_count": 30,
   "metadata": {},
   "outputs": [
    {
     "name": "stdout",
     "output_type": "stream",
     "text": [
      "Ziebach []\n",
      "De Kalb []\n"
     ]
    }
   ],
   "source": [
    "#find dif between two lists:\n",
    "for county in list(set(mort_df['county']).difference(poll_df['county_new'])):\n",
    "    print(county, poll_df.loc[poll_df['county_new'] == county]['county_new'].values)\n",
    "    \n",
    "mort_df.loc[mort_df['county'] == 'De Kalb','county'] = 'DeKalb'\n",
    "poll_df.rename(columns = {'county':'county_old','county_new':'county'}, inplace = True)"
   ]
  },
  {
   "cell_type": "code",
   "execution_count": 31,
   "metadata": {},
   "outputs": [
    {
     "data": {
      "text/html": [
       "<div>\n",
       "<style scoped>\n",
       "    .dataframe tbody tr th:only-of-type {\n",
       "        vertical-align: middle;\n",
       "    }\n",
       "\n",
       "    .dataframe tbody tr th {\n",
       "        vertical-align: top;\n",
       "    }\n",
       "\n",
       "    .dataframe thead th {\n",
       "        text-align: right;\n",
       "    }\n",
       "</style>\n",
       "<table border=\"1\" class=\"dataframe\">\n",
       "  <thead>\n",
       "    <tr style=\"text-align: right;\">\n",
       "      <th></th>\n",
       "      <th></th>\n",
       "      <th></th>\n",
       "      <th>County Code</th>\n",
       "      <th>Deaths</th>\n",
       "      <th>Population</th>\n",
       "      <th>normal_O3</th>\n",
       "      <th>normal_PM25</th>\n",
       "      <th>nonuc_O3</th>\n",
       "      <th>nonuc_PM25</th>\n",
       "      <th>βm_PM</th>\n",
       "      <th>AF_PM</th>\n",
       "    </tr>\n",
       "    <tr>\n",
       "      <th>county</th>\n",
       "      <th>state</th>\n",
       "      <th>Race/Hispanic Origin</th>\n",
       "      <th></th>\n",
       "      <th></th>\n",
       "      <th></th>\n",
       "      <th></th>\n",
       "      <th></th>\n",
       "      <th></th>\n",
       "      <th></th>\n",
       "      <th></th>\n",
       "      <th></th>\n",
       "    </tr>\n",
       "  </thead>\n",
       "  <tbody>\n",
       "    <tr>\n",
       "      <th>Adams</th>\n",
       "      <th>Colorado</th>\n",
       "      <th>Not Stated</th>\n",
       "      <td>8001.0</td>\n",
       "      <td>10.0</td>\n",
       "      <td>NaN</td>\n",
       "      <td>54.472876</td>\n",
       "      <td>4.080975</td>\n",
       "      <td>54.377724</td>\n",
       "      <td>3.958023</td>\n",
       "      <td>0.016381</td>\n",
       "      <td>-0.002016</td>\n",
       "    </tr>\n",
       "    <tr>\n",
       "      <th>Alameda</th>\n",
       "      <th>California</th>\n",
       "      <th>Not Stated</th>\n",
       "      <td>6001.0</td>\n",
       "      <td>15.0</td>\n",
       "      <td>NaN</td>\n",
       "      <td>34.782335</td>\n",
       "      <td>7.208841</td>\n",
       "      <td>34.695889</td>\n",
       "      <td>7.169475</td>\n",
       "      <td>0.014971</td>\n",
       "      <td>-0.000590</td>\n",
       "    </tr>\n",
       "    <tr>\n",
       "      <th>Allegheny</th>\n",
       "      <th>Pennsylvania</th>\n",
       "      <th>Not Stated</th>\n",
       "      <td>42003.0</td>\n",
       "      <td>148.0</td>\n",
       "      <td>NaN</td>\n",
       "      <td>47.461162</td>\n",
       "      <td>11.332772</td>\n",
       "      <td>47.773900</td>\n",
       "      <td>11.877048</td>\n",
       "      <td>0.012941</td>\n",
       "      <td>0.007019</td>\n",
       "    </tr>\n",
       "    <tr>\n",
       "      <th>Baltimore</th>\n",
       "      <th>Maryland</th>\n",
       "      <th>Not Stated</th>\n",
       "      <td>24510.0</td>\n",
       "      <td>17.0</td>\n",
       "      <td>NaN</td>\n",
       "      <td>50.634508</td>\n",
       "      <td>10.883586</td>\n",
       "      <td>51.559572</td>\n",
       "      <td>11.198502</td>\n",
       "      <td>0.013198</td>\n",
       "      <td>0.004148</td>\n",
       "    </tr>\n",
       "    <tr>\n",
       "      <th>Barnstable</th>\n",
       "      <th>Massachusetts</th>\n",
       "      <th>Not Stated</th>\n",
       "      <td>25001.0</td>\n",
       "      <td>94.0</td>\n",
       "      <td>NaN</td>\n",
       "      <td>45.281481</td>\n",
       "      <td>6.379121</td>\n",
       "      <td>45.594296</td>\n",
       "      <td>6.424027</td>\n",
       "      <td>0.015358</td>\n",
       "      <td>0.000689</td>\n",
       "    </tr>\n",
       "    <tr>\n",
       "      <th>...</th>\n",
       "      <th>...</th>\n",
       "      <th>...</th>\n",
       "      <td>...</td>\n",
       "      <td>...</td>\n",
       "      <td>...</td>\n",
       "      <td>...</td>\n",
       "      <td>...</td>\n",
       "      <td>...</td>\n",
       "      <td>...</td>\n",
       "      <td>...</td>\n",
       "      <td>...</td>\n",
       "    </tr>\n",
       "    <tr>\n",
       "      <th>Westchester</th>\n",
       "      <th>New York</th>\n",
       "      <th>Not Stated</th>\n",
       "      <td>36119.0</td>\n",
       "      <td>61.0</td>\n",
       "      <td>NaN</td>\n",
       "      <td>45.266123</td>\n",
       "      <td>10.506808</td>\n",
       "      <td>45.494553</td>\n",
       "      <td>10.631142</td>\n",
       "      <td>0.013390</td>\n",
       "      <td>0.001663</td>\n",
       "    </tr>\n",
       "    <tr>\n",
       "      <th>Westmoreland</th>\n",
       "      <th>Pennsylvania</th>\n",
       "      <th>Not Stated</th>\n",
       "      <td>42129.0</td>\n",
       "      <td>32.0</td>\n",
       "      <td>NaN</td>\n",
       "      <td>47.591889</td>\n",
       "      <td>9.984390</td>\n",
       "      <td>46.799919</td>\n",
       "      <td>10.504574</td>\n",
       "      <td>0.013535</td>\n",
       "      <td>0.007016</td>\n",
       "    </tr>\n",
       "    <tr>\n",
       "      <th>Worcester</th>\n",
       "      <th>Massachusetts</th>\n",
       "      <th>Not Stated</th>\n",
       "      <td>25027.0</td>\n",
       "      <td>360.0</td>\n",
       "      <td>NaN</td>\n",
       "      <td>39.983288</td>\n",
       "      <td>8.409694</td>\n",
       "      <td>40.303291</td>\n",
       "      <td>8.475393</td>\n",
       "      <td>0.014392</td>\n",
       "      <td>0.000945</td>\n",
       "    </tr>\n",
       "    <tr>\n",
       "      <th>York</th>\n",
       "      <th>Pennsylvania</th>\n",
       "      <th>Not Stated</th>\n",
       "      <td>42133.0</td>\n",
       "      <td>15.0</td>\n",
       "      <td>NaN</td>\n",
       "      <td>49.691577</td>\n",
       "      <td>12.048545</td>\n",
       "      <td>50.588418</td>\n",
       "      <td>12.438659</td>\n",
       "      <td>0.012652</td>\n",
       "      <td>0.004924</td>\n",
       "    </tr>\n",
       "    <tr>\n",
       "      <th>Ziebach</th>\n",
       "      <th>South Dakota</th>\n",
       "      <th>Not Hispanic or Latino</th>\n",
       "      <td>46137.0</td>\n",
       "      <td>16.0</td>\n",
       "      <td>2666.0</td>\n",
       "      <td>NaN</td>\n",
       "      <td>NaN</td>\n",
       "      <td>NaN</td>\n",
       "      <td>NaN</td>\n",
       "      <td>NaN</td>\n",
       "      <td>NaN</td>\n",
       "    </tr>\n",
       "  </tbody>\n",
       "</table>\n",
       "<p>123 rows × 9 columns</p>\n",
       "</div>"
      ],
      "text/plain": [
       "                                                   County Code  Deaths  \\\n",
       "county       state         Race/Hispanic Origin                          \n",
       "Adams        Colorado      Not Stated                   8001.0    10.0   \n",
       "Alameda      California    Not Stated                   6001.0    15.0   \n",
       "Allegheny    Pennsylvania  Not Stated                  42003.0   148.0   \n",
       "Baltimore    Maryland      Not Stated                  24510.0    17.0   \n",
       "Barnstable   Massachusetts Not Stated                  25001.0    94.0   \n",
       "...                                                        ...     ...   \n",
       "Westchester  New York      Not Stated                  36119.0    61.0   \n",
       "Westmoreland Pennsylvania  Not Stated                  42129.0    32.0   \n",
       "Worcester    Massachusetts Not Stated                  25027.0   360.0   \n",
       "York         Pennsylvania  Not Stated                  42133.0    15.0   \n",
       "Ziebach      South Dakota  Not Hispanic or Latino      46137.0    16.0   \n",
       "\n",
       "                                                   Population  normal_O3  \\\n",
       "county       state         Race/Hispanic Origin                            \n",
       "Adams        Colorado      Not Stated                     NaN  54.472876   \n",
       "Alameda      California    Not Stated                     NaN  34.782335   \n",
       "Allegheny    Pennsylvania  Not Stated                     NaN  47.461162   \n",
       "Baltimore    Maryland      Not Stated                     NaN  50.634508   \n",
       "Barnstable   Massachusetts Not Stated                     NaN  45.281481   \n",
       "...                                                       ...        ...   \n",
       "Westchester  New York      Not Stated                     NaN  45.266123   \n",
       "Westmoreland Pennsylvania  Not Stated                     NaN  47.591889   \n",
       "Worcester    Massachusetts Not Stated                     NaN  39.983288   \n",
       "York         Pennsylvania  Not Stated                     NaN  49.691577   \n",
       "Ziebach      South Dakota  Not Hispanic or Latino      2666.0        NaN   \n",
       "\n",
       "                                                   normal_PM25   nonuc_O3  \\\n",
       "county       state         Race/Hispanic Origin                             \n",
       "Adams        Colorado      Not Stated                 4.080975  54.377724   \n",
       "Alameda      California    Not Stated                 7.208841  34.695889   \n",
       "Allegheny    Pennsylvania  Not Stated                11.332772  47.773900   \n",
       "Baltimore    Maryland      Not Stated                10.883586  51.559572   \n",
       "Barnstable   Massachusetts Not Stated                 6.379121  45.594296   \n",
       "...                                                        ...        ...   \n",
       "Westchester  New York      Not Stated                10.506808  45.494553   \n",
       "Westmoreland Pennsylvania  Not Stated                 9.984390  46.799919   \n",
       "Worcester    Massachusetts Not Stated                 8.409694  40.303291   \n",
       "York         Pennsylvania  Not Stated                12.048545  50.588418   \n",
       "Ziebach      South Dakota  Not Hispanic or Latino          NaN        NaN   \n",
       "\n",
       "                                                   nonuc_PM25     βm_PM  \\\n",
       "county       state         Race/Hispanic Origin                           \n",
       "Adams        Colorado      Not Stated                3.958023  0.016381   \n",
       "Alameda      California    Not Stated                7.169475  0.014971   \n",
       "Allegheny    Pennsylvania  Not Stated               11.877048  0.012941   \n",
       "Baltimore    Maryland      Not Stated               11.198502  0.013198   \n",
       "Barnstable   Massachusetts Not Stated                6.424027  0.015358   \n",
       "...                                                       ...       ...   \n",
       "Westchester  New York      Not Stated               10.631142  0.013390   \n",
       "Westmoreland Pennsylvania  Not Stated               10.504574  0.013535   \n",
       "Worcester    Massachusetts Not Stated                8.475393  0.014392   \n",
       "York         Pennsylvania  Not Stated               12.438659  0.012652   \n",
       "Ziebach      South Dakota  Not Hispanic or Latino         NaN       NaN   \n",
       "\n",
       "                                                      AF_PM  \n",
       "county       state         Race/Hispanic Origin              \n",
       "Adams        Colorado      Not Stated             -0.002016  \n",
       "Alameda      California    Not Stated             -0.000590  \n",
       "Allegheny    Pennsylvania  Not Stated              0.007019  \n",
       "Baltimore    Maryland      Not Stated              0.004148  \n",
       "Barnstable   Massachusetts Not Stated              0.000689  \n",
       "...                                                     ...  \n",
       "Westchester  New York      Not Stated              0.001663  \n",
       "Westmoreland Pennsylvania  Not Stated              0.007016  \n",
       "Worcester    Massachusetts Not Stated              0.000945  \n",
       "York         Pennsylvania  Not Stated              0.004924  \n",
       "Ziebach      South Dakota  Not Hispanic or Latino       NaN  \n",
       "\n",
       "[123 rows x 9 columns]"
      ]
     },
     "execution_count": 31,
     "metadata": {},
     "output_type": "execute_result"
    }
   ],
   "source": [
    "mort_df['Population'] = mort_df['Population'].astype(float)\n",
    "#join our two dataframes\n",
    "full_df = mort_df.groupby(['county','state','Race/Hispanic Origin']).mean().join(poll_df.groupby(['county','state']).mean(), on=['county','state'])\n",
    "#check that there are no nans\n",
    "full_df[full_df.isna().any(axis=1)]"
   ]
  },
  {
   "cell_type": "code",
   "execution_count": 32,
   "metadata": {},
   "outputs": [],
   "source": [
    "full_df['mortality_0'] = full_df['Deaths']/full_df['Population']\n",
    "full_df['Δmortality_PM'] = full_df['AF_PM'] * full_df['Population'] * full_df['mortality_0']"
   ]
  },
  {
   "cell_type": "markdown",
   "metadata": {},
   "source": [
    "# Calculations for Ozone"
   ]
  },
  {
   "cell_type": "markdown",
   "metadata": {},
   "source": [
    "(hazard ratio [HR] per 10 ppb, 1.02; 95% confidence interval [CI], 1.01–1.04) from Turner 2016 (which is used in the latest regulatory impact analysis for CSAPR https://www.epa.gov/sites/production/files/2021-03/documents/revised_csapr_update_ria_final.pdf) \n",
    "\n",
    "ΔM≃β_LL×I_OBS×(Δχ×p_aff )   "
   ]
  },
  {
   "cell_type": "code",
   "execution_count": 34,
   "metadata": {},
   "outputs": [],
   "source": [
    "#bootstrap function    \n",
    "def draw_bs(x, size):\n",
    "    #Perform pairs bootstrap for linear regression\n",
    "\n",
    "    # Set up array of indices to sample from: inds\n",
    "    inds = np.arange(0,len(x))\n",
    "\n",
    "    # Generate replicates\n",
    "    bs_inds = np.random.choice(inds, size=size)\n",
    "    bs_val= x[bs_inds]\n",
    "        \n",
    "    return bs_val"
   ]
  },
  {
   "cell_type": "code",
   "execution_count": 35,
   "metadata": {},
   "outputs": [],
   "source": [
    "delta_chi = 10 #ppb\n",
    "RR = 1.02 #\n",
    "β = np.log(RR)/delta_chi\n",
    "CI_min = 1.01\n",
    "sd = (β-(np.log(CI_min)/delta_chi))/2\n",
    "draws = 1000\n",
    "#create normal distribution around our beta\n",
    "β_normal_dist = np.random.normal(β, sd, draws)\n"
   ]
  },
  {
   "cell_type": "code",
   "execution_count": 36,
   "metadata": {},
   "outputs": [],
   "source": [
    "full_df['Δmortality_O3'] = (full_df['nonuc_O3'] - full_df['normal_O3'] ) * full_df['Population'] * full_df['mortality_0'] * draw_bs(β_normal_dist, size=1000).mean()"
   ]
  },
  {
   "cell_type": "code",
   "execution_count": 37,
   "metadata": {},
   "outputs": [
    {
     "data": {
      "text/plain": [
       "4137.726116412966"
      ]
     },
     "execution_count": 37,
     "metadata": {},
     "output_type": "execute_result"
    }
   ],
   "source": [
    "full_df['Δmortality_O3'].sum()"
   ]
  },
  {
   "cell_type": "markdown",
   "metadata": {},
   "source": [
    "# Analysis"
   ]
  },
  {
   "cell_type": "code",
   "execution_count": 38,
   "metadata": {},
   "outputs": [
    {
     "name": "stdout",
     "output_type": "stream",
     "text": [
      "American Indian or Alaska Native O3 0.0981685915221893 per 100,000\n",
      "American Indian or Alaska Native PM -0.1766050044705393 per 100,000\n",
      "Asian or Pacific Islander O3 0.07152064403899523 per 100,000\n",
      "Asian or Pacific Islander PM 0.042458025679373144 per 100,000\n",
      "Black or African American O3 0.7660251358859734 per 100,000\n",
      "Black or African American PM 1.5728973378742868 per 100,000\n",
      "Hispanic or Latino O3 0.04933032054554193 per 100,000\n",
      "Hispanic or Latino PM -0.120686558346424 per 100,000\n",
      "Not Hispanic or Latino O3 0.7865792478566037 per 100,000\n",
      "Not Hispanic or Latino PM 1.7331963430175363 per 100,000\n",
      "Not Stated O3 nan per 100,000\n",
      "Not Stated PM nan per 100,000\n",
      "White O3 0.6945728794662013 per 100,000\n",
      "White PM 1.5247904991886891 per 100,000\n",
      "Total mortalities American Indian or Alaska Native O3 3.0399082387944185\n",
      "Total mortalities American Indian or Alaska Native PM -5.4687858894356145\n",
      "Total mortalities Asian or Pacific Islander O3 12.85282260127603\n",
      "Total mortalities Asian or Pacific Islander PM 7.6300413592454515\n",
      "Total mortalities Black or African American O3 329.94698864112996\n",
      "Total mortalities Black or African American PM 677.4878731270803\n",
      "Total mortalities Hispanic or Latino O3 26.838147820267142\n",
      "Total mortalities Hispanic or Latino PM -65.65949008643402\n",
      "Total mortalities Not Hispanic or Latino O3 2045.9350202964856\n",
      "Total mortalities Not Hispanic or Latino PM 4508.137107471501\n",
      "Total mortalities Not Stated O3 0.0\n",
      "Total mortalities Not Stated PM 0.0\n",
      "Total mortalities White O3 1719.113228815013\n",
      "Total mortalities White PM 3773.95604668765\n"
     ]
    }
   ],
   "source": [
    "for race in np.unique(mort_df['Race/Hispanic Origin']):\n",
    "    for poll in ['O3','PM']:\n",
    "        print(race, poll, 1e5*full_df.xs(race, level = 2)[f'Δmortality_{poll}'].sum()/full_df.xs(race, level = 2)['Population'].sum(), 'per 100,000')\n",
    "for race in np.unique(mort_df['Race/Hispanic Origin']):\n",
    "    for poll in ['O3','PM']:\n",
    "        print('Total mortalities', race, poll, full_df.xs(race, level = 2)[f'Δmortality_{poll}'].sum())"
   ]
  },
  {
   "cell_type": "markdown",
   "metadata": {},
   "source": [
    "### Separate nuclear and no nuclear locations"
   ]
  },
  {
   "cell_type": "code",
   "execution_count": 40,
   "metadata": {
    "tags": []
   },
   "outputs": [],
   "source": [
    "#remove counties from list that do not have mortality data\n",
    "df.drop(df.loc[(df['CountyName'] == 'borden') & (df['StateName'] == 'texas')].index, inplace = True)\n",
    "df.drop(df.loc[(df['CountyName'] == 'clark') & (df['StateName'] == 'idaho')].index, inplace = True)\n",
    "df.drop(df.loc[(df['CountyName'] == 'glasscock') & (df['StateName'] == 'texas')].index, inplace = True)\n",
    "df.drop(df.loc[(df['CountyName'] == 'kenedy') & (df['StateName'] == 'texas')].index, inplace = True)\n",
    "df.drop(df.loc[(df['CountyName'] == 'kent') & (df['StateName'] == 'texas')].index, inplace = True)\n",
    "df.drop(df.loc[(df['CountyName'] == 'keya paha') & (df['StateName'] == 'nebraska')].index, inplace = True)\n",
    "df.drop(df.loc[(df['CountyName'] == 'roberts') & (df['StateName'] == 'texas')].index, inplace = True)"
   ]
  },
  {
   "cell_type": "code",
   "execution_count": 41,
   "metadata": {},
   "outputs": [],
   "source": [
    "#rename counties to match both dataframes\n",
    "df.loc[df['CountyName'] == 'doña ana', 'CountyName'] = 'dona ana' \n",
    "df.loc[df['CountyName'] == 'laporte', 'CountyName'] = 'la porte' "
   ]
  },
  {
   "cell_type": "code",
   "execution_count": 42,
   "metadata": {
    "tags": []
   },
   "outputs": [],
   "source": [
    "state_county_nuc = list(df.loc[df['FuelType'] == 'Nuclear'][['CountyName','StateName']].drop_duplicates().itertuples(index=False, name=None))\n",
    "state_county_nonuc = list(df.groupby(['CountyName','StateName']).first().drop(state_county_nuc).reset_index()[['CountyName','StateName']].drop_duplicates().itertuples(index=False, name=None))"
   ]
  },
  {
   "cell_type": "code",
   "execution_count": 49,
   "metadata": {},
   "outputs": [],
   "source": [
    "#nuclear df\n",
    "nuclear_df = full_df.reset_index()\n",
    "nuclear_df['county'] = nuclear_df['county'].str.lower()\n",
    "nuclear_df['state'] = nuclear_df['state'].str.lower()\n",
    "nuclear_df = nuclear_df.set_index(['county','state']).loc[state_county_nuc].reset_index().set_index(['county','state','Race/Hispanic Origin'])\n",
    "#no nuclear df\n",
    "no_nuclear_df = full_df.reset_index()\n",
    "no_nuclear_df['county'] = no_nuclear_df['county'].str.lower()\n",
    "no_nuclear_df['state'] = no_nuclear_df['state'].str.lower()\n",
    "no_nuclear_df = no_nuclear_df.set_index(['county','state']).loc[state_county_nonuc].reset_index().set_index(['county','state','Race/Hispanic Origin'])"
   ]
  },
  {
   "cell_type": "markdown",
   "metadata": {},
   "source": [
    "### Separate coal and no coal counties"
   ]
  },
  {
   "cell_type": "code",
   "execution_count": 44,
   "metadata": {},
   "outputs": [],
   "source": [
    "state_county_coal = list(df.loc[df['FuelType'] == 'Coal'][['CountyName','StateName']].drop_duplicates().itertuples(index=False, name=None))\n",
    "state_county_nocoal = list(df.groupby(['CountyName','StateName']).first().drop(state_county_coal).reset_index()[['CountyName','StateName']].drop_duplicates().itertuples(index=False, name=None))"
   ]
  },
  {
   "cell_type": "code",
   "execution_count": 46,
   "metadata": {},
   "outputs": [],
   "source": [
    "#nuclear df\n",
    "coal_df = full_df.reset_index()\n",
    "coal_df['county'] = coal_df['county'].str.lower()\n",
    "coal_df['state'] = coal_df['state'].str.lower()\n",
    "coal_df = coal_df.set_index(['county','state']).loc[state_county_coal].reset_index().set_index(['county','state','Race/Hispanic Origin'])\n",
    "#no nuclear df\n",
    "no_coal_df = full_df.reset_index()\n",
    "no_coal_df['county'] = no_coal_df['county'].str.lower()\n",
    "no_coal_df['state'] = no_coal_df['state'].str.lower()\n",
    "no_coal_df = no_coal_df.set_index(['county','state']).loc[state_county_nocoal].reset_index().set_index(['county','state','Race/Hispanic Origin'])"
   ]
  },
  {
   "cell_type": "markdown",
   "metadata": {},
   "source": [
    "### Separate ng and no ng counties"
   ]
  },
  {
   "cell_type": "code",
   "execution_count": 47,
   "metadata": {},
   "outputs": [],
   "source": [
    "state_county_natgas = list(df.loc[df['FuelType'] == 'Coal'][['CountyName','StateName']].drop_duplicates().itertuples(index=False, name=None))\n",
    "state_county_nonatgas = list(df.groupby(['CountyName','StateName']).first().drop(state_county_natgas).reset_index()[['CountyName','StateName']].drop_duplicates().itertuples(index=False, name=None))"
   ]
  },
  {
   "cell_type": "code",
   "execution_count": 48,
   "metadata": {},
   "outputs": [],
   "source": [
    "#nuclear df\n",
    "natgas_df = full_df.reset_index()\n",
    "natgas_df['county'] = natgas_df['county'].str.lower()\n",
    "natgas_df['state'] = natgas_df['state'].str.lower()\n",
    "natgas_df = natgas_df.set_index(['county','state']).loc[state_county_natgas].reset_index().set_index(['county','state','Race/Hispanic Origin'])\n",
    "#no nuclear df\n",
    "no_natgas_df = full_df.reset_index()\n",
    "no_natgas_df['county'] = no_natgas_df['county'].str.lower()\n",
    "no_natgas_df['state'] = no_natgas_df['state'].str.lower()\n",
    "no_natgas_df = no_natgas_df.set_index(['county','state']).loc[state_county_nonatgas].reset_index().set_index(['county','state','Race/Hispanic Origin'])"
   ]
  },
  {
   "cell_type": "markdown",
   "metadata": {},
   "source": [
    "### Analyze county makeup"
   ]
  },
  {
   "cell_type": "code",
   "execution_count": 118,
   "metadata": {},
   "outputs": [],
   "source": [
    "full_df.reset_index(inplace = True)\n",
    "full_df['county'] = full_df['county'].str.lower()\n",
    "full_df['state'] = full_df['state'].str.lower()\n",
    "full_df.set_index(['county','state','Race/Hispanic Origin'], inplace = True)"
   ]
  },
  {
   "cell_type": "code",
   "execution_count": 131,
   "metadata": {},
   "outputs": [
    {
     "data": {
      "text/plain": [
       "county\n",
       "manitowoc    0.148757\n",
       "dtype: float64"
      ]
     },
     "execution_count": 131,
     "metadata": {},
     "output_type": "execute_result"
    }
   ],
   "source": [
    "nuclear_df.xs(race, level = 2)[f'nonuc_{poll}'].xs(state, level = 1) - nuclear_df.xs(race, level = 2)[f'normal_{poll}'].xs(state, level = 1)"
   ]
  },
  {
   "cell_type": "code",
   "execution_count": 137,
   "metadata": {},
   "outputs": [
    {
     "data": {
      "text/plain": [
       "0.15953107224661522"
      ]
     },
     "execution_count": 137,
     "metadata": {},
     "output_type": "execute_result"
    }
   ],
   "source": [
    "no_nuclear_df.xs(race, level = 2)[f'nonuc_{poll}'].groupby('state').mean().loc[state] - no_nuclear_df.xs(race, level = 2)[f'normal_{poll}'].groupby('state').mean().loc[state]"
   ]
  },
  {
   "cell_type": "code",
   "execution_count": 136,
   "metadata": {},
   "outputs": [
    {
     "data": {
      "text/plain": [
       "0.15396898455696828"
      ]
     },
     "execution_count": 136,
     "metadata": {},
     "output_type": "execute_result"
    }
   ],
   "source": [
    "full_df.xs(race, level = 2)[f'nonuc_{poll}'].groupby('state').mean().loc[state] - full_df.xs(race, level = 2)[f'normal_{poll}'].groupby('state').mean().loc[state]"
   ]
  },
  {
   "cell_type": "code",
   "execution_count": 143,
   "metadata": {},
   "outputs": [
    {
     "name": "stdout",
     "output_type": "stream",
     "text": [
      "American Indian or Alaska Native PM25 arizona [101.61749324]\n",
      "American Indian or Alaska Native PM25 california [79.00550659]\n",
      "American Indian or Alaska Native PM25 florida [-2307.22561359]\n",
      "American Indian or Alaska Native PM25 michigan [146.37932362 151.38237863]\n",
      "American Indian or Alaska Native PM25 north carolina [ 98.34581437 108.3996364 ]\n",
      "American Indian or Alaska Native PM25 south carolina [99.12941767]\n",
      "American Indian or Alaska Native PM25 washington [120.92345119]\n",
      "American Indian or Alaska Native O3 arizona [88.16873249]\n",
      "American Indian or Alaska Native O3 california [79.6612557]\n",
      "American Indian or Alaska Native O3 florida [-25.44266106]\n",
      "American Indian or Alaska Native O3 michigan [234.16243448 229.06518101]\n",
      "American Indian or Alaska Native O3 north carolina [111.65261739 108.29152092]\n",
      "American Indian or Alaska Native O3 south carolina [119.67563643]\n",
      "American Indian or Alaska Native O3 washington [-40.92004868]\n",
      "Asian or Pacific Islander PM25 arizona [98.57414284]\n",
      "Asian or Pacific Islander PM25 california [82.44223146]\n",
      "Asian or Pacific Islander PM25 connecticut [76.0107111]\n",
      "Asian or Pacific Islander PM25 florida [-813.64744562]\n",
      "Asian or Pacific Islander PM25 illinois [112.21397267  94.31644664]\n",
      "Asian or Pacific Islander PM25 iowa [111.77005565]\n",
      "Asian or Pacific Islander PM25 maryland [76.06499448]\n",
      "Asian or Pacific Islander PM25 massachusetts [83.8706712]\n",
      "Asian or Pacific Islander PM25 michigan [118.51134735]\n",
      "Asian or Pacific Islander PM25 new hampshire [86.13716025]\n",
      "Asian or Pacific Islander PM25 new jersey [94.6744227]\n",
      "Asian or Pacific Islander PM25 new york [90.87771574]\n",
      "Asian or Pacific Islander PM25 north carolina [ 92.25784246 101.68929549]\n",
      "Asian or Pacific Islander PM25 ohio [72.74016993]\n",
      "Asian or Pacific Islander PM25 pennsylvania [127.44157958  79.19898316  89.85375416 145.61145993]\n",
      "Asian or Pacific Islander PM25 south carolina [141.19546698]\n",
      "Asian or Pacific Islander PM25 tennessee [86.1214199]\n",
      "Asian or Pacific Islander PM25 washington [123.17470132]\n",
      "Asian or Pacific Islander PM25 wisconsin [81.12904851]\n",
      "Asian or Pacific Islander O3 arizona [101.49193315]\n",
      "Asian or Pacific Islander O3 california [83.13580367]\n",
      "Asian or Pacific Islander O3 connecticut [102.03298871]\n",
      "Asian or Pacific Islander O3 florida [-25.68603107]\n",
      "Asian or Pacific Islander O3 illinois [107.23722491  58.37179638]\n",
      "Asian or Pacific Islander O3 iowa [120.49059416]\n",
      "Asian or Pacific Islander O3 maryland [95.91408558]\n",
      "Asian or Pacific Islander O3 massachusetts [105.58255554]\n",
      "Asian or Pacific Islander O3 michigan [146.7097792]\n",
      "Asian or Pacific Islander O3 new hampshire [86.72526335]\n",
      "Asian or Pacific Islander O3 new jersey [112.65407677]\n",
      "Asian or Pacific Islander O3 new york [65.02134855]\n",
      "Asian or Pacific Islander O3 north carolina [124.39022957 120.64569073]\n",
      "Asian or Pacific Islander O3 ohio [109.41526176]\n",
      "Asian or Pacific Islander O3 pennsylvania [132.57257822 106.79819386 128.25436788 137.76444259]\n",
      "Asian or Pacific Islander O3 south carolina [137.99673911]\n",
      "Asian or Pacific Islander O3 tennessee [95.93392277]\n",
      "Asian or Pacific Islander O3 washington [-34.40083474]\n",
      "Asian or Pacific Islander O3 wisconsin [96.0196876]\n",
      "Black or African American PM25 alabama [44.78820526]\n",
      "Black or African American PM25 arizona [99.18011782]\n",
      "Black or African American PM25 arkansas [98.9969357]\n",
      "Black or African American PM25 california [82.77871516]\n",
      "Black or African American PM25 connecticut [81.76774064]\n",
      "Black or African American PM25 florida [-1184.00767428]\n",
      "Black or African American PM25 georgia [79.8771216  48.64596956]\n",
      "Black or African American PM25 illinois [99.07307308 83.27144996]\n",
      "Black or African American PM25 iowa [116.00161242]\n",
      "Black or African American PM25 louisiana [ 90.14574602 136.10967129]\n",
      "Black or African American PM25 maryland [82.30715191]\n",
      "Black or African American PM25 massachusetts [81.91382807]\n",
      "Black or African American PM25 michigan [112.77903137 112.46431594 116.30820007]\n",
      "Black or African American PM25 mississippi [66.61568662]\n",
      "Black or African American PM25 missouri [92.87701739]\n",
      "Black or African American PM25 new jersey [ 94.25022023 132.06293858]\n",
      "Black or African American PM25 new york [121.9562738   89.60911054]\n",
      "Black or African American PM25 north carolina [ 60.17113031  95.77649777 105.5676604 ]\n",
      "Black or African American PM25 ohio [72.44924486]\n",
      "Black or African American PM25 pennsylvania [112.14751542  69.69443736  79.07054599 128.13685691 150.83288075]\n",
      "Black or African American PM25 south carolina [111.42883779 121.60326956 128.53909924 133.60169085]\n",
      "Black or African American PM25 tennessee [91.77639442]\n",
      "Black or African American PM25 texas [-65.49806046]\n",
      "Black or African American PM25 virginia [ 78.33433337 102.57009407]\n",
      "Black or African American PM25 washington [109.85217918]\n",
      "Black or African American O3 alabama [46.39895559]\n",
      "Black or African American O3 arizona [91.40591111]\n",
      "Black or African American O3 arkansas [89.7941263]\n",
      "Black or African American O3 california [82.78452821]\n",
      "Black or African American O3 connecticut [102.63951859]\n",
      "Black or African American O3 florida [-28.64527967]\n",
      "Black or African American O3 georgia [100.08183021  57.0534633 ]\n",
      "Black or African American O3 illinois [68.10954224 37.07365921]\n",
      "Black or African American O3 iowa [102.66165645]\n",
      "Black or African American O3 louisiana [ 87.02099796 153.03206854]\n",
      "Black or African American O3 maryland [92.98508101]\n",
      "Black or African American O3 massachusetts [101.14758197]\n",
      "Black or African American O3 michigan [141.15144746 161.90923892 158.38479474]\n",
      "Black or African American O3 mississippi [76.38887789]\n",
      "Black or African American O3 missouri [92.80758592]\n",
      "Black or African American O3 new jersey [108.71341916 124.37051608]\n",
      "Black or African American O3 new york [116.5792227   56.89334055]\n",
      "Black or African American O3 north carolina [ 75.23322945 109.12648221 105.84143039]\n",
      "Black or African American O3 ohio [125.41741023]\n",
      "Black or African American O3 pennsylvania [ 115.63505684   93.15361731  111.86854264  120.16360671 -179.2197716 ]\n",
      "Black or African American O3 south carolina [107.90548237 101.65826528 112.99914251 126.27871006]\n",
      "Black or African American O3 tennessee [92.68699941]\n",
      "Black or African American O3 texas [36.70380517]\n",
      "Black or African American O3 virginia [105.98413165  98.29904089]\n",
      "Black or African American O3 washington [-80.92807573]\n",
      "Hispanic or Latino PM25 arizona [96.86087194]\n",
      "Hispanic or Latino PM25 california [81.48525909]\n",
      "Hispanic or Latino PM25 connecticut [81.76774064]\n",
      "Hispanic or Latino PM25 florida [3264.71745491 5132.22552494]\n",
      "Hispanic or Latino PM25 illinois [100.53722201  98.55598609 108.71162286  91.37270282  91.16942052]\n",
      "Hispanic or Latino PM25 iowa [129.24316691]\n",
      "Hispanic or Latino PM25 louisiana [87.04198688]\n",
      "Hispanic or Latino PM25 massachusetts [80.88973875]\n",
      "Hispanic or Latino PM25 michigan [117.69367953 117.36524954 121.37664121]\n",
      "Hispanic or Latino PM25 new jersey [ 94.25022023 132.06293858]\n",
      "Hispanic or Latino PM25 new york [88.80486781 90.90221658]\n",
      "Hispanic or Latino PM25 north carolina [ 57.79690856  91.99736578 101.40219046]\n",
      "Hispanic or Latino PM25 ohio [76.95956893]\n",
      "Hispanic or Latino PM25 pennsylvania [116.14844057  72.18082527  81.89143182 132.70821074]\n",
      "Hispanic or Latino PM25 south carolina [136.95284143 142.34681347]\n",
      "Hispanic or Latino PM25 tennessee [90.36074763]\n",
      "Hispanic or Latino PM25 texas [70.11828061]\n",
      "Hispanic or Latino PM25 washington [112.56520265]\n",
      "Hispanic or Latino O3 arizona [87.38784854]\n",
      "Hispanic or Latino O3 california [76.96641431]\n",
      "Hispanic or Latino O3 connecticut [102.63951859]\n",
      "Hispanic or Latino O3 florida [ -0.43865308 -31.99724148]\n",
      "Hispanic or Latino O3 illinois [103.68957787  85.35375212  98.90380542  53.83571607  88.35200164]\n",
      "Hispanic or Latino O3 iowa [144.59468085]\n",
      "Hispanic or Latino O3 louisiana [79.11487138]\n",
      "Hispanic or Latino O3 massachusetts [102.48741307]\n",
      "Hispanic or Latino O3 michigan [150.96475103 173.16569107 169.39621616]\n",
      "Hispanic or Latino O3 new jersey [108.71341916 124.37051608]\n",
      "Hispanic or Latino O3 new york [98.60118679 58.73923446]\n",
      "Hispanic or Latino O3 north carolina [ 76.67717069 111.22093209 107.87283071]\n",
      "Hispanic or Latino O3 ohio [127.45736861]\n",
      "Hispanic or Latino O3 pennsylvania [135.16082247 108.88323902 130.75830674 140.45404878]\n",
      "Hispanic or Latino O3 south carolina [121.54376035 135.82748445]\n",
      "Hispanic or Latino O3 tennessee [93.96279549]\n",
      "Hispanic or Latino O3 texas [44.08120015]\n",
      "Hispanic or Latino O3 washington [-41.1618783]\n",
      "Not Hispanic or Latino PM25 alabama [143.94263147  45.8253661 ]\n",
      "Not Hispanic or Latino PM25 arizona [96.86087194]\n",
      "Not Hispanic or Latino PM25 arkansas [94.15566625]\n",
      "Not Hispanic or Latino PM25 california [79.16400403]\n",
      "Not Hispanic or Latino PM25 connecticut [81.76774064]\n",
      "Not Hispanic or Latino PM25 florida [-606.72992512 -953.79610991]\n",
      "Not Hispanic or Latino PM25 georgia [77.11981567 46.96674255]\n",
      "Not Hispanic or Latino PM25 illinois [99.24787855 81.45869363 79.85342857 88.0818726  74.03328693 73.86858067]\n",
      "Not Hispanic or Latino PM25 iowa [130.07741586]\n",
      "Not Hispanic or Latino PM25 kansas [375.37155946]\n",
      "Not Hispanic or Latino PM25 louisiana [ 90.14574602 136.10967129]\n",
      "Not Hispanic or Latino PM25 maryland [81.56225684]\n",
      "Not Hispanic or Latino PM25 massachusetts [84.39996975]\n",
      "Not Hispanic or Latino PM25 michigan [187.32701458 186.80426934 193.18899644]\n",
      "Not Hispanic or Latino PM25 minnesota [ 91.6004147  144.82933607]\n",
      "Not Hispanic or Latino PM25 mississippi [66.61568662]\n",
      "Not Hispanic or Latino PM25 missouri [99.66818742]\n",
      "Not Hispanic or Latino PM25 nebraska [218.12477204 204.69996144]\n",
      "Not Hispanic or Latino PM25 new hampshire [112.20836051]\n",
      "Not Hispanic or Latino PM25 new jersey [ 94.25022023 132.06293858]\n",
      "Not Hispanic or Latino PM25 new york [123.98278843  88.99625224  91.09812104]\n",
      "Not Hispanic or Latino PM25 north carolina [ 61.76322437  98.31068971 108.36092097]\n",
      "Not Hispanic or Latino PM25 ohio [72.95207548 77.435586  ]\n",
      "Not Hispanic or Latino PM25 pennsylvania [111.16526466  69.08401444  78.37800186 127.01456255 149.5118019 ]\n",
      "Not Hispanic or Latino PM25 south carolina [111.42883779 121.60326956 128.53909924 133.60169085]\n",
      "Not Hispanic or Latino PM25 tennessee [92.27211308 88.27335891]\n",
      "Not Hispanic or Latino PM25 texas [-268.50800379   93.18299568]\n",
      "Not Hispanic or Latino PM25 virginia [ 77.54629357 101.53824363]\n",
      "Not Hispanic or Latino PM25 washington [104.81717341]\n",
      "Not Hispanic or Latino PM25 wisconsin [83.43677039]\n",
      "Not Hispanic or Latino O3 alabama [122.95205738  46.42400299]\n",
      "Not Hispanic or Latino O3 arizona [87.38784854]\n",
      "Not Hispanic or Latino O3 arkansas [92.59178211]\n",
      "Not Hispanic or Latino O3 california [72.74407912]\n",
      "Not Hispanic or Latino O3 connecticut [102.63951859]\n",
      "Not Hispanic or Latino O3 florida [ -0.38782644 -28.28972838]\n",
      "Not Hispanic or Latino O3 georgia [98.05798406 55.89973308]\n",
      "Not Hispanic or Latino O3 illinois [98.90561444 56.69009815 46.66537066 54.07357761 29.43354665 48.30460059]\n",
      "Not Hispanic or Latino O3 iowa [121.35679397]\n",
      "Not Hispanic or Latino O3 kansas [224.49220409]\n",
      "Not Hispanic or Latino O3 louisiana [ 87.02099796 153.03206854]\n",
      "Not Hispanic or Latino O3 maryland [90.19394975]\n",
      "Not Hispanic or Latino O3 massachusetts [101.91489922]\n",
      "Not Hispanic or Latino O3 michigan [195.83384318 224.63325085 219.74342888]\n",
      "Not Hispanic or Latino O3 minnesota [ 90.25762043 169.27096844]\n",
      "Not Hispanic or Latino O3 mississippi [76.38887789]\n",
      "Not Hispanic or Latino O3 missouri [105.6951582]\n",
      "Not Hispanic or Latino O3 nebraska [128.89843453 894.30892218]\n",
      "Not Hispanic or Latino O3 new hampshire [101.47032202]\n",
      "Not Hispanic or Latino O3 new jersey [108.71341916 124.37051608]\n",
      "Not Hispanic or Latino O3 new york [113.36608619  92.87039504  55.32525608]\n",
      "Not Hispanic or Latino O3 north carolina [ 75.81990292 109.97745741 106.66678855]\n",
      "Not Hispanic or Latino O3 ohio [121.09382808  75.91035963]\n",
      "Not Hispanic or Latino O3 pennsylvania [ 137.46354102  110.73826956  132.98602016  142.84694738 -213.05117237]\n",
      "Not Hispanic or Latino O3 south carolina [107.90548237 101.65826528 112.99914251 126.27871006]\n",
      "Not Hispanic or Latino O3 tennessee [91.43150806 89.75999294]\n",
      "Not Hispanic or Latino O3 texas [149.07840446  41.99305214]\n",
      "Not Hispanic or Latino O3 virginia [107.19551426  99.42258407]\n",
      "Not Hispanic or Latino O3 washington [-47.69131705]\n",
      "Not Hispanic or Latino O3 wisconsin [93.24636522]\n",
      "Not Stated PM25 arizona [94.64361281]\n",
      "Not Stated PM25 massachusetts [81.38910609]\n",
      "Not Stated PM25 michigan [127.27916934]\n",
      "Not Stated PM25 new york [85.44199391]\n",
      "Not Stated PM25 north carolina [85.41189644 94.14349332]\n",
      "Not Stated PM25 pennsylvania [124.20302289  77.1863716   87.57038261 141.91116864 167.04694412]\n",
      "Not Stated O3 arizona [99.65085606]\n",
      "Not Stated O3 massachusetts [102.87670544]\n",
      "Not Stated O3 michigan [170.15293642]\n",
      "Not Stated O3 new york [66.25759117]\n",
      "Not Stated O3 north carolina [98.78043789 95.80683468]\n",
      "Not Stated O3 pennsylvania [ 133.45574213  107.50965555  129.108765    138.68219334 -206.83958894]\n",
      "White PM25 alabama [45.74402379]\n",
      "White PM25 arizona [98.41932597]\n",
      "White PM25 arkansas [88.26538793]\n",
      "White PM25 california [79.16400403]\n",
      "White PM25 connecticut [81.76774064]\n",
      "White PM25 florida [-905.26905173]\n",
      "White PM25 georgia [77.11981567 46.96674255]\n",
      "White PM25 illinois [99.24787855 81.45869363 79.85342857 88.0818726  74.03328693 73.86858067]\n",
      "White PM25 iowa [131.28688316]\n",
      "White PM25 kansas [375.37155946]\n",
      "White PM25 louisiana [ 90.14574602 136.10967129]\n",
      "White PM25 maryland [81.56225684]\n",
      "White PM25 massachusetts [84.39996975]\n",
      "White PM25 michigan [187.32701458 186.80426934 193.18899644]\n",
      "White PM25 minnesota [ 91.6004147  144.82933607]\n",
      "White PM25 mississippi [66.61568662]\n",
      "White PM25 missouri [99.66818742]\n",
      "White PM25 nebraska [218.12477204 204.69996144]\n",
      "White PM25 new hampshire [112.20836051]\n",
      "White PM25 new jersey [ 94.25022023 132.06293858]\n",
      "White PM25 new york [123.98278843  88.99625224  91.09812104]\n",
      "White PM25 north carolina [ 61.76322437  98.31068971 108.36092097]\n",
      "White PM25 ohio [72.95207548 77.435586  ]\n",
      "White PM25 pennsylvania [111.16526466  69.08401444  78.37800186 127.01456255 149.5118019 ]\n",
      "White PM25 south carolina [111.42883779 121.60326956 128.53909924 133.60169085]\n",
      "White PM25 tennessee [92.27211308 88.27335891]\n",
      "White PM25 texas [-197.04071011   68.38099192]\n",
      "White PM25 virginia [ 77.54629357 101.53824363]\n",
      "White PM25 washington [104.81717341]\n",
      "White PM25 wisconsin [83.43677039]\n",
      "White O3 alabama [47.07631082]\n",
      "White O3 arizona [91.64461506]\n",
      "White O3 arkansas [88.47174014]\n",
      "White O3 california [72.74407912]\n",
      "White O3 connecticut [102.63951859]\n",
      "White O3 florida [-27.63818992]\n",
      "White O3 georgia [98.05798406 55.89973308]\n",
      "White O3 illinois [98.90561444 56.69009815 46.66537066 54.07357761 29.43354665 48.30460059]\n",
      "White O3 iowa [122.91711731]\n",
      "White O3 kansas [224.49220409]\n",
      "White O3 louisiana [ 87.02099796 153.03206854]\n",
      "White O3 maryland [90.19394975]\n",
      "White O3 massachusetts [101.91489922]\n",
      "White O3 michigan [195.83384318 224.63325085 219.74342888]\n",
      "White O3 minnesota [ 90.25762043 169.27096844]\n",
      "White O3 mississippi [76.38887789]\n",
      "White O3 missouri [105.6951582]\n",
      "White O3 nebraska [128.89843453 894.30892218]\n",
      "White O3 new hampshire [101.47032202]\n",
      "White O3 new jersey [108.71341916 124.37051608]\n",
      "White O3 new york [113.36608619  92.87039504  55.32525608]\n",
      "White O3 north carolina [ 75.81990292 109.97745741 106.66678855]\n",
      "White O3 ohio [121.09382808  75.91035963]\n",
      "White O3 pennsylvania [ 137.46354102  110.73826956  132.98602016  142.84694738 -213.05117237]\n",
      "White O3 south carolina [107.90548237 101.65826528 112.99914251 126.27871006]\n",
      "White O3 tennessee [91.43150806 89.75999294]\n",
      "White O3 texas [152.57825391  42.97890493]\n",
      "White O3 virginia [107.19551426  99.42258407]\n",
      "White O3 washington [-47.69131705]\n",
      "White O3 wisconsin [93.24636522]\n"
     ]
    }
   ],
   "source": [
    "for race in np.unique(mort_df['Race/Hispanic Origin']):\n",
    "    for poll in ['PM25','O3']:\n",
    "        for state in nuclear_df.xs(race, level = 2)[f'nonuc_{poll}'].groupby('state').sum().index:\n",
    "            print(race, poll, state, 100*((nuclear_df.xs(race, level = 2)[f'nonuc_{poll}'].xs(state, level = 1) - \n",
    "                   nuclear_df.xs(race, level = 2)[f'normal_{poll}'].xs(state, level = 1))\n",
    "                  /(no_nuclear_df.xs(race, level = 2)[f'nonuc_{poll}'].groupby('state').mean().loc[state] -\n",
    "                   no_nuclear_df.xs(race, level = 2)[f'normal_{poll}'].groupby('state').mean().loc[state])).values)"
   ]
  },
  {
   "cell_type": "code",
   "execution_count": 106,
   "metadata": {},
   "outputs": [
    {
     "data": {
      "text/plain": [
       "county\n",
       "somervell    0.043059\n",
       "matagorda   -0.064816\n",
       "Name: Δmortality_PM, dtype: float64"
      ]
     },
     "execution_count": 106,
     "metadata": {},
     "output_type": "execute_result"
    }
   ],
   "source": []
  },
  {
   "cell_type": "code",
   "execution_count": null,
   "metadata": {},
   "outputs": [],
   "source": [
    "nuclear_df.xs((state for state in (nuclear_df.xs(race, level = 2).reset_index()['state'])), level = 1).xs(race, level = 1)[f'Δmortality_{poll}'].sum()"
   ]
  },
  {
   "cell_type": "code",
   "execution_count": 92,
   "metadata": {
    "collapsed": true,
    "jupyter": {
     "outputs_hidden": true
    },
    "tags": []
   },
   "outputs": [
    {
     "name": "stderr",
     "output_type": "stream",
     "text": [
      "/tmp/ipykernel_47523/409362588.py:1: FutureWarning: Passing lists as key for xs is deprecated and will be removed in a future version. Pass key as a tuple instead.\n",
      "  nuclear_df.xs(race, level = 2)[f'Δmortality_{poll}']/nuclear_df.xs([s for s in (nuclear_df.xs(race, level = 2).reset_index()['state']).values], level = 1).xs(race, level = 1)[f'Δmortality_{poll}'].sum()\n"
     ]
    },
    {
     "ename": "KeyError",
     "evalue": "('texas', 'texas', 'florida', 'iowa', 'illinois', 'michigan', 'michigan', 'minnesota', 'minnesota', 'missouri', 'wisconsin', 'massachusetts', 'new hampshire', 'connecticut', 'new york', 'new york', 'new york', 'ohio', 'ohio', 'illinois', 'illinois', 'illinois', 'illinois', 'illinois', 'virginia', 'virginia', 'new jersey', 'new jersey', 'pennsylvania', 'pennsylvania', 'maryland', 'pennsylvania', 'pennsylvania', 'michigan', 'pennsylvania', 'kansas', 'nebraska', 'nebraska', 'tennessee', 'tennessee', 'louisiana', 'arkansas', 'mississippi', 'louisiana', 'georgia', 'alabama', 'georgia', 'south carolina', 'south carolina', 'south carolina', 'north carolina', 'north carolina', 'south carolina', 'north carolina', 'arizona', 'washington', 'california')",
     "output_type": "error",
     "traceback": [
      "\u001b[0;31m---------------------------------------------------------------------------\u001b[0m",
      "\u001b[0;31mKeyError\u001b[0m                                  Traceback (most recent call last)",
      "\u001b[0;32m~/anaconda3/envs/grid_mod/lib/python3.9/site-packages/pandas/core/indexes/base.py\u001b[0m in \u001b[0;36mget_loc\u001b[0;34m(self, key, method, tolerance)\u001b[0m\n\u001b[1;32m   3360\u001b[0m             \u001b[0;32mtry\u001b[0m\u001b[0;34m:\u001b[0m\u001b[0;34m\u001b[0m\u001b[0;34m\u001b[0m\u001b[0m\n\u001b[0;32m-> 3361\u001b[0;31m                 \u001b[0;32mreturn\u001b[0m \u001b[0mself\u001b[0m\u001b[0;34m.\u001b[0m\u001b[0m_engine\u001b[0m\u001b[0;34m.\u001b[0m\u001b[0mget_loc\u001b[0m\u001b[0;34m(\u001b[0m\u001b[0mcasted_key\u001b[0m\u001b[0;34m)\u001b[0m\u001b[0;34m\u001b[0m\u001b[0;34m\u001b[0m\u001b[0m\n\u001b[0m\u001b[1;32m   3362\u001b[0m             \u001b[0;32mexcept\u001b[0m \u001b[0mKeyError\u001b[0m \u001b[0;32mas\u001b[0m \u001b[0merr\u001b[0m\u001b[0;34m:\u001b[0m\u001b[0;34m\u001b[0m\u001b[0;34m\u001b[0m\u001b[0m\n",
      "\u001b[0;32m~/anaconda3/envs/grid_mod/lib/python3.9/site-packages/pandas/_libs/index.pyx\u001b[0m in \u001b[0;36mpandas._libs.index.IndexEngine.get_loc\u001b[0;34m()\u001b[0m\n",
      "\u001b[0;32m~/anaconda3/envs/grid_mod/lib/python3.9/site-packages/pandas/_libs/index.pyx\u001b[0m in \u001b[0;36mpandas._libs.index.IndexEngine.get_loc\u001b[0;34m()\u001b[0m\n",
      "\u001b[0;32mpandas/_libs/hashtable_class_helper.pxi\u001b[0m in \u001b[0;36mpandas._libs.hashtable.PyObjectHashTable.get_item\u001b[0;34m()\u001b[0m\n",
      "\u001b[0;32mpandas/_libs/hashtable_class_helper.pxi\u001b[0m in \u001b[0;36mpandas._libs.hashtable.PyObjectHashTable.get_item\u001b[0;34m()\u001b[0m\n",
      "\u001b[0;31mKeyError\u001b[0m: ('texas', 'texas', 'florida', 'iowa', 'illinois', 'michigan', 'michigan', 'minnesota', 'minnesota', 'missouri', 'wisconsin', 'massachusetts', 'new hampshire', 'connecticut', 'new york', 'new york', 'new york', 'ohio', 'ohio', 'illinois', 'illinois', 'illinois', 'illinois', 'illinois', 'virginia', 'virginia', 'new jersey', 'new jersey', 'pennsylvania', 'pennsylvania', 'maryland', 'pennsylvania', 'pennsylvania', 'michigan', 'pennsylvania', 'kansas', 'nebraska', 'nebraska', 'tennessee', 'tennessee', 'louisiana', 'arkansas', 'mississippi', 'louisiana', 'georgia', 'alabama', 'georgia', 'south carolina', 'south carolina', 'south carolina', 'north carolina', 'north carolina', 'south carolina', 'north carolina', 'arizona', 'washington', 'california')",
      "\nThe above exception was the direct cause of the following exception:\n",
      "\u001b[0;31mKeyError\u001b[0m                                  Traceback (most recent call last)",
      "\u001b[0;32m/tmp/ipykernel_47523/409362588.py\u001b[0m in \u001b[0;36m<module>\u001b[0;34m\u001b[0m\n\u001b[0;32m----> 1\u001b[0;31m \u001b[0mnuclear_df\u001b[0m\u001b[0;34m.\u001b[0m\u001b[0mxs\u001b[0m\u001b[0;34m(\u001b[0m\u001b[0mrace\u001b[0m\u001b[0;34m,\u001b[0m \u001b[0mlevel\u001b[0m \u001b[0;34m=\u001b[0m \u001b[0;36m2\u001b[0m\u001b[0;34m)\u001b[0m\u001b[0;34m[\u001b[0m\u001b[0;34mf'Δmortality_{poll}'\u001b[0m\u001b[0;34m]\u001b[0m\u001b[0;34m/\u001b[0m\u001b[0mnuclear_df\u001b[0m\u001b[0;34m.\u001b[0m\u001b[0mxs\u001b[0m\u001b[0;34m(\u001b[0m\u001b[0;34m[\u001b[0m\u001b[0ms\u001b[0m \u001b[0;32mfor\u001b[0m \u001b[0ms\u001b[0m \u001b[0;32min\u001b[0m \u001b[0;34m(\u001b[0m\u001b[0mnuclear_df\u001b[0m\u001b[0;34m.\u001b[0m\u001b[0mxs\u001b[0m\u001b[0;34m(\u001b[0m\u001b[0mrace\u001b[0m\u001b[0;34m,\u001b[0m \u001b[0mlevel\u001b[0m \u001b[0;34m=\u001b[0m \u001b[0;36m2\u001b[0m\u001b[0;34m)\u001b[0m\u001b[0;34m.\u001b[0m\u001b[0mreset_index\u001b[0m\u001b[0;34m(\u001b[0m\u001b[0;34m)\u001b[0m\u001b[0;34m[\u001b[0m\u001b[0;34m'state'\u001b[0m\u001b[0;34m]\u001b[0m\u001b[0;34m)\u001b[0m\u001b[0;34m.\u001b[0m\u001b[0mvalues\u001b[0m\u001b[0;34m]\u001b[0m\u001b[0;34m,\u001b[0m \u001b[0mlevel\u001b[0m \u001b[0;34m=\u001b[0m \u001b[0;36m1\u001b[0m\u001b[0;34m)\u001b[0m\u001b[0;34m.\u001b[0m\u001b[0mxs\u001b[0m\u001b[0;34m(\u001b[0m\u001b[0mrace\u001b[0m\u001b[0;34m,\u001b[0m \u001b[0mlevel\u001b[0m \u001b[0;34m=\u001b[0m \u001b[0;36m1\u001b[0m\u001b[0;34m)\u001b[0m\u001b[0;34m[\u001b[0m\u001b[0;34mf'Δmortality_{poll}'\u001b[0m\u001b[0;34m]\u001b[0m\u001b[0;34m.\u001b[0m\u001b[0msum\u001b[0m\u001b[0;34m(\u001b[0m\u001b[0;34m)\u001b[0m\u001b[0;34m\u001b[0m\u001b[0;34m\u001b[0m\u001b[0m\n\u001b[0m",
      "\u001b[0;32m~/anaconda3/envs/grid_mod/lib/python3.9/site-packages/pandas/core/generic.py\u001b[0m in \u001b[0;36mxs\u001b[0;34m(self, key, axis, level, drop_level)\u001b[0m\n\u001b[1;32m   3743\u001b[0m             \u001b[0;32mif\u001b[0m \u001b[0;32mnot\u001b[0m \u001b[0misinstance\u001b[0m\u001b[0;34m(\u001b[0m\u001b[0mlabels\u001b[0m\u001b[0;34m,\u001b[0m \u001b[0mMultiIndex\u001b[0m\u001b[0;34m)\u001b[0m\u001b[0;34m:\u001b[0m\u001b[0;34m\u001b[0m\u001b[0;34m\u001b[0m\u001b[0m\n\u001b[1;32m   3744\u001b[0m                 \u001b[0;32mraise\u001b[0m \u001b[0mTypeError\u001b[0m\u001b[0;34m(\u001b[0m\u001b[0;34m\"Index must be a MultiIndex\"\u001b[0m\u001b[0;34m)\u001b[0m\u001b[0;34m\u001b[0m\u001b[0;34m\u001b[0m\u001b[0m\n\u001b[0;32m-> 3745\u001b[0;31m             \u001b[0mloc\u001b[0m\u001b[0;34m,\u001b[0m \u001b[0mnew_ax\u001b[0m \u001b[0;34m=\u001b[0m \u001b[0mlabels\u001b[0m\u001b[0;34m.\u001b[0m\u001b[0mget_loc_level\u001b[0m\u001b[0;34m(\u001b[0m\u001b[0mkey\u001b[0m\u001b[0;34m,\u001b[0m \u001b[0mlevel\u001b[0m\u001b[0;34m=\u001b[0m\u001b[0mlevel\u001b[0m\u001b[0;34m,\u001b[0m \u001b[0mdrop_level\u001b[0m\u001b[0;34m=\u001b[0m\u001b[0mdrop_level\u001b[0m\u001b[0;34m)\u001b[0m\u001b[0;34m\u001b[0m\u001b[0;34m\u001b[0m\u001b[0m\n\u001b[0m\u001b[1;32m   3746\u001b[0m \u001b[0;34m\u001b[0m\u001b[0m\n\u001b[1;32m   3747\u001b[0m             \u001b[0;31m# create the tuple of the indexer\u001b[0m\u001b[0;34m\u001b[0m\u001b[0;34m\u001b[0m\u001b[0;34m\u001b[0m\u001b[0m\n",
      "\u001b[0;32m~/anaconda3/envs/grid_mod/lib/python3.9/site-packages/pandas/core/indexes/multi.py\u001b[0m in \u001b[0;36mget_loc_level\u001b[0;34m(self, key, level, drop_level)\u001b[0m\n\u001b[1;32m   3009\u001b[0m         \u001b[0;32melse\u001b[0m\u001b[0;34m:\u001b[0m\u001b[0;34m\u001b[0m\u001b[0;34m\u001b[0m\u001b[0m\n\u001b[1;32m   3010\u001b[0m             \u001b[0mlevel\u001b[0m \u001b[0;34m=\u001b[0m \u001b[0;34m[\u001b[0m\u001b[0mself\u001b[0m\u001b[0;34m.\u001b[0m\u001b[0m_get_level_number\u001b[0m\u001b[0;34m(\u001b[0m\u001b[0mlev\u001b[0m\u001b[0;34m)\u001b[0m \u001b[0;32mfor\u001b[0m \u001b[0mlev\u001b[0m \u001b[0;32min\u001b[0m \u001b[0mlevel\u001b[0m\u001b[0;34m]\u001b[0m\u001b[0;34m\u001b[0m\u001b[0;34m\u001b[0m\u001b[0m\n\u001b[0;32m-> 3011\u001b[0;31m         \u001b[0;32mreturn\u001b[0m \u001b[0mself\u001b[0m\u001b[0;34m.\u001b[0m\u001b[0m_get_loc_level\u001b[0m\u001b[0;34m(\u001b[0m\u001b[0mkey\u001b[0m\u001b[0;34m,\u001b[0m \u001b[0mlevel\u001b[0m\u001b[0;34m=\u001b[0m\u001b[0mlevel\u001b[0m\u001b[0;34m,\u001b[0m \u001b[0mdrop_level\u001b[0m\u001b[0;34m=\u001b[0m\u001b[0mdrop_level\u001b[0m\u001b[0;34m)\u001b[0m\u001b[0;34m\u001b[0m\u001b[0;34m\u001b[0m\u001b[0m\n\u001b[0m\u001b[1;32m   3012\u001b[0m \u001b[0;34m\u001b[0m\u001b[0m\n\u001b[1;32m   3013\u001b[0m     \u001b[0;32mdef\u001b[0m \u001b[0m_get_loc_level\u001b[0m\u001b[0;34m(\u001b[0m\u001b[0mself\u001b[0m\u001b[0;34m,\u001b[0m \u001b[0mkey\u001b[0m\u001b[0;34m,\u001b[0m \u001b[0mlevel\u001b[0m\u001b[0;34m:\u001b[0m \u001b[0mint\u001b[0m \u001b[0;34m|\u001b[0m \u001b[0mlist\u001b[0m\u001b[0;34m[\u001b[0m\u001b[0mint\u001b[0m\u001b[0;34m]\u001b[0m \u001b[0;34m=\u001b[0m \u001b[0;36m0\u001b[0m\u001b[0;34m,\u001b[0m \u001b[0mdrop_level\u001b[0m\u001b[0;34m:\u001b[0m \u001b[0mbool\u001b[0m \u001b[0;34m=\u001b[0m \u001b[0;32mTrue\u001b[0m\u001b[0;34m)\u001b[0m\u001b[0;34m:\u001b[0m\u001b[0;34m\u001b[0m\u001b[0;34m\u001b[0m\u001b[0m\n",
      "\u001b[0;32m~/anaconda3/envs/grid_mod/lib/python3.9/site-packages/pandas/core/indexes/multi.py\u001b[0m in \u001b[0;36m_get_loc_level\u001b[0;34m(self, key, level, drop_level)\u001b[0m\n\u001b[1;32m   3110\u001b[0m                 \u001b[0;32mreturn\u001b[0m \u001b[0mindexer\u001b[0m\u001b[0;34m,\u001b[0m \u001b[0mmaybe_mi_droplevels\u001b[0m\u001b[0;34m(\u001b[0m\u001b[0mindexer\u001b[0m\u001b[0;34m,\u001b[0m \u001b[0milevels\u001b[0m\u001b[0;34m,\u001b[0m \u001b[0mdrop_level\u001b[0m\u001b[0;34m)\u001b[0m\u001b[0;34m\u001b[0m\u001b[0;34m\u001b[0m\u001b[0m\n\u001b[1;32m   3111\u001b[0m         \u001b[0;32melse\u001b[0m\u001b[0;34m:\u001b[0m\u001b[0;34m\u001b[0m\u001b[0;34m\u001b[0m\u001b[0m\n\u001b[0;32m-> 3112\u001b[0;31m             \u001b[0mindexer\u001b[0m \u001b[0;34m=\u001b[0m \u001b[0mself\u001b[0m\u001b[0;34m.\u001b[0m\u001b[0m_get_level_indexer\u001b[0m\u001b[0;34m(\u001b[0m\u001b[0mkey\u001b[0m\u001b[0;34m,\u001b[0m \u001b[0mlevel\u001b[0m\u001b[0;34m=\u001b[0m\u001b[0mlevel\u001b[0m\u001b[0;34m)\u001b[0m\u001b[0;34m\u001b[0m\u001b[0;34m\u001b[0m\u001b[0m\n\u001b[0m\u001b[1;32m   3113\u001b[0m             \u001b[0;32mreturn\u001b[0m \u001b[0mindexer\u001b[0m\u001b[0;34m,\u001b[0m \u001b[0mmaybe_mi_droplevels\u001b[0m\u001b[0;34m(\u001b[0m\u001b[0mindexer\u001b[0m\u001b[0;34m,\u001b[0m \u001b[0;34m[\u001b[0m\u001b[0mlevel\u001b[0m\u001b[0;34m]\u001b[0m\u001b[0;34m,\u001b[0m \u001b[0mdrop_level\u001b[0m\u001b[0;34m)\u001b[0m\u001b[0;34m\u001b[0m\u001b[0;34m\u001b[0m\u001b[0m\n\u001b[1;32m   3114\u001b[0m \u001b[0;34m\u001b[0m\u001b[0m\n",
      "\u001b[0;32m~/anaconda3/envs/grid_mod/lib/python3.9/site-packages/pandas/core/indexes/multi.py\u001b[0m in \u001b[0;36m_get_level_indexer\u001b[0;34m(self, key, level, indexer)\u001b[0m\n\u001b[1;32m   3202\u001b[0m         \u001b[0;32melse\u001b[0m\u001b[0;34m:\u001b[0m\u001b[0;34m\u001b[0m\u001b[0;34m\u001b[0m\u001b[0m\n\u001b[1;32m   3203\u001b[0m \u001b[0;34m\u001b[0m\u001b[0m\n\u001b[0;32m-> 3204\u001b[0;31m             \u001b[0midx\u001b[0m \u001b[0;34m=\u001b[0m \u001b[0mself\u001b[0m\u001b[0;34m.\u001b[0m\u001b[0m_get_loc_single_level_index\u001b[0m\u001b[0;34m(\u001b[0m\u001b[0mlevel_index\u001b[0m\u001b[0;34m,\u001b[0m \u001b[0mkey\u001b[0m\u001b[0;34m)\u001b[0m\u001b[0;34m\u001b[0m\u001b[0;34m\u001b[0m\u001b[0m\n\u001b[0m\u001b[1;32m   3205\u001b[0m \u001b[0;34m\u001b[0m\u001b[0m\n\u001b[1;32m   3206\u001b[0m             \u001b[0;32mif\u001b[0m \u001b[0mlevel\u001b[0m \u001b[0;34m>\u001b[0m \u001b[0;36m0\u001b[0m \u001b[0;32mor\u001b[0m \u001b[0mself\u001b[0m\u001b[0;34m.\u001b[0m\u001b[0m_lexsort_depth\u001b[0m \u001b[0;34m==\u001b[0m \u001b[0;36m0\u001b[0m\u001b[0;34m:\u001b[0m\u001b[0;34m\u001b[0m\u001b[0;34m\u001b[0m\u001b[0m\n",
      "\u001b[0;32m~/anaconda3/envs/grid_mod/lib/python3.9/site-packages/pandas/core/indexes/multi.py\u001b[0m in \u001b[0;36m_get_loc_single_level_index\u001b[0;34m(self, level_index, key)\u001b[0m\n\u001b[1;32m   2853\u001b[0m             \u001b[0;32mreturn\u001b[0m \u001b[0;34m-\u001b[0m\u001b[0;36m1\u001b[0m\u001b[0;34m\u001b[0m\u001b[0;34m\u001b[0m\u001b[0m\n\u001b[1;32m   2854\u001b[0m         \u001b[0;32melse\u001b[0m\u001b[0;34m:\u001b[0m\u001b[0;34m\u001b[0m\u001b[0;34m\u001b[0m\u001b[0m\n\u001b[0;32m-> 2855\u001b[0;31m             \u001b[0;32mreturn\u001b[0m \u001b[0mlevel_index\u001b[0m\u001b[0;34m.\u001b[0m\u001b[0mget_loc\u001b[0m\u001b[0;34m(\u001b[0m\u001b[0mkey\u001b[0m\u001b[0;34m)\u001b[0m\u001b[0;34m\u001b[0m\u001b[0;34m\u001b[0m\u001b[0m\n\u001b[0m\u001b[1;32m   2856\u001b[0m \u001b[0;34m\u001b[0m\u001b[0m\n\u001b[1;32m   2857\u001b[0m     \u001b[0;32mdef\u001b[0m \u001b[0mget_loc\u001b[0m\u001b[0;34m(\u001b[0m\u001b[0mself\u001b[0m\u001b[0;34m,\u001b[0m \u001b[0mkey\u001b[0m\u001b[0;34m,\u001b[0m \u001b[0mmethod\u001b[0m\u001b[0;34m=\u001b[0m\u001b[0;32mNone\u001b[0m\u001b[0;34m)\u001b[0m\u001b[0;34m:\u001b[0m\u001b[0;34m\u001b[0m\u001b[0;34m\u001b[0m\u001b[0m\n",
      "\u001b[0;32m~/anaconda3/envs/grid_mod/lib/python3.9/site-packages/pandas/core/indexes/base.py\u001b[0m in \u001b[0;36mget_loc\u001b[0;34m(self, key, method, tolerance)\u001b[0m\n\u001b[1;32m   3361\u001b[0m                 \u001b[0;32mreturn\u001b[0m \u001b[0mself\u001b[0m\u001b[0;34m.\u001b[0m\u001b[0m_engine\u001b[0m\u001b[0;34m.\u001b[0m\u001b[0mget_loc\u001b[0m\u001b[0;34m(\u001b[0m\u001b[0mcasted_key\u001b[0m\u001b[0;34m)\u001b[0m\u001b[0;34m\u001b[0m\u001b[0;34m\u001b[0m\u001b[0m\n\u001b[1;32m   3362\u001b[0m             \u001b[0;32mexcept\u001b[0m \u001b[0mKeyError\u001b[0m \u001b[0;32mas\u001b[0m \u001b[0merr\u001b[0m\u001b[0;34m:\u001b[0m\u001b[0;34m\u001b[0m\u001b[0;34m\u001b[0m\u001b[0m\n\u001b[0;32m-> 3363\u001b[0;31m                 \u001b[0;32mraise\u001b[0m \u001b[0mKeyError\u001b[0m\u001b[0;34m(\u001b[0m\u001b[0mkey\u001b[0m\u001b[0;34m)\u001b[0m \u001b[0;32mfrom\u001b[0m \u001b[0merr\u001b[0m\u001b[0;34m\u001b[0m\u001b[0;34m\u001b[0m\u001b[0m\n\u001b[0m\u001b[1;32m   3364\u001b[0m \u001b[0;34m\u001b[0m\u001b[0m\n\u001b[1;32m   3365\u001b[0m         \u001b[0;32mif\u001b[0m \u001b[0mis_scalar\u001b[0m\u001b[0;34m(\u001b[0m\u001b[0mkey\u001b[0m\u001b[0;34m)\u001b[0m \u001b[0;32mand\u001b[0m \u001b[0misna\u001b[0m\u001b[0;34m(\u001b[0m\u001b[0mkey\u001b[0m\u001b[0;34m)\u001b[0m \u001b[0;32mand\u001b[0m \u001b[0;32mnot\u001b[0m \u001b[0mself\u001b[0m\u001b[0;34m.\u001b[0m\u001b[0mhasnans\u001b[0m\u001b[0;34m:\u001b[0m\u001b[0;34m\u001b[0m\u001b[0;34m\u001b[0m\u001b[0m\n",
      "\u001b[0;31mKeyError\u001b[0m: ('texas', 'texas', 'florida', 'iowa', 'illinois', 'michigan', 'michigan', 'minnesota', 'minnesota', 'missouri', 'wisconsin', 'massachusetts', 'new hampshire', 'connecticut', 'new york', 'new york', 'new york', 'ohio', 'ohio', 'illinois', 'illinois', 'illinois', 'illinois', 'illinois', 'virginia', 'virginia', 'new jersey', 'new jersey', 'pennsylvania', 'pennsylvania', 'maryland', 'pennsylvania', 'pennsylvania', 'michigan', 'pennsylvania', 'kansas', 'nebraska', 'nebraska', 'tennessee', 'tennessee', 'louisiana', 'arkansas', 'mississippi', 'louisiana', 'georgia', 'alabama', 'georgia', 'south carolina', 'south carolina', 'south carolina', 'north carolina', 'north carolina', 'south carolina', 'north carolina', 'arizona', 'washington', 'california')"
     ]
    }
   ],
   "source": [
    "nuclear_df.xs(race, level = 2)[f'Δmortality_{poll}']/nuclear_df.xs([s for s in (nuclear_df.xs(race, level = 2).reset_index()['state']).values], level = 1).xs(race, level = 1)[f'Δmortality_{poll}'].sum()"
   ]
  },
  {
   "cell_type": "code",
   "execution_count": 43,
   "metadata": {},
   "outputs": [
    {
     "name": "stdout",
     "output_type": "stream",
     "text": [
      "American Indian or Alaska Native O3 -0.06326709691102285 per 100,000\n",
      "American Indian or Alaska Native PM -0.7215217957406924 per 100,000\n",
      "Asian or Pacific Islander O3 0.14397412685415895 per 100,000\n",
      "Asian or Pacific Islander PM 0.1692593800674097 per 100,000\n",
      "Black or African American O3 0.5993688488283877 per 100,000\n",
      "Black or African American PM 1.0920448285688586 per 100,000\n",
      "Hispanic or Latino O3 -0.012461899826086927 per 100,000\n",
      "Hispanic or Latino PM -0.37904395718373474 per 100,000\n",
      "Not Hispanic or Latino O3 0.6694400674930271 per 100,000\n",
      "Not Hispanic or Latino PM 1.4122982081789723 per 100,000\n",
      "Not Stated O3 nan per 100,000\n",
      "Not Stated PM nan per 100,000\n",
      "White O3 0.5255039617249403 per 100,000\n",
      "White PM 1.060294057389437 per 100,000\n",
      "Total mortalities American Indian or Alaska Native O3 -0.10790013576884214\n",
      "Total mortalities American Indian or Alaska Native PM -1.2305337769818787\n",
      "Total mortalities Asian or Pacific Islander O3 1.0135836120183532\n",
      "Total mortalities Asian or Pacific Islander PM 1.191592806049767\n",
      "Total mortalities Black or African American O3 13.970436762424383\n",
      "Total mortalities Black or African American PM 25.454014250283524\n",
      "Total mortalities Hispanic or Latino O3 -0.5329133316418839\n",
      "Total mortalities Hispanic or Latino PM -16.209212149070495\n",
      "Total mortalities Not Hispanic or Latino O3 95.27503843124069\n",
      "Total mortalities Not Hispanic or Latino PM 200.99897301415336\n",
      "Total mortalities Not Stated O3 0.0\n",
      "Total mortalities Not Stated PM 0.0\n",
      "Total mortalities White O3 78.18058544108024\n",
      "Total mortalities White PM 157.74269307943518\n"
     ]
    }
   ],
   "source": [
    "for race in np.unique(mort_df['Race/Hispanic Origin']):\n",
    "    for poll in ['O3','PM']:\n",
    "        print(race, poll, 1e5*nuclear_df.xs(race, level = 2)[f'Δmortality_{poll}'].sum()/nuclear_df.xs(race, level = 2)['Population'].sum(), 'per 100,000')\n",
    "for race in np.unique(mort_df['Race/Hispanic Origin']):\n",
    "    for poll in ['O3','PM']:\n",
    "        print('Total mortalities', race, poll, nuclear_df.xs(race, level = 2)[f'Δmortality_{poll}'].sum())"
   ]
  },
  {
   "cell_type": "code",
   "execution_count": 44,
   "metadata": {},
   "outputs": [
    {
     "name": "stdout",
     "output_type": "stream",
     "text": [
      "no nuclear - normal American Indian or Alaska Native O3 0.13797686519621535 per 100,000\n",
      "no nuclear - normal American Indian or Alaska Native PM 0.5249489166508251 per 100,000\n",
      "no nuclear - normal Asian or Pacific Islander O3 -0.08692241627248272 per 100,000\n",
      "no nuclear - normal Asian or Pacific Islander PM -0.1522685585702649 per 100,000\n",
      "no nuclear - normal Black or African American O3 0.09398991746799246 per 100,000\n",
      "no nuclear - normal Black or African American PM 0.4488861135972235 per 100,000\n",
      "no nuclear - normal Hispanic or Latino O3 0.06123603056548814 per 100,000\n",
      "no nuclear - normal Hispanic or Latino PM 0.27462873482179806 per 100,000\n",
      "no nuclear - normal Not Hispanic or Latino O3 -0.0068267230093863596 per 100,000\n",
      "no nuclear - normal Not Hispanic or Latino PM 0.11823332921116947 per 100,000\n",
      "no nuclear - normal Not Stated O3 nan per 100,000\n",
      "no nuclear - normal Not Stated PM nan per 100,000\n",
      "no nuclear - normal White O3 0.048302074227239866 per 100,000\n",
      "no nuclear - normal White PM 0.2475175620575989 per 100,000\n",
      "Total mortalities: no nuclear - normal American Indian or Alaska Native O3 2.0397221640591816\n",
      "Total mortalities: no nuclear - normal American Indian or Alaska Native PM -3.852386792931393\n",
      "Total mortalities: no nuclear - normal Asian or Pacific Islander O3 8.499515279265365\n",
      "Total mortalities: no nuclear - normal Asian or Pacific Islander PM 1.641545122655947\n",
      "Total mortalities: no nuclear - normal Black or African American O3 234.15859921227192\n",
      "Total mortalities: no nuclear - normal Black or African American PM 525.9916842379547\n",
      "Total mortalities: no nuclear - normal Hispanic or Latino O3 23.803365944424122\n",
      "Total mortalities: no nuclear - normal Hispanic or Latino PM -33.607964440069836\n",
      "Total mortalities: no nuclear - normal Not Hispanic or Latino O3 1266.1304451629826\n",
      "Total mortalities: no nuclear - normal Not Hispanic or Latino PM 2943.631368592678\n",
      "Total mortalities: no nuclear - normal Not Stated O3 0.0\n",
      "Total mortalities: no nuclear - normal Not Stated PM 0.0\n",
      "Total mortalities: no nuclear - normal White O3 1047.187467994097\n",
      "Total mortalities: no nuclear - normal White PM 2407.1822540671155\n"
     ]
    }
   ],
   "source": [
    "for race in np.unique(mort_df['Race/Hispanic Origin']):\n",
    "    for poll in ['O3','PM']:\n",
    "        print('no nuclear - normal',\n",
    "              race, \n",
    "              poll, \n",
    "              1e5*no_nuclear_df.xs(race, level = 2)[f'Δmortality_{poll}'].sum()/no_nuclear_df.xs(race, level = 2)['Population'].sum() - 1e5*nuclear_df.xs(race, level = 2)[f'Δmortality_{poll}'].sum()/nuclear_df.xs(race, level = 2)['Population'].sum(),\n",
    "              'per 100,000')\n",
    "for race in np.unique(mort_df['Race/Hispanic Origin']):\n",
    "    for poll in ['O3','PM']:\n",
    "        print('Total mortalities: no nuclear - normal', \n",
    "              race, \n",
    "              poll, \n",
    "              no_nuclear_df.xs(race, level = 2)[f'Δmortality_{poll}'].sum()- nuclear_df.xs(race, level = 2)[f'Δmortality_{poll}'].sum())"
   ]
  },
  {
   "cell_type": "code",
   "execution_count": 45,
   "metadata": {},
   "outputs": [
    {
     "name": "stdout",
     "output_type": "stream",
     "text": [
      "no nuclear - normal American Indian or Alaska Native O3 184.68383501004968 per 100,000\n",
      "no nuclear - normal American Indian or Alaska Native PM -267.05053061304244 per 100,000\n",
      "no nuclear - normal Asian or Pacific Islander O3 -152.35724816356395 per 100,000\n",
      "no nuclear - normal Asian or Pacific Islander PM -896.1812623118453 per 100,000\n",
      "no nuclear - normal Black or African American O3 13.555740842514414 per 100,000\n",
      "no nuclear - normal Black or African American PM 29.130839112505953 per 100,000\n",
      "no nuclear - normal Hispanic or Latino O3 125.5502243446849 per 100,000\n",
      "no nuclear - normal Hispanic or Latino PM -263.0159938460378 per 100,000\n",
      "no nuclear - normal Not Hispanic or Latino O3 -1.030272490920971 per 100,000\n",
      "no nuclear - normal Not Hispanic or Latino PM 7.724984838455574 per 100,000\n",
      "no nuclear - normal Not Stated O3 nan per 100,000\n",
      "no nuclear - normal Not Stated PM nan per 100,000\n",
      "no nuclear - normal White O3 8.417840036674914 per 100,000\n",
      "no nuclear - normal White PM 18.926086783221375 per 100,000\n",
      "Total mortalities: no nuclear - normal American Indian or Alaska Native O3 2.0397221640591816\n",
      "Total mortalities: no nuclear - normal American Indian or Alaska Native PM -3.852386792931393\n",
      "Total mortalities: no nuclear - normal Asian or Pacific Islander O3 8.499515279265365\n",
      "Total mortalities: no nuclear - normal Asian or Pacific Islander PM 1.641545122655947\n",
      "Total mortalities: no nuclear - normal Black or African American O3 234.15859921227192\n",
      "Total mortalities: no nuclear - normal Black or African American PM 525.9916842379547\n",
      "Total mortalities: no nuclear - normal Hispanic or Latino O3 23.803365944424122\n",
      "Total mortalities: no nuclear - normal Hispanic or Latino PM -33.607964440069836\n",
      "Total mortalities: no nuclear - normal Not Hispanic or Latino O3 1266.1304451629826\n",
      "Total mortalities: no nuclear - normal Not Hispanic or Latino PM 2943.631368592678\n",
      "Total mortalities: no nuclear - normal Not Stated O3 0.0\n",
      "Total mortalities: no nuclear - normal Not Stated PM 0.0\n",
      "Total mortalities: no nuclear - normal White O3 1047.187467994097\n",
      "Total mortalities: no nuclear - normal White PM 2407.1822540671155\n"
     ]
    }
   ],
   "source": [
    "for race in np.unique(mort_df['Race/Hispanic Origin']):\n",
    "    for poll in ['O3','PM']:\n",
    "        print('no nuclear - normal',\n",
    "              race, \n",
    "              poll, \n",
    "              (1e5*no_nuclear_df.xs(race, level = 2)[f'Δmortality_{poll}'].sum()/no_nuclear_df.xs(race, level = 2)['Population'].sum() - 1e5*nuclear_df.xs(race, level = 2)[f'Δmortality_{poll}'].sum()/nuclear_df.xs(race, level = 2)['Population'].sum())/(1e5*no_nuclear_df.xs(race, level = 2)[f'Δmortality_{poll}'].sum()/no_nuclear_df.xs(race, level = 2)['Population'].sum())*100,\n",
    "              'per 100,000')\n",
    "for race in np.unique(mort_df['Race/Hispanic Origin']):\n",
    "    for poll in ['O3','PM']:\n",
    "        print('Total mortalities: no nuclear - normal', \n",
    "              race, \n",
    "              poll, \n",
    "              no_nuclear_df.xs(race, level = 2)[f'Δmortality_{poll}'].sum()- nuclear_df.xs(race, level = 2)[f'Δmortality_{poll}'].sum())"
   ]
  },
  {
   "cell_type": "markdown",
   "metadata": {},
   "source": [
    "#\n",
    "for race in np.unique(mort_df['Race/Hispanic Origin']):\n",
    "    print(race, 'no nuclear', (no_nuclear_df.xs(race, level = 2)['Population']/no_nuclear_df.groupby(level=[0, 1]).sum()['Population']).dropna().values.mean())\n",
    "    print(race, 'nuclear', (nuclear_df.xs(race, level = 2)['Population']/nuclear_df.groupby(level=[0, 1]).sum()['Population']).dropna().values.mean())"
   ]
  },
  {
   "cell_type": "code",
   "execution_count": 49,
   "metadata": {},
   "outputs": [],
   "source": [
    "no_nuclear_df['dif_O3'] = (no_nuclear_df['nonuc_O3']- no_nuclear_df['normal_O3'])\n",
    "nuclear_df['dif_O3'] = (nuclear_df['nonuc_O3']- nuclear_df['normal_O3'])\n",
    "no_nuclear_df['dif_PM'] = (no_nuclear_df['nonuc_PM25']- no_nuclear_df['normal_PM25'])\n",
    "nuclear_df['dif_PM'] = (nuclear_df['nonuc_PM25']- nuclear_df['normal_PM25'])"
   ]
  },
  {
   "cell_type": "code",
   "execution_count": 50,
   "metadata": {},
   "outputs": [
    {
     "name": "stdout",
     "output_type": "stream",
     "text": [
      "0.22860366189187964 0.123787089980679\n",
      "0.4533687976127254 0.287469494034859\n"
     ]
    },
    {
     "data": {
      "image/png": "[encoded data removed]",
      "text/plain": [
       "<Figure size 720x360 with 2 Axes>"
      ]
     },
     "metadata": {
      "needs_background": "light"
     },
     "output_type": "display_data"
    }
   ],
   "source": [
    "fig, (ax1, ax2) = plt.subplots(1, 2, sharex = False, sharey = True, figsize = [10,5])\n",
    "nuclear_df.boxplot(column = ['dif_PM','dif_O3'], ax = ax1, showfliers=False)\n",
    "no_nuclear_df.boxplot(column = ['dif_PM','dif_O3'], ax = ax2, showfliers=False)\n",
    "print(nuclear_df['dif_PM'].median(),no_nuclear_df['dif_PM'].median())\n",
    "print(nuclear_df['dif_O3'].median(),no_nuclear_df['dif_O3'].median())"
   ]
  },
  {
   "cell_type": "code",
   "execution_count": 51,
   "metadata": {},
   "outputs": [
    {
     "name": "stdout",
     "output_type": "stream",
     "text": [
      "American Indian or Alaska Native O3 normal 43.644276291362836\n",
      "American Indian or Alaska Native O3 No nuclear 43.790840326901304\n",
      "American Indian or Alaska Native PM25 normal 6.2491633811639975\n",
      "American Indian or Alaska Native PM25 No nuclear 6.272666611792289\n",
      "Asian or Pacific Islander O3 normal 44.599949543638814\n",
      "Asian or Pacific Islander O3 No nuclear 44.97282545392284\n",
      "Asian or Pacific Islander PM25 normal 7.984671523419585\n",
      "Asian or Pacific Islander PM25 No nuclear 8.099072807072885\n",
      "Black or African American O3 normal 45.17900143627593\n",
      "Black or African American O3 No nuclear 45.81326458728589\n",
      "Black or African American PM25 normal 8.076283687164995\n",
      "Black or African American PM25 No nuclear 8.24902496279113\n",
      "Hispanic or Latino O3 normal 44.73138024354028\n",
      "Hispanic or Latino O3 No nuclear 45.035673088042564\n",
      "Hispanic or Latino PM25 normal 7.15239132464183\n",
      "Hispanic or Latino PM25 No nuclear 7.226095443110602\n",
      "Not Hispanic or Latino O3 normal 45.09620402845949\n",
      "Not Hispanic or Latino O3 No nuclear 45.55917133123365\n",
      "Not Hispanic or Latino PM25 normal 7.54867629273972\n",
      "Not Hispanic or Latino PM25 No nuclear 7.69024182797962\n",
      "Not Stated O3 normal 45.281051272273714\n",
      "Not Stated O3 No nuclear 45.66452413448779\n",
      "Not Stated PM25 normal 8.476771472389077\n",
      "Not Stated PM25 No nuclear 8.605681094871738\n",
      "White O3 normal 45.09001286489983\n",
      "White O3 No nuclear 45.55369792601615\n",
      "White PM25 normal 7.555062281703513\n",
      "White PM25 No nuclear 7.696871582990362\n"
     ]
    }
   ],
   "source": [
    "#normal and nonuc concentrations\n",
    "for race in np.unique(mort_df['Race/Hispanic Origin']):\n",
    "    for poll in ['O3','PM25']:\n",
    "        print(race, poll, 'normal', full_df.xs(race, level =2)[f'normal_{poll}'].mean())\n",
    "        print(race, poll, 'No nuclear', full_df.xs(race, level =2)[f'nonuc_{poll}'].mean())"
   ]
  },
  {
   "cell_type": "code",
   "execution_count": 52,
   "metadata": {},
   "outputs": [
    {
     "name": "stdout",
     "output_type": "stream",
     "text": [
      "7.555062281703513\n",
      "7.696871582990362\n"
     ]
    }
   ],
   "source": [
    "print(full_df.xs('White', level =2)['normal_PM25'].mean())\n",
    "print(full_df.xs('White', level =2)['nonuc_PM25'].mean())"
   ]
  },
  {
   "cell_type": "code",
   "execution_count": 53,
   "metadata": {},
   "outputs": [
    {
     "name": "stdout",
     "output_type": "stream",
     "text": [
      "8.076283687164995\n",
      "8.24902496279113\n"
     ]
    }
   ],
   "source": [
    "print(full_df.xs('Black or African American', level =2)['normal_PM25'].mean())\n",
    "print(full_df.xs('Black or African American', level =2)['nonuc_PM25'].mean())"
   ]
  },
  {
   "cell_type": "code",
   "execution_count": null,
   "metadata": {},
   "outputs": [],
   "source": []
  }
 ],
 "metadata": {
  "kernelspec": {
   "display_name": "Python 3 (ipykernel)",
   "language": "python",
   "name": "python3"
  },
  "language_info": {
   "codemirror_mode": {
    "name": "ipython",
    "version": 3
   },
   "file_extension": ".py",
   "mimetype": "text/x-python",
   "name": "python",
   "nbconvert_exporter": "python",
   "pygments_lexer": "ipython3",
   "version": "3.9.6"
  }
 },
 "nbformat": 4,
 "nbformat_minor": 4
}
