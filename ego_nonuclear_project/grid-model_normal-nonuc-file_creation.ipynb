{
 "cells": [
  {
   "cell_type": "code",
   "execution_count": 1,
   "metadata": {},
   "outputs": [
    {
     "name": "stderr",
     "output_type": "stream",
     "text": [
      "\n",
      "Bad key \"text.kerning_factor\" on line 4 in\n",
      "/home/emfreese/anaconda3/envs/conda_env/lib/python3.7/site-packages/matplotlib/mpl-data/stylelib/_classic_test_patch.mplstyle.\n",
      "You probably need to get an updated matplotlibrc file from\n",
      "http://github.com/matplotlib/matplotlib/blob/master/matplotlibrc.template\n",
      "or from the matplotlib source distribution\n"
     ]
    }
   ],
   "source": [
    "%matplotlib inline\n",
    "\n",
    "%matplotlib inline\n",
    "%load_ext autoreload\n",
    "%autoreload 2\n",
    "\n",
    "import numpy as np\n",
    "\n",
    "import xarray as xr\n",
    "\n",
    "import regionmask\n",
    "\n",
    "import pandas as pd\n",
    "\n",
    "import matplotlib.pyplot as plt\n",
    "import cartopy.crs as ccrs\n",
    "from matplotlib import cm\n",
    "from matplotlib.colors import ListedColormap, LinearSegmentedColormap\n",
    "import cartopy.feature as cfeat\n",
    "import matplotlib.patches as mpatches\n",
    "\n",
    "\n",
    "import glob\n",
    "\n",
    "\n",
    "import sys\n",
    "sys.path.append('../')\n",
    "import utils\n",
    "import plotting\n",
    "\n",
    "np.seterr(invalid='ignore'); # disable a warning from matplotlib and cartopy"
   ]
  },
  {
   "cell_type": "markdown",
   "metadata": {},
   "source": [
    "# Concentration Data"
   ]
  },
  {
   "cell_type": "code",
   "execution_count": 2,
   "metadata": {},
   "outputs": [],
   "source": [
    "ds_MODEL_speciesconc = xr.open_mfdataset('../../GCrundirs/type_NA-out_conc-yr_2016-gridmod_final-validation/OutputDir/GEOSChem.SpeciesConc.2016*_0000z.nc4',combine='by_coords')\n",
    "ds_MODEL_aerosolmass = xr.open_mfdataset('../../GCrundirs/type_NA-out_conc-yr_2016-gridmod_final-validation/OutputDir/GEOSChem.AerosolMass.2016*_0000z.nc4',combine='by_coords')\n",
    "ds_MODEL = xr.merge([ds_MODEL_aerosolmass, ds_MODEL_speciesconc])\n",
    "ds_MODEL.attrs['name'] = 'normal'\n",
    "\n",
    "ds_nonuc_speciesconc = xr.open_mfdataset('../../GCrundirs/type_NA-out_conc-yr_2016-gridmod_nonuclear/OutputDir/GEOSChem.SpeciesConc.2016*_0000z.nc4',combine='by_coords')\n",
    "ds_nonuc_aerosolmass = xr.open_mfdataset('../../GCrundirs/type_NA-out_conc-yr_2016-gridmod_nonuclear/OutputDir/GEOSChem.AerosolMass.2016*_0000z.nc4',combine='by_coords')\n",
    "ds_nonuc = xr.merge([ds_nonuc_aerosolmass, ds_nonuc_speciesconc])\n",
    "ds_nonuc.attrs['name'] = 'nonuc'\n",
    "\n",
    "datasets = [\n",
    "    ds_MODEL,\n",
    "    ds_nonuc\n",
    "]"
   ]
  },
  {
   "cell_type": "code",
   "execution_count": 3,
   "metadata": {},
   "outputs": [],
   "source": [
    "species_list = [ #create a list of the species we want to keep\n",
    "    'NO',\n",
    "    'NO2',\n",
    "    'SO2',\n",
    "    'O3',\n",
    "    'CH2O',\n",
    "    'NOx',\n",
    "    'NH3', \n",
    "    'NO3',\n",
    "    'HNO3',\n",
    "    'SO4s',\n",
    "    'SO4'\n",
    "]\n",
    "species_tracers = ['SpeciesConc_' + spec for spec in species_list]\n",
    "species_tracers.append('PM25')"
   ]
  },
  {
   "cell_type": "code",
   "execution_count": 4,
   "metadata": {},
   "outputs": [],
   "source": [
    "ds = xr.concat([ds_MODEL, ds_nonuc], pd.Index(['normal', 'nonuc'], name='model_name'))\n",
    "ds['SpeciesConc_NOx'] = (\n",
    "        ds['SpeciesConc_NO'] + ds['SpeciesConc_NO2'] #sum our NO2 and NO to get NOx\n",
    "                   )\n",
    "poll_ds = ds.drop_vars([species for species in ds.data_vars if species not in species_tracers]).rename({'SpeciesConc_' + spec: spec for spec in species_list})"
   ]
  },
  {
   "cell_type": "code",
   "execution_count": 5,
   "metadata": {},
   "outputs": [],
   "source": [
    "#convert everything to ppbv\n",
    "for species in species_list:\n",
    "    poll_ds[f'{species}'] *= 1e9 #convert from mol/mol to ppbv\n",
    "    poll_ds[f'{species}'].attrs['units'] = 'ppbv'\n",
    "    \n",
    "#calculate the NO2/CH2O ratio    \n",
    "poll_ds[f'CH2O_NO2'] = poll_ds['CH2O']/poll_ds['NO2']\n",
    "poll_ds[f'CH2O_NO2'].attrs['units'] = 'Ratio CH2O/NO2'\n",
    "\n",
    "for species in species_list:\n",
    "    #calculate the differences for species\n",
    "        poll_ds[f'dif_{species}'] = poll_ds.sel(model_name = 'nonuc')[f'{species}'] - poll_ds.sel(model_name = 'normal')[f'{species}']\n",
    "        poll_ds[f'dif_{species}'].attrs['units'] = 'ppbv'\n",
    "        \n",
    "        #calculate the percent differences for species\n",
    "        poll_ds[f'percent_dif_{species}'] = (poll_ds[f'dif_{species}']/poll_ds.sel(model_name = 'normal')[f'{species}'])*100\n",
    "        poll_ds[f'percent_dif_{species}'].attrs['units'] = 'Percent Difference'\n",
    "\n",
    "#calculate the dif for PM\n",
    "poll_ds['dif_PM25'] = poll_ds.sel(model_name = 'nonuc')['PM25']- poll_ds.sel(model_name = 'normal')['PM25']\n",
    "poll_ds[f'dif_PM25'].attrs['units'] = 'PM $\\mu$g m$^{-3}$'\n",
    "\n",
    "#calculate percent dif for PM\n",
    "poll_ds[f'percent_dif_PM25'] = (poll_ds[f'dif_PM25']/poll_ds.sel(model_name = 'normal')['PM25'])*100\n",
    "poll_ds[f'percent_dif_PM25'].attrs['units'] = 'Percent Difference'\n",
    "\n",
    "poll_ds = poll_ds.isel(lev = 0)\n",
    "\n",
    "poll_ds.attrs['name'] = 'no-nuclear and normal'"
   ]
  },
  {
   "cell_type": "code",
   "execution_count": 6,
   "metadata": {},
   "outputs": [
    {
     "data": {
      "text/plain": [
       "<xarray.backends.zarr.ZarrStore at 0x7f92a8f7d780>"
      ]
     },
     "execution_count": 6,
     "metadata": {},
     "output_type": "execute_result"
    }
   ],
   "source": [
    "poll_ds.to_zarr('nonuc_normal_GC', mode = 'w') #save the dataset "
   ]
  },
  {
   "cell_type": "markdown",
   "metadata": {},
   "source": [
    "# HEMCO Data"
   ]
  },
  {
   "cell_type": "code",
   "execution_count": 2,
   "metadata": {},
   "outputs": [],
   "source": [
    "ds_normal = xr.open_mfdataset('../../GCrundirs/type_NA-out_conc-yr_2016-gridmod_final-validation/OutputDir/HEMCO_diagnostics.2016*.nc', combine = 'by_coords')\n",
    "ds_nonuc = xr.open_mfdataset('../../GCrundirs/type_NA-out_conc-yr_2016-gridmod_nonuclear/OutputDir/HEMCO_diagnostics.2016*.nc', combine = 'by_coords')\n",
    "\n",
    "ds_normal = ds_normal.isel(lev = 0)\n",
    "ds_nonuc = ds_nonuc.isel(lev = 0)\n",
    "\n",
    "ds_emis = xr.concat([ds_nonuc, ds_normal], pd.Index(['nonuc', 'normal'], name='model_name'))"
   ]
  },
  {
   "cell_type": "code",
   "execution_count": 3,
   "metadata": {},
   "outputs": [],
   "source": [
    "emis_list = ['EmisNO2_Anthro', 'EmisNO_Anthro', 'EmisSO2_Anthro',  'EmisNH3_Total']"
   ]
  },
  {
   "cell_type": "code",
   "execution_count": 10,
   "metadata": {},
   "outputs": [],
   "source": [
    "emis_ds = ds_emis.drop_vars([species for species in ds_emis.data_vars if species not in emis_list])\n",
    "emis_ds['EmisNOx_Anthro'] = (\n",
    "        emis_ds['EmisNO2_Anthro'] + emis_ds['EmisNO_Anthro'] #sum our NO2 and NO to get NOx\n",
    "                   )\n",
    "emis_ds['EmisNOx_Anthro'].attrs['units'] = 'kg/m2/s'"
   ]
  },
  {
   "cell_type": "code",
   "execution_count": 11,
   "metadata": {},
   "outputs": [
    {
     "data": {
      "text/plain": [
       "<xarray.backends.zarr.ZarrStore at 0x7f647a315f10>"
      ]
     },
     "execution_count": 11,
     "metadata": {},
     "output_type": "execute_result"
    }
   ],
   "source": [
    "emis_ds.to_zarr('emissions_HEMCO', mode = 'w') #save the dataset "
   ]
  },
  {
   "cell_type": "code",
   "execution_count": null,
   "metadata": {},
   "outputs": [],
   "source": []
  }
 ],
 "metadata": {
  "kernelspec": {
   "display_name": "Python 3",
   "language": "python",
   "name": "python3"
  },
  "language_info": {
   "codemirror_mode": {
    "name": "ipython",
    "version": 3
   },
   "file_extension": ".py",
   "mimetype": "text/x-python",
   "name": "python",
   "nbconvert_exporter": "python",
   "pygments_lexer": "ipython3",
   "version": "3.7.3"
  }
 },
 "nbformat": 4,
 "nbformat_minor": 4
}
