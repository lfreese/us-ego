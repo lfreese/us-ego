{
 "cells": [
  {
   "cell_type": "code",
   "execution_count": 1,
   "metadata": {},
   "outputs": [],
   "source": [
    "#%matplotlib inline\n",
    "\n",
    "import pandas as pd\n",
    "import numpy as np\n",
    "\n",
    "import xarray as xr\n",
    "\n",
    "import regionmask\n",
    "\n",
    "import matplotlib.pyplot as plt\n",
    "import cartopy.crs as ccrs\n",
    "from matplotlib import cm\n",
    "from matplotlib.colors import ListedColormap, LinearSegmentedColormap\n",
    "import cartopy.feature as cfeat\n",
    "from mpl_toolkits.axes_grid1 import make_axes_locatable\n",
    "#import feather, h5py, sys, pickle\n",
    "from shapely.geometry import Point, Polygon\n",
    "#from geocube.api.core import make_geocube\n",
    "import xagg as xa\n",
    "import netCDF4\n",
    "import geopandas\n",
    "import feather \n",
    "import cmocean\n",
    "import scipy\n",
    "\n",
    "import sys\n",
    "sys.path.append('../')\n",
    "import utils\n",
    "import plotting\n",
    "\n",
    "import difflib \n",
    "\n",
    "np.seterr(invalid='ignore'); # disable a warning from matplotlib and cartopy"
   ]
  },
  {
   "cell_type": "code",
   "execution_count": 2,
   "metadata": {},
   "outputs": [],
   "source": [
    "#import dataset\n",
    "df = pd.read_csv('./final_data/df_pm_county_pop.csv', index_col = 0)"
   ]
  },
  {
   "cell_type": "code",
   "execution_count": 3,
   "metadata": {},
   "outputs": [],
   "source": [
    "df['County_State'] = df['County_State'].str.lower()\n",
    "df['StateName'] = df['StateName'].str.lower()"
   ]
  },
  {
   "cell_type": "markdown",
   "metadata": {},
   "source": [
    "Mortality data for ages 25+ from: https://wonder.cdc.gov/controller/datarequest/D140;jsessionid=3706D5550499EA883D9361BB7FC6\n",
    "Centers for Disease Control and Prevention, National Center for Health Statistics. National Vital Statistics\n",
    "System, Mortality: Compressed Mortality File 1999-2016 on CDC WONDER Online Database, released June 2017. Data are from the\n",
    "Compressed Mortality File 1999-2016 Series 20 No. 2U, 2016, as compiled from data provided by the 57 vital statistics\n",
    "jurisdictions through the Vital Statistics Cooperative Program. Accessed at http://wonder.cdc.gov/cmf-icd10.html on Dec 9, 2022\n"
   ]
  },
  {
   "cell_type": "code",
   "execution_count": 4,
   "metadata": {},
   "outputs": [],
   "source": [
    "mort_df = pd.read_excel('data/compressed_mortality_cdc_race.xlsx')\n",
    "mort_df = mort_df.drop(columns = 'Notes')\n",
    "mort_df.dropna(inplace = True)"
   ]
  },
  {
   "cell_type": "code",
   "execution_count": 5,
   "metadata": {},
   "outputs": [],
   "source": [
    "mort_df2 = pd.read_excel('./data/compressed_mortality_cdc_hispanic.xlsx')\n",
    "mort_df2 = mort_df2.drop(columns = {'Notes'})\n",
    "mort_df2.dropna(inplace = True)"
   ]
  },
  {
   "cell_type": "code",
   "execution_count": 6,
   "metadata": {},
   "outputs": [],
   "source": [
    "mort_df.rename(columns = {'Race':'Race/Hispanic Origin'}, inplace = True)\n",
    "mort_df2.rename(columns = {'Hispanic Origin':'Race/Hispanic Origin'}, inplace = True)"
   ]
  },
  {
   "cell_type": "code",
   "execution_count": 7,
   "metadata": {},
   "outputs": [],
   "source": [
    "mort_df = pd.concat([mort_df, mort_df2])\n",
    "mort_df.loc[mort_df['Population'] == 'Not Applicable','Population'] = np.nan"
   ]
  },
  {
   "cell_type": "code",
   "execution_count": 8,
   "metadata": {},
   "outputs": [],
   "source": [
    "mort_df['County'] = mort_df['County'].astype('string')\n",
    "mort_df[['county','state']] = mort_df['County'].str.split(', ',expand=True)"
   ]
  },
  {
   "cell_type": "code",
   "execution_count": 9,
   "metadata": {},
   "outputs": [],
   "source": [
    "states = {\n",
    "        'AK': 'Alaska',\n",
    "        'AL': 'Alabama',\n",
    "        'AR': 'Arkansas',\n",
    "        'AS': 'American Samoa',\n",
    "        'AZ': 'Arizona',\n",
    "        'CA': 'California',\n",
    "        'CO': 'Colorado',\n",
    "        'CT': 'Connecticut',\n",
    "        'DC': 'District of Columbia',\n",
    "        'DE': 'Delaware',\n",
    "        'FL': 'Florida',\n",
    "        'GA': 'Georgia',\n",
    "        'GU': 'Guam',\n",
    "        'HI': 'Hawaii',\n",
    "        'IA': 'Iowa',\n",
    "        'ID': 'Idaho',\n",
    "        'IL': 'Illinois',\n",
    "        'IN': 'Indiana',\n",
    "        'KS': 'Kansas',\n",
    "        'KY': 'Kentucky',\n",
    "        'LA': 'Louisiana',\n",
    "        'MA': 'Massachusetts',\n",
    "        'MD': 'Maryland',\n",
    "        'ME': 'Maine',\n",
    "        'MI': 'Michigan',\n",
    "        'MN': 'Minnesota',\n",
    "        'MO': 'Missouri',\n",
    "        'MP': 'Northern Mariana Islands',\n",
    "        'MS': 'Mississippi',\n",
    "        'MT': 'Montana',\n",
    "        'NA': 'National',\n",
    "        'NC': 'North Carolina',\n",
    "        'ND': 'North Dakota',\n",
    "        'NE': 'Nebraska',\n",
    "        'NH': 'New Hampshire',\n",
    "        'NJ': 'New Jersey',\n",
    "        'NM': 'New Mexico',\n",
    "        'NV': 'Nevada',\n",
    "        'NY': 'New York',\n",
    "        'OH': 'Ohio',\n",
    "        'OK': 'Oklahoma',\n",
    "        'OR': 'Oregon',\n",
    "        'PA': 'Pennsylvania',\n",
    "        'PR': 'Puerto Rico',\n",
    "        'RI': 'Rhode Island',\n",
    "        'SC': 'South Carolina',\n",
    "        'SD': 'South Dakota',\n",
    "        'TN': 'Tennessee',\n",
    "        'TX': 'Texas',\n",
    "        'UT': 'Utah',\n",
    "        'VA': 'Virginia',\n",
    "        'VI': 'Virgin Islands',\n",
    "        'VT': 'Vermont',\n",
    "        'WA': 'Washington',\n",
    "        'WI': 'Wisconsin',\n",
    "        'WV': 'West Virginia',\n",
    "        'WY': 'Wyoming'\n",
    "}"
   ]
  },
  {
   "cell_type": "code",
   "execution_count": 10,
   "metadata": {},
   "outputs": [],
   "source": [
    "mort_df['state'] = mort_df['state'].map(lambda x: x.replace(\" \", \"\"))\n",
    "state_list = [states[i] for i in mort_df['state'].values]\n",
    "mort_df['state'] = state_list"
   ]
  },
  {
   "cell_type": "code",
   "execution_count": 11,
   "metadata": {},
   "outputs": [],
   "source": [
    "mort_df['county'] = mort_df['county'].str.replace(' Parish', '')\n",
    "mort_df['county'] = mort_df['county'].str.replace(' County', '')\n",
    "mort_df['county'] = mort_df['county'].str.replace(' city', '')\n",
    "mort_df.loc[(mort_df['county'] == 'Shannon') & (mort_df['state'] == 'South Dakota'), 'county'] = 'Oglala Lakota'"
   ]
  },
  {
   "cell_type": "code",
   "execution_count": 12,
   "metadata": {},
   "outputs": [],
   "source": [
    "mort_df['county'] = mort_df['county'].str.lower()\n",
    "mort_df['state'] = mort_df['state'].str.lower()"
   ]
  },
  {
   "cell_type": "code",
   "execution_count": 13,
   "metadata": {},
   "outputs": [],
   "source": [
    "mort_df['County_State'] = mort_df['county'] + ', ' + mort_df['state']"
   ]
  },
  {
   "cell_type": "code",
   "execution_count": 14,
   "metadata": {},
   "outputs": [],
   "source": [
    "poll_df = df[df.StateName.isin(['american samoa', 'alaska','hawaii', 'commonwealth of the northern mariana islands', 'guam', 'puerto rico', 'united states virgin islands']) == False]"
   ]
  },
  {
   "cell_type": "code",
   "execution_count": 15,
   "metadata": {},
   "outputs": [],
   "source": [
    "mort_df = mort_df[mort_df.state.isin(['american samoa', 'alaska','hawaii', 'commonwealth of the northern mariana islands', 'guam', 'puerto rico', 'united states virgin islands']) == False]\n"
   ]
  },
  {
   "cell_type": "code",
   "execution_count": 16,
   "metadata": {},
   "outputs": [
    {
     "name": "stdout",
     "output_type": "stream",
     "text": [
      "dona ana, new mexico []\n",
      "mc kean, pennsylvania []\n",
      "de kalb, indiana []\n",
      "st. louis, missouri []\n",
      "baltimore, maryland []\n",
      "debaca, new mexico []\n",
      "la porte, indiana []\n",
      "richmond, virginia []\n"
     ]
    }
   ],
   "source": [
    "#find dif between two lists:\n",
    "for cs in list(set(mort_df['County_State']).difference(poll_df['County_State'])):\n",
    "    print(cs, poll_df.loc[poll_df['County_State'] == cs]['County_State'].values)\n",
    "    \n"
   ]
  },
  {
   "cell_type": "code",
   "execution_count": 17,
   "metadata": {
    "tags": []
   },
   "outputs": [
    {
     "name": "stderr",
     "output_type": "stream",
     "text": [
      "/home/emfreese/anaconda3/envs/grid_mod/lib/python3.9/site-packages/pandas/core/indexing.py:1817: SettingWithCopyWarning: \n",
      "A value is trying to be set on a copy of a slice from a DataFrame.\n",
      "Try using .loc[row_indexer,col_indexer] = value instead\n",
      "\n",
      "See the caveats in the documentation: https://pandas.pydata.org/pandas-docs/stable/user_guide/indexing.html#returning-a-view-versus-a-copy\n",
      "  self._setitem_single_column(loc, value, pi)\n"
     ]
    }
   ],
   "source": [
    "poll_df.loc[poll_df['County_State'] == 'laporte, indiana', 'County_State'] = 'la porte, indiana'\n",
    "poll_df.loc[poll_df['County_State'] == 'mckean, pennsylvania', 'County_State'] = 'mc kean, pennsylvania'\n",
    "poll_df.loc[poll_df['County_State'] == 'doña ana, new mexico', 'County_State'] = 'dona ana, new mexico'\n",
    "poll_df.loc[poll_df['County_State'] == 'dekalb, indiana', 'County_State'] = 'de kalb, indiana'\n",
    "poll_df.loc[poll_df['County_State'] == 'de baca, new mexico', 'County_State'] = 'debaca, new mexico'"
   ]
  },
  {
   "cell_type": "code",
   "execution_count": 18,
   "metadata": {},
   "outputs": [
    {
     "name": "stdout",
     "output_type": "stream",
     "text": [
      "baltimore, maryland []\n",
      "st. louis, missouri []\n",
      "richmond, virginia []\n"
     ]
    }
   ],
   "source": [
    "#find dif between two lists:\n",
    "for cs in list(set(mort_df['County_State']).difference(poll_df['County_State'])):\n",
    "    print(cs, poll_df.loc[poll_df['County_State'] == cs]['County_State'].values)\n",
    "    \n"
   ]
  },
  {
   "cell_type": "code",
   "execution_count": 19,
   "metadata": {},
   "outputs": [],
   "source": [
    "#merged mortality and poll data\n",
    "combined_df = mort_df.merge(poll_df, on = 'County_State')\n",
    "combined_df['Population'] = combined_df['Population'].fillna(-9999) #get rid of the nans\n",
    "combined_df = combined_df.loc[combined_df['Population'] != np.nan]"
   ]
  },
  {
   "cell_type": "code",
   "execution_count": 20,
   "metadata": {},
   "outputs": [],
   "source": [
    "#create geo dataframe\n",
    "combined_df['geometry'] = geopandas.GeoSeries.from_wkt(combined_df['geometry_county'])\n",
    "geo_df = geopandas.GeoDataFrame(combined_df, geometry='geometry')\n",
    "combined_df = geo_df.copy()"
   ]
  },
  {
   "cell_type": "markdown",
   "metadata": {},
   "source": [
    "#check that they look reasonable\n",
    "for p in ['O3_nonuc','PM25_nonuc']:\n",
    "    combined_df.plot(column = p, legend=True, \n",
    "                                         vmin = -1.85, vmax = 1.85, \n",
    "                                         cmap = cmocean.cm.balance)\n",
    "    plt.title( p)\n"
   ]
  },
  {
   "cell_type": "markdown",
   "metadata": {},
   "source": [
    "## Beta calculations for PM"
   ]
  },
  {
   "cell_type": "code",
   "execution_count": 21,
   "metadata": {},
   "outputs": [
    {
     "data": {
      "text/plain": [
       "array(['American Indian or Alaska Native', 'Asian or Pacific Islander',\n",
       "       'Black or African American', 'Hispanic or Latino',\n",
       "       'Not Hispanic or Latino', 'Not Stated', 'White'], dtype=object)"
      ]
     },
     "execution_count": 21,
     "metadata": {},
     "output_type": "execute_result"
    }
   ],
   "source": [
    "np.unique(combined_df['Race/Hispanic Origin'] )"
   ]
  },
  {
   "cell_type": "code",
   "execution_count": 22,
   "metadata": {},
   "outputs": [],
   "source": [
    "combined_df.loc[combined_df['Race/Hispanic Origin'] == 'Black or African American','RR_PM_mean'] = 1.208\n",
    "combined_df.loc[combined_df['Race/Hispanic Origin'] == 'White','RR_PM_mean'] = 1.063\n",
    "combined_df.loc[combined_df['Race/Hispanic Origin'] == 'Asian or Pacific Islander','RR_PM_mean'] = 1.096\n",
    "combined_df.loc[combined_df['Race/Hispanic Origin'] == 'Hispanic or Latino','RR_PM_mean'] = 1.116\n",
    "combined_df.loc[combined_df['Race/Hispanic Origin'] == 'American Indian or Alaska Native','RR_PM_mean'] = 1.100\n",
    "\n",
    "combined_df.loc[combined_df['Race/Hispanic Origin'] == 'Black or African American','RR_PM_low'] = 1.199\n",
    "combined_df.loc[combined_df['Race/Hispanic Origin'] == 'White','RR_PM_low'] = 1.060\n",
    "combined_df.loc[combined_df['Race/Hispanic Origin'] == 'Asian or Pacific Islander','RR_PM_low'] = 1.075\n",
    "combined_df.loc[combined_df['Race/Hispanic Origin'] == 'Hispanic or Latino','RR_PM_low'] = 1.100\n",
    "combined_df.loc[combined_df['Race/Hispanic Origin'] == 'American Indian or Alaska Native','RR_PM_low'] = 1.060\n",
    "\n",
    "combined_df.loc[combined_df['Race/Hispanic Origin'] == 'Black or African American','RR_PM_high'] = 1.217\n",
    "combined_df.loc[combined_df['Race/Hispanic Origin'] == 'White','RR_PM_high'] = 1.065\n",
    "combined_df.loc[combined_df['Race/Hispanic Origin'] == 'Asian or Pacific Islander','RR_PM_high'] = 1.117\n",
    "combined_df.loc[combined_df['Race/Hispanic Origin'] == 'Hispanic or Latino','RR_PM_high'] = 1.133\n",
    "combined_df.loc[combined_df['Race/Hispanic Origin'] == 'American Indian or Alaska Native','RR_PM_high'] = 1.140"
   ]
  },
  {
   "cell_type": "code",
   "execution_count": 23,
   "metadata": {},
   "outputs": [],
   "source": [
    "delta_chi = 10 #ug/m3\n",
    "for sub in ['_mean', '_low', '_high']:\n",
    "    for run in ['nonuc','nonuc_coal','renew_nonuc']:\n",
    "        combined_df[f'β_PM{sub}'] = np.log(combined_df[f'RR_PM{sub}'])/delta_chi\n",
    "        combined_df['mortality_0'] = combined_df['Deaths']/combined_df['Population']\n",
    "        combined_df[f'Δmortality_PM{sub}_{run}'] =  combined_df[f'PM25_{run}']* combined_df['Population'] * combined_df['mortality_0'] * combined_df[f'β_PM{sub}']\n",
    "\n"
   ]
  },
  {
   "cell_type": "markdown",
   "metadata": {},
   "source": [
    "# Calculations for Ozone"
   ]
  },
  {
   "cell_type": "markdown",
   "metadata": {},
   "source": [
    "RR from Di et al. \n",
    "ΔM≃β_LL×I_OBS×(Δχ×p_aff )   "
   ]
  },
  {
   "cell_type": "code",
   "execution_count": 24,
   "metadata": {},
   "outputs": [],
   "source": [
    "combined_df.loc[combined_df['Race/Hispanic Origin'] == 'Black or African American','RR_O3_mean'] = 1.009\n",
    "combined_df.loc[combined_df['Race/Hispanic Origin'] == 'White','RR_O3_mean'] = 1.013\n",
    "combined_df.loc[combined_df['Race/Hispanic Origin'] == 'Asian or Pacific Islander','RR_O3_mean'] = .980\n",
    "combined_df.loc[combined_df['Race/Hispanic Origin'] == 'Hispanic or Latino','RR_O3_mean'] = .975\n",
    "combined_df.loc[combined_df['Race/Hispanic Origin'] == 'American Indian or Alaska Native','RR_O3_mean'] = .961"
   ]
  },
  {
   "cell_type": "code",
   "execution_count": 25,
   "metadata": {},
   "outputs": [],
   "source": [
    "combined_df.loc[combined_df['Race/Hispanic Origin'] == 'Black or African American','RR_O3_low'] = 1.005\n",
    "combined_df.loc[combined_df['Race/Hispanic Origin'] == 'White','RR_O3_low'] = 1.012\n",
    "combined_df.loc[combined_df['Race/Hispanic Origin'] == 'Asian or Pacific Islander','RR_O3_low'] = .972\n",
    "combined_df.loc[combined_df['Race/Hispanic Origin'] == 'Hispanic or Latino','RR_O3_low'] = .968\n",
    "combined_df.loc[combined_df['Race/Hispanic Origin'] == 'American Indian or Alaska Native','RR_O3_low'] = .944"
   ]
  },
  {
   "cell_type": "code",
   "execution_count": 26,
   "metadata": {},
   "outputs": [],
   "source": [
    "combined_df.loc[combined_df['Race/Hispanic Origin'] == 'Black or African American','RR_O3_high'] = 1.012\n",
    "combined_df.loc[combined_df['Race/Hispanic Origin'] == 'White','RR_O3_high'] = 1.014\n",
    "combined_df.loc[combined_df['Race/Hispanic Origin'] == 'Asian or Pacific Islander','RR_O3_high'] = .988\n",
    "combined_df.loc[combined_df['Race/Hispanic Origin'] == 'Hispanic or Latino','RR_O3_high'] = .981\n",
    "combined_df.loc[combined_df['Race/Hispanic Origin'] == 'American Indian or Alaska Native','RR_O3_high'] = .978"
   ]
  },
  {
   "cell_type": "code",
   "execution_count": 41,
   "metadata": {},
   "outputs": [],
   "source": [
    "delta_chi = 10 #ppb\n",
    "for sub in ['_mean', '_low', '_high']:\n",
    "    for run in ['nonuc','nonuc_coal','renew_nonuc']:\n",
    "        combined_df[f'β_O3{sub}'] = np.log(combined_df[f'RR_O3{sub}'])/delta_chi\n",
    "        combined_df[f'Δmortality_O3{sub}_{run}'] =  combined_df[f'O3_{run}']* combined_df['Population'] * combined_df['mortality_0'] * combined_df[f'β_O3{sub}']\n",
    "\n"
   ]
  },
  {
   "cell_type": "code",
   "execution_count": 102,
   "metadata": {},
   "outputs": [
    {
     "data": {
      "text/plain": [
       "<AxesSubplot:>"
      ]
     },
     "execution_count": 102,
     "metadata": {},
     "output_type": "execute_result"
    },
    {
     "data": {
      "image/png": "[encoded data removed]",
      "text/plain": [
       "<Figure size 432x288 with 1 Axes>"
      ]
     },
     "metadata": {
      "needs_background": "light"
     },
     "output_type": "display_data"
    }
   ],
   "source": [
    "combined_df['β_O3_mean'].plot()"
   ]
  },
  {
   "cell_type": "code",
   "execution_count": 97,
   "metadata": {},
   "outputs": [
    {
     "data": {
      "text/plain": [
       "<AxesSubplot:>"
      ]
     },
     "execution_count": 97,
     "metadata": {},
     "output_type": "execute_result"
    },
    {
     "data": {
      "image/png": "[encoded data removed]",
      "text/plain": [
       "<Figure size 432x288 with 1 Axes>"
      ]
     },
     "metadata": {
      "needs_background": "light"
     },
     "output_type": "display_data"
    }
   ],
   "source": [
    "combined_df[f'Δmortality_O3_mean_nonuc']"
   ]
  },
  {
   "cell_type": "markdown",
   "metadata": {},
   "source": [
    "## Additional Calculations"
   ]
  },
  {
   "cell_type": "code",
   "execution_count": 42,
   "metadata": {},
   "outputs": [],
   "source": [
    "#createa a geodataframe\n",
    "geometry_df = combined_df.groupby(\n",
    "    ['County_State','Race/Hispanic Origin','nuclear_containing']).first()"
   ]
  },
  {
   "cell_type": "code",
   "execution_count": 43,
   "metadata": {},
   "outputs": [],
   "source": [
    "#calculate the mortalities/population\n",
    "for sub in ['_mean', '_low', '_high']:\n",
    "    for run in ['nonuc','nonuc_coal','renew_nonuc']:\n",
    "        combined_df[f'Δmortality_O3{sub}_{run}_per1mil'] = combined_df[f'Δmortality_O3_mean_{run}']/combined_df['Population']*1e6\n",
    "        combined_df[f'Δmortality_PM{sub}_{run}_per1mil'] = combined_df[f'Δmortality_PM_mean_{run}']/combined_df['Population']*1e6"
   ]
  },
  {
   "cell_type": "code",
   "execution_count": 44,
   "metadata": {},
   "outputs": [],
   "source": [
    "final_df = combined_df.groupby(['County_State','Race/Hispanic Origin','nuclear_containing', 'coal_containing']).mean()"
   ]
  },
  {
   "cell_type": "code",
   "execution_count": 45,
   "metadata": {},
   "outputs": [],
   "source": [
    "final_df = final_df.join(geometry_df['geometry'])"
   ]
  },
  {
   "cell_type": "markdown",
   "metadata": {},
   "source": [
    "# Analysis"
   ]
  },
  {
   "cell_type": "code",
   "execution_count": 46,
   "metadata": {},
   "outputs": [],
   "source": [
    "def grouped_weighted_avg(values, weights):\n",
    "    return (values * weights).sum() / weights.sum()"
   ]
  },
  {
   "cell_type": "markdown",
   "metadata": {},
   "source": [
    "## Total Mortalities by scenario and pollutant"
   ]
  },
  {
   "cell_type": "code",
   "execution_count": 47,
   "metadata": {},
   "outputs": [
    {
     "name": "stdout",
     "output_type": "stream",
     "text": [
      "1559.637562892105\n",
      "3594.038120017524\n",
      "-585.0711758093041\n"
     ]
    }
   ],
   "source": [
    "for run in ['nonuc','nonuc_coal','renew_nonuc']:\n",
    "    print(final_df[f'Δmortality_O3_mean_{run}'].sum())"
   ]
  },
  {
   "cell_type": "code",
   "execution_count": 48,
   "metadata": {},
   "outputs": [
    {
     "name": "stdout",
     "output_type": "stream",
     "text": [
      "3868.523389754152\n",
      "4416.622715614864\n",
      "1068.7778866098681\n"
     ]
    }
   ],
   "source": [
    "for run in ['nonuc','nonuc_coal','renew_nonuc']:\n",
    "    print(final_df[f'Δmortality_PM_mean_{run}'].sum())"
   ]
  },
  {
   "cell_type": "markdown",
   "metadata": {},
   "source": [
    "## Exposure Difference by Coal Containing or Not"
   ]
  },
  {
   "cell_type": "code",
   "execution_count": 49,
   "metadata": {},
   "outputs": [
    {
     "name": "stdout",
     "output_type": "stream",
     "text": [
      "Near PM nonuc\n",
      "0.2231527793147156\n",
      "Near O3 nonuc\n",
      "0.6011060337174368\n",
      "Near PM nonuc_coal\n",
      "0.19335954828644286\n",
      "Near O3 nonuc_coal\n",
      "1.0756018209801794\n"
     ]
    }
   ],
   "source": [
    "for run in ['nonuc','nonuc_coal']:\n",
    "    print('Near', 'PM', run)\n",
    "    print(grouped_weighted_avg(final_df.xs(True, level = 3)[f'PM25_{run}'].groupby('County_State').mean(), \n",
    "                     final_df.xs(True, level = 3)[f'Population'].groupby('County_State').mean()))\n",
    "    print('Near', 'O3', run)\n",
    "    print(grouped_weighted_avg(final_df.xs(True, level = 3)[f'O3_{run}'].groupby('County_State').mean(), \n",
    "                     final_df.xs(True, level = 3)[f'Population'].groupby('County_State').mean()))\n",
    "    "
   ]
  },
  {
   "cell_type": "markdown",
   "metadata": {},
   "source": [
    "### Mortality Difference by Coal County"
   ]
  },
  {
   "cell_type": "code",
   "execution_count": 50,
   "metadata": {},
   "outputs": [
    {
     "name": "stdout",
     "output_type": "stream",
     "text": [
      "nonuc\n",
      "PM, near:  11.84080694785532\n",
      "PM, not:  8.440731404457427\n",
      "O3, near:  4.05466808010775\n",
      "O3, not:  3.580071156255379\n",
      "nonuc_coal\n",
      "PM, near:  11.158893817037958\n",
      "PM, not:  10.217743839273284\n",
      "O3, near:  7.034631784136795\n",
      "O3, not:  8.818597245432203\n"
     ]
    }
   ],
   "source": [
    "for run in ['nonuc', 'nonuc_coal']:\n",
    "    print(run)\n",
    "    print('PM, near: ', (final_df.xs(True, level = 3)[f'Δmortality_PM_mean_{run}'].sum()/final_df.xs(True, level = 3)['Population'].sum())*1e6)\n",
    "    print('PM, not: ', (final_df.xs(False, level = 3)[f'Δmortality_PM_mean_{run}'].sum()/final_df.xs(False, level = 3)['Population'].sum())*1e6)\n",
    "    print('O3, near: ', (final_df.xs(True, level = 3)[f'Δmortality_O3_mean_{run}'].sum()/final_df.xs(True, level = 3)['Population'].sum())*1e6)\n",
    "    print('O3, not: ', (final_df.xs(False, level = 3)[f'Δmortality_O3_mean_{run}'].sum()/final_df.xs(False, level = 3)['Population'].sum())*1e6)"
   ]
  },
  {
   "cell_type": "markdown",
   "metadata": {},
   "source": [
    "## Exposure Difference by Nuclear or Not County"
   ]
  },
  {
   "cell_type": "code",
   "execution_count": 51,
   "metadata": {},
   "outputs": [
    {
     "name": "stdout",
     "output_type": "stream",
     "text": [
      "PM25\n",
      "Near nonuc\n",
      "0.16085316566499183\n",
      "Not nonuc\n",
      "0.17030336802487214\n",
      "O3\n",
      "Near nonuc\n",
      "0.4527071290304673\n",
      "Not nonuc\n",
      "0.4749086895126478\n",
      "PM25\n",
      "Near nonuc_coal\n",
      "0.2761228469948298\n",
      "Not nonuc_coal\n",
      "0.18605981062121835\n",
      "O3\n",
      "Near nonuc_coal\n",
      "1.4786084125261834\n",
      "Not nonuc_coal\n",
      "1.1262916515435022\n",
      "PM25\n",
      "Near renew_nonuc\n",
      "0.05826114254362446\n",
      "Not renew_nonuc\n",
      "0.04364038074179068\n",
      "O3\n",
      "Near renew_nonuc\n",
      "-0.19927701300164136\n",
      "Not renew_nonuc\n",
      "-0.2676053350909169\n"
     ]
    }
   ],
   "source": [
    "for run in ['nonuc','nonuc_coal','renew_nonuc']:\n",
    "    print('PM25')\n",
    "    print('Near', run)\n",
    "    print(grouped_weighted_avg(final_df.xs(True, level = 2)[f'PM25_{run}'],\n",
    "                  final_df.xs(True, level = 2)[f'Population']))\n",
    "    print('Not', run)\n",
    "    print(grouped_weighted_avg(final_df.xs(False, level = 2)[f'PM25_{run}'],\n",
    "                  final_df.xs(False, level = 2)[f'Population']))\n",
    "    print('O3')\n",
    "    print('Near', run)\n",
    "    print(grouped_weighted_avg(final_df.xs(True, level = 2)[f'O3_{run}'],\n",
    "                  final_df.xs(True, level = 2)[f'Population']))\n",
    "    print('Not', run)\n",
    "    print(grouped_weighted_avg(final_df.xs(False, level = 2)[f'O3_{run}'],\n",
    "                  final_df.xs(False, level = 2)[f'Population']))"
   ]
  },
  {
   "cell_type": "markdown",
   "metadata": {},
   "source": [
    "### Mortality Difference by Nuclear or Not Adjacent County"
   ]
  },
  {
   "cell_type": "code",
   "execution_count": 82,
   "metadata": {},
   "outputs": [
    {
     "name": "stdout",
     "output_type": "stream",
     "text": [
      "nonuc\n",
      "PM, near:  7.953206028357115\n",
      "PM, not:  9.19446289905097\n",
      "O3, near:  3.0597627101163787\n",
      "O3, not:  3.7148720588351343\n",
      "nonuc_coal\n",
      "PM, near:  12.568515519625342\n",
      "PM, not:  10.27784269256486\n",
      "O3, near:  8.923313736839525\n",
      "O3, not:  8.446745167567924\n",
      "renew_nonuc\n",
      "PM, near:  2.915640218838251\n",
      "PM, not:  2.4962421760398077\n",
      "O3, near:  -1.0491173116977073\n",
      "O3, not:  -1.3988590870527966\n"
     ]
    }
   ],
   "source": [
    "sub = 'mean'\n",
    "for run in ['nonuc', 'nonuc_coal','renew_nonuc']:\n",
    "    print(run)\n",
    "    print('PM, near: ', utils.grouped_weighted_avg(final_df.xs(True, level = 2)[f'Δmortality_PM_{sub}_{run}_per1mil'], final_df.xs(True, level = 2)['Population']))\n",
    "    print('PM, not: ', utils.grouped_weighted_avg(final_df.xs(False, level = 2)[f'Δmortality_PM_{sub}_{run}_per1mil'], final_df.xs(False, level = 2)['Population']))\n",
    "    print('O3, near: ', utils.grouped_weighted_avg(final_df.xs(True, level = 2)[f'Δmortality_O3_{sub}_{run}_per1mil'], final_df.xs(True, level = 2)['Population']))\n",
    "    print('O3, not: ', utils.grouped_weighted_avg(final_df.xs(False, level = 2)[f'Δmortality_O3_{sub}_{run}_per1mil'], final_df.xs(False, level = 2)['Population']))"
   ]
  },
  {
   "cell_type": "markdown",
   "metadata": {},
   "source": [
    "## Plot the counties with Nuclear Plants near "
   ]
  },
  {
   "cell_type": "code",
   "execution_count": 50,
   "metadata": {},
   "outputs": [],
   "source": [
    "gen = feather.read_dataframe(f'../optimization_model/outputs/gen_normal.feather')\n",
    "carac = pd.read_csv(f'../optimization_model/good_model_inputs/inputs_gen_normal.csv')\n",
    "carac.loc[carac['FuelType'] == 'Pumps', 'FuelType'] = 'Hydro' #change pumps to hydro label\n",
    "# Clean columns name\n",
    "carac = carac.drop('Unnamed: 0', axis=1)\n",
    "\n",
    "# Merge\n",
    "df_normal = pd.concat((carac,gen), axis=1)\n",
    "df_normal['2016_365_23'] = df_normal['2016_365_22'].copy()\n",
    "\n",
    "col_list = list(gen.columns)\n",
    "col_list.append('2016_365_23')\n",
    "df_normal['total_gen'] = df_normal[col_list].sum(axis=1)"
   ]
  },
  {
   "cell_type": "code",
   "execution_count": 51,
   "metadata": {},
   "outputs": [
    {
     "data": {
      "image/png": "[encoded data removed]",
      "text/plain": [
       "<Figure size 720x360 with 1 Axes>"
      ]
     },
     "metadata": {
      "needs_background": "light"
     },
     "output_type": "display_data"
    }
   ],
   "source": [
    "fig, ax = plt.subplots(figsize=[10,5], subplot_kw={'projection':ccrs.LambertConformal()})\n",
    "mod_factor = 80000\n",
    "\n",
    "###### Nuclear Plot ######\n",
    "\n",
    "plants = ['Nuclear'] \n",
    "\n",
    "fuel_type=df_normal.loc[(df_normal['FuelType'].isin(plants))].groupby(['ORISCode']).first()['FuelType']\n",
    "\n",
    "\n",
    "###### Create axes ######\n",
    "ax.coastlines()\n",
    "ax.add_feature(cfeat.STATES)\n",
    "ax.set_title('a) Nuclear Plants', fontsize = 16)\n",
    "\n",
    "###### plot #######\n",
    "final_df.reset_index().plot(ax = ax, column = 'nuclear_adjacent', cmap='Blues' )\n",
    "\n",
    "\n",
    "#create lat and lon \n",
    "lat_o = df_normal.loc[(df_normal['FuelType'].isin(plants))].groupby(['ORISCode']).first()['LAT']\n",
    "lon_o = df_normal.loc[(df_normal['FuelType'].isin(plants))].groupby(['ORISCode']).first()['LON']\n",
    "#color based on the fuel type\n",
    "fuel_type=df_normal.loc[(df_normal['FuelType'].isin(plants))].groupby(['ORISCode']).first()['FuelType']\n",
    "#size based on generation\n",
    "size=df_normal.loc[(df_normal['FuelType'].isin(plants))].groupby(['ORISCode']).mean()['total_gen']/mod_factor\n",
    "#PCM parameters and plot for observations\n",
    "PCM_o=ax.scatter(lon_o, lat_o, c='C3', s = size, linewidth=.3, marker = 'o', edgecolor = 'k', \n",
    "                  alpha = 1.)\n",
    "\n"
   ]
  },
  {
   "cell_type": "markdown",
   "metadata": {},
   "source": [
    "## Overall Difference in Exposure by Race"
   ]
  },
  {
   "cell_type": "code",
   "execution_count": 64,
   "metadata": {
    "tags": []
   },
   "outputs": [
    {
     "name": "stdout",
     "output_type": "stream",
     "text": [
      "\n",
      " PM25_nonuc \n",
      "\n",
      "Black or African American 0.19503819922698037\n",
      "Asian or Pacific Islander 0.11091368764938761\n",
      "Hispanic or Latino 0.09071379492804463\n",
      "White 0.17106535862392414\n",
      "American Indian or Alaska Native 0.0730553051391578\n",
      "\n",
      " PM25_nonuc_coal \n",
      "\n",
      "Black or African American 0.2683086679467005\n",
      "Asian or Pacific Islander 0.13213376927376655\n",
      "Hispanic or Latino 0.07289433667498586\n",
      "White 0.18480819244854674\n",
      "American Indian or Alaska Native 0.09057522281198503\n",
      "\n",
      " PM25_renew_nonuc \n",
      "\n",
      "Black or African American 0.060708032513728936\n",
      "Asian or Pacific Islander 0.02649212689259441\n",
      "Hispanic or Latino 0.01509850081214234\n",
      "White 0.04376934632844536\n",
      "American Indian or Alaska Native 0.0013580020654468295\n",
      "\n",
      " O3_nonuc \n",
      "\n",
      "Black or African American 0.5852592698554492\n",
      "Asian or Pacific Islander 0.2687240334795328\n",
      "Hispanic or Latino 0.22127639928947745\n",
      "White 0.4739412118964731\n",
      "American Indian or Alaska Native 0.21105176738477405\n",
      "\n",
      " O3_nonuc_coal \n",
      "\n",
      "Black or African American 1.8121629930491083\n",
      "Asian or Pacific Islander 0.6709488148685074\n",
      "Hispanic or Latino 0.5125232786337558\n",
      "White 1.0841128606242916\n",
      "American Indian or Alaska Native 0.6659891469584945\n",
      "\n",
      " O3_renew_nonuc \n",
      "\n",
      "Black or African American -0.17245025903479042\n",
      "Asian or Pacific Islander -0.2743782437003814\n",
      "Hispanic or Latino -0.3224071620219961\n",
      "White -0.27413826170351235\n",
      "American Indian or Alaska Native -0.49880503822998423\n"
     ]
    }
   ],
   "source": [
    "\n",
    "for poll in ['PM25_nonuc','PM25_nonuc_coal','PM25_renew_nonuc','O3_nonuc','O3_nonuc_coal', 'O3_renew_nonuc']:\n",
    "    print('\\n', poll, '\\n')\n",
    "    for re in ['Black or African American', 'Asian or Pacific Islander',\n",
    "        'Hispanic or Latino',\n",
    "        'White','American Indian or Alaska Native']:\n",
    "        print(re, grouped_weighted_avg(final_df.xs(re, level =1)[poll], \n",
    "                           final_df.xs(re, level =1)[f'Population']))"
   ]
  },
  {
   "cell_type": "markdown",
   "metadata": {},
   "source": [
    "## Overall Difference in Mortality by Race"
   ]
  },
  {
   "cell_type": "code",
   "execution_count": null,
   "metadata": {},
   "outputs": [],
   "source": [
    "print(re, np.round((((combined_df[f'Δmortality_{poll}_mean_{run}']*combined_df[re]/combined_df['TOT_POP']).sum()/combined_df[re].sum())*1e6),2),\n"
   ]
  },
  {
   "cell_type": "code",
   "execution_count": 87,
   "metadata": {},
   "outputs": [],
   "source": [
    "run = 'nonuc'"
   ]
  },
  {
   "cell_type": "code",
   "execution_count": 88,
   "metadata": {},
   "outputs": [
    {
     "data": {
      "text/plain": [
       "8.778289546897435"
      ]
     },
     "execution_count": 88,
     "metadata": {},
     "output_type": "execute_result"
    }
   ],
   "source": [
    "(((combined_df.loc[combined_df['Race/Hispanic Origin'] == 'White'][f'Δmortality_O3_{sub}_{run}'] * \n",
    "    combined_df.loc[combined_df['Race/Hispanic Origin'] == 'White'][f'Population']/combined_df['Population']).sum()/\n",
    " combined_df.loc[combined_df['Race/Hispanic Origin'] == 'White'][f'Population'].sum())*1e6)\n",
    "\n",
    "\n",
    "                           \n",
    "                           \n",
    "                           "
   ]
  },
  {
   "cell_type": "code",
   "execution_count": null,
   "metadata": {},
   "outputs": [],
   "source": []
  },
  {
   "cell_type": "code",
   "execution_count": 93,
   "metadata": {},
   "outputs": [
    {
     "name": "stdout",
     "output_type": "stream",
     "text": [
      "Black or African American\n",
      "nonuc\n",
      "6.267615159045576\n",
      "nonuc_coal\n",
      "19.592784963553196\n",
      "renew_nonuc\n",
      "-1.5976673694506531\n",
      "Asian or Pacific Islander\n",
      "nonuc\n",
      "-2.0906796283147364\n",
      "nonuc_coal\n",
      "-5.266345779460239\n",
      "renew_nonuc\n",
      "2.4887162693643066\n",
      "Hispanic or Latino\n",
      "nonuc\n",
      "-2.43832419152061\n",
      "nonuc_coal\n",
      "-4.82952499082363\n",
      "renew_nonuc\n",
      "4.544864323284467\n",
      "White\n",
      "nonuc\n",
      "8.778289546897435\n",
      "nonuc_coal\n",
      "19.457282222772236\n",
      "renew_nonuc\n",
      "-4.3186104940908345\n",
      "American Indian or Alaska Native\n",
      "nonuc\n",
      "-7.970506715469234\n",
      "nonuc_coal\n",
      "-27.68906513189725\n",
      "renew_nonuc\n",
      "18.592748951265403\n"
     ]
    }
   ],
   "source": [
    "CI = 'mean'\n",
    "for re in ['Black or African American', 'Asian or Pacific Islander',\n",
    "        'Hispanic or Latino',\n",
    "        'White','American Indian or Alaska Native']:\n",
    "    print(re)\n",
    "    for run in ['nonuc','nonuc_coal','renew_nonuc']:\n",
    "        print( run)\n",
    "        #print('PM25: ', (final_df.xs(re, level = 1)[f'Δmortality_PM_{CI}_{run}'].sum()/\n",
    "               #final_df.xs(re, level = 1)['Population'].sum())*1e6)\n",
    "        #print((final_df.xs(re, level = 1)[f'Δmortality_O3_{CI}_{run}']).sum())\n",
    "        #print('Ozone: ', (final_df.xs(re, level = 1)[f'Δmortality_O3_{CI}_{run}'].sum()/\n",
    "              # final_df.xs(re, level = 1)['Population'].sum())*1e6)\n",
    "\n",
    "       # print('test2', grouped_weighted_avg(final_df.xs(re, level =1)[f'Δmortality_O3_{CI}_{run}_per1mil'], \n",
    "                        #   final_df.xs(re, level =1)[f'Population']))\n",
    "        \n",
    "        print(utils.grouped_weighted_avg(combined_df.loc[combined_df['Race/Hispanic Origin'] == re][f'Δmortality_O3_{CI}_{run}_per1mil'],\n",
    "                           combined_df.loc[combined_df['Race/Hispanic Origin'] == re]['Population']))"
   ]
  },
  {
   "cell_type": "markdown",
   "metadata": {},
   "source": [
    "### Number of People"
   ]
  },
  {
   "cell_type": "code",
   "execution_count": 74,
   "metadata": {},
   "outputs": [
    {
     "name": "stdout",
     "output_type": "stream",
     "text": [
      "American Indian or Alaska Native 1775483.0\n",
      "Asian or Pacific Islander 12171227.0\n",
      "Black or African American 26526147.5\n",
      "Hispanic or Latino 30832800.0\n",
      "White 171983729.5\n"
     ]
    }
   ],
   "source": [
    "for re in ['American Indian or Alaska Native', 'Asian or Pacific Islander',\n",
    "       'Black or African American', 'Hispanic or Latino',\n",
    "        'White']:\n",
    "    print(re, final_df.xs(re, level =1)['Population'].sum())"
   ]
  },
  {
   "cell_type": "code",
   "execution_count": 75,
   "metadata": {},
   "outputs": [
    {
     "name": "stdout",
     "output_type": "stream",
     "text": [
      "American Indian or Alaska Native 89.42903752039152\n",
      "Asian or Pacific Islander 87.30831973898859\n",
      "Black or African American 56.313213703099514\n",
      "Hispanic or Latino 74.38825448613377\n",
      "White 0.16313213703099905\n"
     ]
    }
   ],
   "source": [
    "for re in ['American Indian or Alaska Native', 'Asian or Pacific Islander',\n",
    "       'Black or African American', 'Hispanic or Latino',\n",
    "        'White']:\n",
    "    print(re, 100-(len(np.unique(final_df.xs(re, level = 1).reset_index()['County_State']))/len(np.unique(final_df.reset_index()['County_State'])))*100)"
   ]
  }
 ],
 "metadata": {
  "kernelspec": {
   "display_name": "Python grid_mod",
   "language": "python",
   "name": "grid_mod"
  },
  "language_info": {
   "codemirror_mode": {
    "name": "ipython",
    "version": 3
   },
   "file_extension": ".py",
   "mimetype": "text/x-python",
   "name": "python",
   "nbconvert_exporter": "python",
   "pygments_lexer": "ipython3",
   "version": "3.9.6"
  }
 },
 "nbformat": 4,
 "nbformat_minor": 4
}
