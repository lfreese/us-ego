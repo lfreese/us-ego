{
 "cells": [
  {
   "cell_type": "code",
   "execution_count": 1,
   "id": "20f64f10",
   "metadata": {},
   "outputs": [],
   "source": [
    "import pandas as pd\n",
    "import xarray as xr\n",
    "\n",
    "import numpy as np\n",
    "import matplotlib.pyplot as plt\n",
    "\n",
    "from shapely.geometry import Polygon, mapping\n",
    "import cartopy.feature as cfeat\n",
    "import cartopy.crs as ccrs\n",
    "import regionmask\n",
    "import xesmf as xe\n",
    "import cmocean\n",
    "\n",
    "\n",
    "import sys\n",
    "sys.path.append('../')\n",
    "import utils\n",
    "import plotting\n",
    "\n",
    "import math"
   ]
  },
  {
   "cell_type": "code",
   "execution_count": 2,
   "id": "2f040015",
   "metadata": {},
   "outputs": [],
   "source": [
    "df = pd.read_csv('./final_data/df_pm_o3_county.csv', index_col = 0)"
   ]
  }
 ],
 "metadata": {
  "kernelspec": {
   "display_name": "Python 3 (ipykernel)",
   "language": "python",
   "name": "python3"
  },
  "language_info": {
   "codemirror_mode": {
    "name": "ipython",
    "version": 3
   },
   "file_extension": ".py",
   "mimetype": "text/x-python",
   "name": "python",
   "nbconvert_exporter": "python",
   "pygments_lexer": "ipython3",
   "version": "3.9.6"
  }
 },
 "nbformat": 4,
 "nbformat_minor": 5
}
