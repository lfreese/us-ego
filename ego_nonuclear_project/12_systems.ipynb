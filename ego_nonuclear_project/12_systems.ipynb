{
 "cells": [
  {
   "cell_type": "code",
   "execution_count": 1,
   "id": "dd968e2e-78f5-471b-9255-967fa847d37d",
   "metadata": {},
   "outputs": [],
   "source": [
    "import pandas as pd\n",
    "import xarray as xr\n",
    "\n",
    "import numpy as np\n",
    "import matplotlib.pyplot as plt\n",
    "\n",
    "from shapely.geometry import Polygon, mapping\n",
    "import cartopy.feature as cfeat\n",
    "import cartopy.crs as ccrs\n",
    "import regionmask\n",
    "import xesmf as xe\n",
    "import cmocean\n",
    "\n",
    "\n",
    "import sys\n",
    "sys.path.append('../')\n",
    "import utils\n",
    "import plotting\n",
    "\n",
    "import math"
   ]
  },
  {
   "cell_type": "code",
   "execution_count": 2,
   "id": "2f8c1183-e3ab-426a-bfa7-a844649317d0",
   "metadata": {},
   "outputs": [],
   "source": [
    "df = pd.read_csv('./final_data/df_pm_o3_county.csv', index_col = 0)"
   ]
  },
  {
   "cell_type": "code",
   "execution_count": 5,
   "id": "dab7eebb-6fbc-4d77-8bd7-8c77a82fc4c1",
   "metadata": {},
   "outputs": [
    {
     "ename": "NameError",
     "evalue": "name 'combined_df' is not defined",
     "output_type": "error",
     "traceback": [
      "\u001b[0;31m---------------------------------------------------------------------------\u001b[0m",
      "\u001b[0;31mNameError\u001b[0m                                 Traceback (most recent call last)",
      "\u001b[0;32m/tmp/ipykernel_1566896/3350940587.py\u001b[0m in \u001b[0;36m<module>\u001b[0;34m\u001b[0m\n\u001b[0;32m----> 1\u001b[0;31m utils.grouped_weighted_avg(combined_df.loc[combined_df['coal_containing'] == 1][f'PM25_{run}'].groupby('County_State').mean(), \n\u001b[0m\u001b[1;32m      2\u001b[0m                      combined_df.loc[combined_df['coal_containing'] == 1][f'TOT_POP'].groupby('County_State').mean())\n",
      "\u001b[0;31mNameError\u001b[0m: name 'combined_df' is not defined"
     ]
    }
   ],
   "source": []
  },
  {
   "cell_type": "code",
   "execution_count": null,
   "id": "b12fa20b-74a2-4882-a0d4-34c39ef1940e",
   "metadata": {},
   "outputs": [],
   "source": []
  }
 ],
 "metadata": {
  "kernelspec": {
   "display_name": "Python 3 (ipykernel)",
   "language": "python",
   "name": "python3"
  },
  "language_info": {
   "codemirror_mode": {
    "name": "ipython",
    "version": 3
   },
   "file_extension": ".py",
   "mimetype": "text/x-python",
   "name": "python",
   "nbconvert_exporter": "python",
   "pygments_lexer": "ipython3",
   "version": "3.9.10"
  }
 },
 "nbformat": 4,
 "nbformat_minor": 5
}
