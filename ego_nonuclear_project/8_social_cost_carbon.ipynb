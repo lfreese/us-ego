{
 "cells": [
  {
   "cell_type": "code",
   "execution_count": 1,
   "metadata": {},
   "outputs": [],
   "source": [
    "import xarray as xr\n",
    "import pandas as pd\n",
    "import matplotlib.pyplot as plt\n",
    "import seaborn as sns\n",
    "import numpy as np"
   ]
  },
  {
   "cell_type": "code",
   "execution_count": 2,
   "metadata": {},
   "outputs": [],
   "source": [
    "df = pd.read_csv('/net/fs11/d0/emfreese/social_cost_carbon/tsd_2021_all_mc_runs.csv', header = [0,1,2,3,4], index_col = 0)\n",
    "df = df.transpose()  #data is in 2007$/metric ton\n",
    "df = df.droplevel(['Model','Scenario']).xs('2020')\n",
    "\n",
    "#### read in emissions data ####\n",
    "gmodel_egrid = xr.open_zarr(f'./data/gmodel_egrid_emissions_ds.zarr')\n"
   ]
  },
  {
   "cell_type": "code",
   "execution_count": 3,
   "metadata": {},
   "outputs": [],
   "source": [
    "#### CO2 values ####\n",
    "normal_CO2 = ((gmodel_egrid.sel(model_name = 'normal_model')['PLCO2RTA']*gmodel_egrid.sel(model_name = 'normal_model')['annual_modelgeneration']).sum()*.001).values #metric tons\n",
    "nonuc_CO2 = ((gmodel_egrid.sel(model_name = 'nonuc_model')['PLCO2RTA']*gmodel_egrid.sel(model_name = 'nonuc_model')['annual_modelgeneration']).sum()*.001).values #metric tons\n",
    "dif_CO2 = nonuc_CO2 - normal_CO2"
   ]
  },
  {
   "cell_type": "code",
   "execution_count": 4,
   "metadata": {},
   "outputs": [],
   "source": [
    "#### datasets for normal and no nuclear cost of CO2 emissions ####\n",
    "df_nonuc = (df*nonuc_CO2)\n",
    "df_normal = (df*normal_CO2)\n",
    "df_dif = (df*dif_CO2)"
   ]
  },
  {
   "cell_type": "code",
   "execution_count": 5,
   "metadata": {},
   "outputs": [
    {
     "name": "stderr",
     "output_type": "stream",
     "text": [
      "/tmp/ipykernel_3425728/2610111490.py:7: PerformanceWarning: indexing past lexsort depth may impact performance.\n",
      "  x = df_dif.loc[(scc, 'CO2')].values.flatten()*1e-9 #drop the levels for model, scenario type, choose 2010 levels\n",
      "/tmp/ipykernel_3425728/2610111490.py:17: UserWarning: Creating legend with loc=\"best\" can be slow with large amounts of data.\n",
      "  plt.tight_layout()\n",
      "/tmp/ipykernel_3425728/2610111490.py:18: UserWarning: Creating legend with loc=\"best\" can be slow with large amounts of data.\n",
      "  plt.savefig('Figures/scc.png', dpi = 150, bbox_inches = 'tight')\n",
      "/home/emfreese/anaconda3/envs/grid_mod/lib/python3.9/site-packages/IPython/core/pylabtools.py:134: UserWarning: Creating legend with loc=\"best\" can be slow with large amounts of data.\n",
      "  fig.canvas.print_figure(bytes_io, **kw)\n"
     ]
    },
    {
     "data": {
      "image/png": "[encoded data removed]",
      "text/plain": [
       "<Figure size 432x360 with 1 Axes>"
      ]
     },
     "metadata": {
      "needs_background": "light"
     },
     "output_type": "display_data"
    }
   ],
   "source": [
    "#### plot our SCC by discount rate ####\n",
    "colors = [\"tangerine\",\"red orange\",'dark red']\n",
    "colors_mean = [\"light blue\",\"twilight blue\",'navy']\n",
    "bin_vals = [100.,1000.]\n",
    "fig, axes = plt.subplots(1,1, figsize=[6,5],)\n",
    "for idx_c, scc in enumerate(['5.0%','3.0%','2.5%']):\n",
    "    x = df_dif.loc[(scc, 'CO2')].values.flatten()*1e-9 #drop the levels for model, scenario type, choose 2010 levels\n",
    "    mean = x.mean()\n",
    "    n, bins, patches = plt.hist(x=x, bins='auto', color=sns.xkcd_palette(colors)[idx_c],label = f'Discount Rate of {scc}',\n",
    "                            alpha=0.7, density = True)\n",
    "    plt.axvline(mean, color=sns.xkcd_palette(colors_mean)[idx_c], linestyle='--', label = f'Mean difference: ${np.round(mean,1)} billion')\n",
    "    plt.legend()\n",
    "    #plt.title(f'Monetized Social Impact', fontsize = 20)\n",
    "    plt.xlabel('Billion U.S. Dollars [2007 $]', fontsize = 16)\n",
    "    plt.ylabel('Normalized Frequency', fontsize = 16)\n",
    "    plt.xlim(-20,100)\n",
    "plt.tight_layout()\n",
    "plt.savefig('Figures/scc.png', dpi = 150, bbox_inches = 'tight')"
   ]
  },
  {
   "cell_type": "markdown",
   "metadata": {},
   "source": [
    "## Mortality Cost Carbon"
   ]
  },
  {
   "cell_type": "code",
   "execution_count": 11,
   "metadata": {},
   "outputs": [
    {
     "data": {
      "text/html": [
       "<div>\n",
       "<style scoped>\n",
       "    .dataframe tbody tr th:only-of-type {\n",
       "        vertical-align: middle;\n",
       "    }\n",
       "\n",
       "    .dataframe tbody tr th {\n",
       "        vertical-align: top;\n",
       "    }\n",
       "\n",
       "    .dataframe thead th {\n",
       "        text-align: right;\n",
       "    }\n",
       "</style>\n",
       "<table border=\"1\" class=\"dataframe\">\n",
       "  <thead>\n",
       "    <tr style=\"text-align: right;\">\n",
       "      <th></th>\n",
       "      <th>baseline</th>\n",
       "      <th>optimal</th>\n",
       "    </tr>\n",
       "  </thead>\n",
       "  <tbody>\n",
       "    <tr>\n",
       "      <th>low</th>\n",
       "      <td>-0.000171</td>\n",
       "      <td>-0.000216</td>\n",
       "    </tr>\n",
       "    <tr>\n",
       "      <th>central</th>\n",
       "      <td>0.000226</td>\n",
       "      <td>0.000107</td>\n",
       "    </tr>\n",
       "    <tr>\n",
       "      <th>high</th>\n",
       "      <td>0.000678</td>\n",
       "      <td>0.000522</td>\n",
       "    </tr>\n",
       "  </tbody>\n",
       "</table>\n",
       "</div>"
      ],
      "text/plain": [
       "         baseline   optimal\n",
       "low     -0.000171 -0.000216\n",
       "central  0.000226  0.000107\n",
       "high     0.000678  0.000522"
      ]
     },
     "execution_count": 11,
     "metadata": {},
     "output_type": "execute_result"
    }
   ],
   "source": [
    "d = {'baseline': [-1.71e-4, 2.26e-4, 6.78e-4], 'optimal': [-2.16e-4, 1.07e-4, 5.22e-4]}\n",
    "df_MCC = pd.DataFrame(data=d, index=pd.Index(['low', 'central','high']))\n",
    "df_MCC\n"
   ]
  },
  {
   "cell_type": "code",
   "execution_count": 12,
   "metadata": {},
   "outputs": [
    {
     "data": {
      "text/html": [
       "<div>\n",
       "<style scoped>\n",
       "    .dataframe tbody tr th:only-of-type {\n",
       "        vertical-align: middle;\n",
       "    }\n",
       "\n",
       "    .dataframe tbody tr th {\n",
       "        vertical-align: top;\n",
       "    }\n",
       "\n",
       "    .dataframe thead th {\n",
       "        text-align: right;\n",
       "    }\n",
       "</style>\n",
       "<table border=\"1\" class=\"dataframe\">\n",
       "  <thead>\n",
       "    <tr style=\"text-align: right;\">\n",
       "      <th></th>\n",
       "      <th>baseline</th>\n",
       "      <th>optimal</th>\n",
       "    </tr>\n",
       "  </thead>\n",
       "  <tbody>\n",
       "    <tr>\n",
       "      <th>low</th>\n",
       "      <td>-125220.683842</td>\n",
       "      <td>-158173.495379</td>\n",
       "    </tr>\n",
       "    <tr>\n",
       "      <th>central</th>\n",
       "      <td>165496.342387</td>\n",
       "      <td>78354.462989</td>\n",
       "    </tr>\n",
       "    <tr>\n",
       "      <th>high</th>\n",
       "      <td>496489.027162</td>\n",
       "      <td>382252.613833</td>\n",
       "    </tr>\n",
       "  </tbody>\n",
       "</table>\n",
       "</div>"
      ],
      "text/plain": [
       "              baseline        optimal\n",
       "low     -125220.683842 -158173.495379\n",
       "central  165496.342387   78354.462989\n",
       "high     496489.027162  382252.613833"
      ]
     },
     "execution_count": 12,
     "metadata": {},
     "output_type": "execute_result"
    }
   ],
   "source": [
    "dif_CO2*df_MCC"
   ]
  },
  {
   "cell_type": "code",
   "execution_count": null,
   "metadata": {},
   "outputs": [],
   "source": []
  }
 ],
 "metadata": {
  "kernelspec": {
   "display_name": "Python 3 (ipykernel)",
   "language": "python",
   "name": "python3"
  },
  "language_info": {
   "codemirror_mode": {
    "name": "ipython",
    "version": 3
   },
   "file_extension": ".py",
   "mimetype": "text/x-python",
   "name": "python",
   "nbconvert_exporter": "python",
   "pygments_lexer": "ipython3",
   "version": "3.9.6"
  }
 },
 "nbformat": 4,
 "nbformat_minor": 4
}
