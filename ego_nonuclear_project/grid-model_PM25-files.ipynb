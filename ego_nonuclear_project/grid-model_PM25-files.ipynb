{
 "cells": [
  {
   "cell_type": "code",
   "execution_count": 1,
   "metadata": {},
   "outputs": [
    {
     "name": "stderr",
     "output_type": "stream",
     "text": [
      "\n",
      "Bad key \"text.kerning_factor\" on line 4 in\n",
      "/home/emfreese/anaconda3/envs/conda_env/lib/python3.7/site-packages/matplotlib/mpl-data/stylelib/_classic_test_patch.mplstyle.\n",
      "You probably need to get an updated matplotlibrc file from\n",
      "http://github.com/matplotlib/matplotlib/blob/master/matplotlibrc.template\n",
      "or from the matplotlib source distribution\n"
     ]
    }
   ],
   "source": [
    "%matplotlib inline\n",
    "\n",
    "%matplotlib inline\n",
    "%load_ext autoreload\n",
    "%autoreload 2\n",
    "\n",
    "import numpy as np\n",
    "\n",
    "import xarray as xr\n",
    "\n",
    "import pandas as pd\n",
    "\n",
    "import zarr\n",
    "\n",
    "import sys\n",
    "sys.path.append('../')\n",
    "import utils\n",
    "\n",
    "np.seterr(invalid='ignore'); # disable a warning from matplotlib and cartopy"
   ]
  },
  {
   "cell_type": "code",
   "execution_count": 2,
   "metadata": {},
   "outputs": [],
   "source": [
    "MODEL_path = '../../GCrundirs/type_NA-out_conc-yr_2016-gridmod_final-validation/OutputDir/'\n",
    "nonuc_path = '../../GCrundirs/type_NA-out_conc-yr_2016-gridmod_nonuclear/OutputDir/'\n",
    "\n",
    "speciesconc_output = 'GEOSChem.SpeciesConc.2016*.nc4'\n",
    "aerosol_output = 'GEOSChem.AerosolMass.2016*.nc4'\n",
    "\n",
    "ds_nonuc= xr.Dataset()\n",
    "\n",
    "ds_nonuc = utils.import_GC_runs_general(ds_nonuc, nonuc_path, aerosol_output, speciesconc_output, 'nonuc')"
   ]
  },
  {
   "cell_type": "code",
   "execution_count": 3,
   "metadata": {},
   "outputs": [],
   "source": [
    "#molecular weights of species\n",
    "mw_species = {\n",
    "    'NH4': 18.,\n",
    "    'NIT': 62.,\n",
    "    'SO4': 96.,\n",
    "    'BCPI': 12.,\n",
    "    'OCPI': 12.,\n",
    "    'BCPO': 12.,\n",
    "    'OCPO': 12.,\n",
    "    'DST1': 29.,\n",
    "    'DST2': 29.,\n",
    "    'SALA': 31.4,\n",
    "    'HNO3': 63.01,\n",
    "    'NH3' : 17.031\n",
    "}\n",
    "#list of pm species\n",
    "pm_species = list(mw_species.keys())\n",
    "#list of names of species in ds\n",
    "pm_tracers = ['SpeciesConc_' + spec for spec in pm_species]\n",
    "\n",
    "#loop through each model and create a subset for pm\n",
    "pm_data = (\n",
    "    ds_nonuc[pm_tracers]\n",
    "    .rename({'SpeciesConc_' + spec: spec for spec in pm_species})\n",
    ")\n",
    "pm_data = pm_data.isel(lev = 0)"
   ]
  },
  {
   "cell_type": "code",
   "execution_count": 4,
   "metadata": {},
   "outputs": [
    {
     "data": {
      "text/plain": [
       "<xarray.backends.zarr.ZarrStore at 0x7fe0bad21678>"
      ]
     },
     "execution_count": 4,
     "metadata": {},
     "output_type": "execute_result"
    }
   ],
   "source": [
    "xr.Dataset.to_zarr(pm_data, 'pm_nonuc_ds.zarr', mode = 'w') #save the dataset \n"
   ]
  },
  {
   "cell_type": "code",
   "execution_count": null,
   "metadata": {},
   "outputs": [],
   "source": []
  },
  {
   "cell_type": "code",
   "execution_count": null,
   "metadata": {},
   "outputs": [],
   "source": []
  }
 ],
 "metadata": {
  "kernelspec": {
   "display_name": "Python 3",
   "language": "python",
   "name": "python3"
  },
  "language_info": {
   "codemirror_mode": {
    "name": "ipython",
    "version": 3
   },
   "file_extension": ".py",
   "mimetype": "text/x-python",
   "name": "python",
   "nbconvert_exporter": "python",
   "pygments_lexer": "ipython3",
   "version": "3.7.3"
  }
 },
 "nbformat": 4,
 "nbformat_minor": 4
}
