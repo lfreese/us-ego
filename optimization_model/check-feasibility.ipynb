{
 "cells": [
  {
   "cell_type": "code",
   "execution_count": 14,
   "metadata": {},
   "outputs": [],
   "source": [
    "import pandas as pd\n",
    "import numpy as np"
   ]
  },
  {
   "cell_type": "code",
   "execution_count": 15,
   "metadata": {},
   "outputs": [
    {
     "name": "stderr",
     "output_type": "stream",
     "text": [
      "/home/software/anaconda3/2020.11_geoschem/lib/python3.8/site-packages/IPython/core/interactiveshell.py:3146: DtypeWarning: Columns (9) have mixed types.Specify dtype option on import or set low_memory=False.\n",
      "  has_raised = await self.run_ast_nodes(code_ast.body, cell_name,\n"
     ]
    }
   ],
   "source": [
    "#import data\n",
    "suffix = 'base'\n",
    "\n",
    "gen = pd.read_csv(f'./good_model_inputs/inputs_gen_{suffix}.csv')\n",
    "load = pd.read_csv(f'./good_model_inputs/inputs_load_{suffix}.csv')\n",
    "rencf = pd.read_csv(f'./good_model_inputs/inputs_renewableCF.csv')\n",
    "trans = pd.read_csv(f'./good_model_inputs/inputs_trans_{suffix}.csv')"
   ]
  },
  {
   "cell_type": "code",
   "execution_count": 18,
   "metadata": {},
   "outputs": [],
   "source": [
    "#create a list of our regions\n",
    "regions = set(load['r'])"
   ]
  },
  {
   "cell_type": "code",
   "execution_count": 19,
   "metadata": {},
   "outputs": [
    {
     "name": "stdout",
     "output_type": "stream",
     "text": [
      "Generation cannot match load in region NY_Z_J\n",
      "1807.0\n"
     ]
    }
   ],
   "source": [
    "#calculate regions where generation > load\n",
    "for reg in regions:\n",
    "    gn = np.zeros((8759,))\n",
    "    gn += gen.loc[(gen['RegionName'] == reg).values * (gen['FuelType'] != 'Solar').values * (gen['FuelType'] != 'Wind').values * (gen['FuelType'] != 'wind_generator').values * (gen['FuelType'] != 'solar_generator').values, 'Capacity'].values.sum()\n",
    "    gn += (gen.loc[(gen['RegionName'] == reg).values * (gen['FuelType'] == 'Solar').values, 'Capacity'].values.sum() * rencf.loc[rencf['r'] == reg, 'solarCF'].values).sum()\n",
    "    gn += (gen.loc[(gen['RegionName'] == reg).values * (gen['FuelType'] == 'solar_generator').values, 'Capacity'].values.sum() * rencf.loc[rencf['r'] == reg, 'solarCF'].values).sum()\n",
    "    gn += (gen.loc[(gen['RegionName'] == reg).values * (gen['FuelType'] == 'Wind').values, 'Capacity'].values.sum() * rencf.loc[rencf['r'] == reg, 'windCF'].values).sum()\n",
    "    gn += (gen.loc[(gen['RegionName'] == reg).values * (gen['FuelType'] == 'wind_generator').values, 'Capacity'].values.sum() * rencf.loc[rencf['r'] == reg, 'windCF'].values).sum()\n",
    "\n",
    "    if (load.loc[load['r'] == reg, 'demandLoad'] > gn).values.sum() > 0:\n",
    "        print(f'Generation cannot match load in region {reg}')\n",
    "        print(max(load.loc[load['r'] == reg, 'demandLoad'] - gn))\n",
    "    "
   ]
  },
  {
   "cell_type": "code",
   "execution_count": 20,
   "metadata": {},
   "outputs": [
    {
     "name": "stdout",
     "output_type": "stream",
     "text": [
      "Nuclear generation 0.0\n",
      "Total generation 12123.4\n",
      "Transmission into the region 8391.276\n",
      "Transmission out of the region 5575\n",
      "Maximum net energy left after use from the region at time 5080 [12317.688]\n"
     ]
    }
   ],
   "source": [
    "#find the total generation for the region where generation > load\n",
    " \n",
    "region = 'NY_Z_J' ## select regions from the above\n",
    "t = 5080 \n",
    "\n",
    "print( 'Nuclear generation ' + str(gen.loc[gen['RegionName'] == region].loc[gen['FuelType'] == 'Nuclear','Capacity'].sum()))\n",
    "\n",
    "print( 'Total generation ' + str(gen.loc[gen['RegionName'] == region,'Capacity'].sum()))\n",
    "\n",
    "#look at the transmission into the region where generation > load\n",
    "\n",
    "print( 'Transmission into the region ' + str(trans.loc[(trans['r2'] == region).values * (trans['transCap'] > 1).values, 'transCap'].sum()*.972))\n",
    "\n",
    "print( 'Transmission out of the region ' + str(trans.loc[(trans['r1'] == region).values * (trans['transCap'] > 1).values, 'transCap'].sum()))\n",
    "\n",
    "#find the total amount of energy needed to/from that region if all used\n",
    "\n",
    "print( f'Maximum net energy left after use from the region at time {t} ' + \n",
    "    str(trans.loc[(trans['r2'] == region).values, 'transCap'].sum()*.972 + \n",
    "       gen.loc[gen['RegionName'] == region,'Capacity'].sum() - \n",
    "        trans.loc[(trans['r1'] == region).values, 'transCap'].sum() - \n",
    "       load.loc[(load['r'] == 'NY_Z_GI')].loc[(load['t'] == t)]['demandLoad'].values))"
   ]
  },
  {
   "cell_type": "code",
   "execution_count": 12,
   "metadata": {},
   "outputs": [
    {
     "data": {
      "text/html": [
       "<div>\n",
       "<style scoped>\n",
       "    .dataframe tbody tr th:only-of-type {\n",
       "        vertical-align: middle;\n",
       "    }\n",
       "\n",
       "    .dataframe tbody tr th {\n",
       "        vertical-align: top;\n",
       "    }\n",
       "\n",
       "    .dataframe thead th {\n",
       "        text-align: right;\n",
       "    }\n",
       "</style>\n",
       "<table border=\"1\" class=\"dataframe\">\n",
       "  <thead>\n",
       "    <tr style=\"text-align: right;\">\n",
       "      <th></th>\n",
       "      <th>Unnamed: 0</th>\n",
       "      <th>r</th>\n",
       "      <th>t</th>\n",
       "      <th>demandLoad</th>\n",
       "    </tr>\n",
       "  </thead>\n",
       "  <tbody>\n",
       "  </tbody>\n",
       "</table>\n",
       "</div>"
      ],
      "text/plain": [
       "Empty DataFrame\n",
       "Columns: [Unnamed: 0, r, t, demandLoad]\n",
       "Index: []"
      ]
     },
     "execution_count": 12,
     "metadata": {},
     "output_type": "execute_result"
    }
   ],
   "source": [
    "#find what time stamps are associated with demand > load \n",
    "#(we will go back and manually change our load based on this, assuming some of the region blacks out)\n",
    "load.loc[load['r'] == region].loc[load['t'].isin(range(5001,6000))].loc[load['demandLoad'] >= gen.loc[gen['RegionName'] == region,'Capacity'].sum()]"
   ]
  },
  {
   "cell_type": "code",
   "execution_count": 21,
   "metadata": {},
   "outputs": [
    {
     "name": "stdout",
     "output_type": "stream",
     "text": [
      "Solar generation 416051.4333333333\n",
      "Wind generation 68058.0\n"
     ]
    }
   ],
   "source": [
    "print( 'Solar generation ' + str(gen.loc[gen['FuelType'] == 'Solar','Capacity'].sum()))\n",
    "\n",
    "print( 'Wind generation ' + str(gen.loc[gen['FuelType'] == 'Wind','Capacity'].sum()))\n"
   ]
  },
  {
   "cell_type": "code",
   "execution_count": 25,
   "metadata": {},
   "outputs": [
    {
     "data": {
      "text/plain": [
       "426.8934333333333"
      ]
     },
     "execution_count": 25,
     "metadata": {},
     "output_type": "execute_result"
    }
   ],
   "source": [
    "(gen.loc[gen['FuelType'] == 'Solar','Capacity'].sum() + gen.loc[gen['FuelType'] == 'solar_generator','Capacity'].sum())/1000"
   ]
  },
  {
   "cell_type": "code",
   "execution_count": null,
   "metadata": {},
   "outputs": [],
   "source": []
  }
 ],
 "metadata": {
  "kernelspec": {
   "display_name": "Python 3",
   "language": "python",
   "name": "python3"
  },
  "language_info": {
   "codemirror_mode": {
    "name": "ipython",
    "version": 3
   },
   "file_extension": ".py",
   "mimetype": "text/x-python",
   "name": "python",
   "nbconvert_exporter": "python",
   "pygments_lexer": "ipython3",
   "version": "3.8.5"
  },
  "toc": {
   "base_numbering": 1,
   "nav_menu": {},
   "number_sections": true,
   "sideBar": true,
   "skip_h1_title": false,
   "title_cell": "Table of Contents",
   "title_sidebar": "Contents",
   "toc_cell": false,
   "toc_position": {},
   "toc_section_display": true,
   "toc_window_display": false
  }
 },
 "nbformat": 4,
 "nbformat_minor": 4
}
