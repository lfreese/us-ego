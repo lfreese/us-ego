{
 "cells": [
  {
   "cell_type": "code",
   "execution_count": 1,
   "metadata": {},
   "outputs": [],
   "source": [
    "import pandas as pd\n",
    "import numpy as np"
   ]
  },
  {
   "cell_type": "code",
   "execution_count": 13,
   "metadata": {},
   "outputs": [],
   "source": [
    "#import data\n",
    "suffix_no_nuclear = 'no-nuclear_no_coal_renewables'\n",
    "suffix_normal = 'normal'\n",
    "\n",
    "gen = pd.read_csv(f'./good_model_inputs/inputs_gen_{suffix_no_nuclear}.csv')\n",
    "load = pd.read_csv(f'./good_model_inputs/inputs_load_no-nuclear.csv')\n",
    "rencf = pd.read_csv(f'./good_model_inputs/inputs_renewableCF.csv')\n",
    "trans = pd.read_csv(f'./good_model_inputs/inputs_trans_no-nuclear.csv')"
   ]
  },
  {
   "cell_type": "code",
   "execution_count": 19,
   "metadata": {},
   "outputs": [
    {
     "data": {
      "text/html": [
       "<div>\n",
       "<style scoped>\n",
       "    .dataframe tbody tr th:only-of-type {\n",
       "        vertical-align: middle;\n",
       "    }\n",
       "\n",
       "    .dataframe tbody tr th {\n",
       "        vertical-align: top;\n",
       "    }\n",
       "\n",
       "    .dataframe thead th {\n",
       "        text-align: right;\n",
       "    }\n",
       "</style>\n",
       "<table border=\"1\" class=\"dataframe\">\n",
       "  <thead>\n",
       "    <tr style=\"text-align: right;\">\n",
       "      <th></th>\n",
       "      <th>r</th>\n",
       "      <th>d</th>\n",
       "      <th>h</th>\n",
       "      <th>solarCF</th>\n",
       "      <th>windCF</th>\n",
       "      <th>t</th>\n",
       "    </tr>\n",
       "  </thead>\n",
       "  <tbody>\n",
       "    <tr>\n",
       "      <th>0</th>\n",
       "      <td>ERC_REST</td>\n",
       "      <td>1</td>\n",
       "      <td>1</td>\n",
       "      <td>0.000031</td>\n",
       "      <td>0.595</td>\n",
       "      <td>1</td>\n",
       "    </tr>\n",
       "    <tr>\n",
       "      <th>1</th>\n",
       "      <td>ERC_REST</td>\n",
       "      <td>1</td>\n",
       "      <td>2</td>\n",
       "      <td>0.000031</td>\n",
       "      <td>0.563</td>\n",
       "      <td>2</td>\n",
       "    </tr>\n",
       "    <tr>\n",
       "      <th>2</th>\n",
       "      <td>ERC_REST</td>\n",
       "      <td>1</td>\n",
       "      <td>3</td>\n",
       "      <td>0.000031</td>\n",
       "      <td>0.563</td>\n",
       "      <td>3</td>\n",
       "    </tr>\n",
       "    <tr>\n",
       "      <th>3</th>\n",
       "      <td>ERC_REST</td>\n",
       "      <td>1</td>\n",
       "      <td>4</td>\n",
       "      <td>0.000031</td>\n",
       "      <td>0.563</td>\n",
       "      <td>4</td>\n",
       "    </tr>\n",
       "    <tr>\n",
       "      <th>4</th>\n",
       "      <td>ERC_REST</td>\n",
       "      <td>1</td>\n",
       "      <td>5</td>\n",
       "      <td>0.342211</td>\n",
       "      <td>0.563</td>\n",
       "      <td>5</td>\n",
       "    </tr>\n",
       "    <tr>\n",
       "      <th>...</th>\n",
       "      <td>...</td>\n",
       "      <td>...</td>\n",
       "      <td>...</td>\n",
       "      <td>...</td>\n",
       "      <td>...</td>\n",
       "      <td>...</td>\n",
       "    </tr>\n",
       "    <tr>\n",
       "      <th>525594</th>\n",
       "      <td>WEC_SDGE</td>\n",
       "      <td>365</td>\n",
       "      <td>19</td>\n",
       "      <td>0.017689</td>\n",
       "      <td>0.529</td>\n",
       "      <td>8755</td>\n",
       "    </tr>\n",
       "    <tr>\n",
       "      <th>525595</th>\n",
       "      <td>WEC_SDGE</td>\n",
       "      <td>365</td>\n",
       "      <td>20</td>\n",
       "      <td>0.017689</td>\n",
       "      <td>0.600</td>\n",
       "      <td>8756</td>\n",
       "    </tr>\n",
       "    <tr>\n",
       "      <th>525596</th>\n",
       "      <td>WEC_SDGE</td>\n",
       "      <td>365</td>\n",
       "      <td>21</td>\n",
       "      <td>0.017689</td>\n",
       "      <td>0.650</td>\n",
       "      <td>8757</td>\n",
       "    </tr>\n",
       "    <tr>\n",
       "      <th>525597</th>\n",
       "      <td>WEC_SDGE</td>\n",
       "      <td>365</td>\n",
       "      <td>22</td>\n",
       "      <td>0.017689</td>\n",
       "      <td>0.680</td>\n",
       "      <td>8758</td>\n",
       "    </tr>\n",
       "    <tr>\n",
       "      <th>525598</th>\n",
       "      <td>WEC_SDGE</td>\n",
       "      <td>365</td>\n",
       "      <td>23</td>\n",
       "      <td>0.002517</td>\n",
       "      <td>0.688</td>\n",
       "      <td>8759</td>\n",
       "    </tr>\n",
       "  </tbody>\n",
       "</table>\n",
       "<p>525599 rows × 6 columns</p>\n",
       "</div>"
      ],
      "text/plain": [
       "               r    d   h   solarCF  windCF     t\n",
       "0       ERC_REST    1   1  0.000031   0.595     1\n",
       "1       ERC_REST    1   2  0.000031   0.563     2\n",
       "2       ERC_REST    1   3  0.000031   0.563     3\n",
       "3       ERC_REST    1   4  0.000031   0.563     4\n",
       "4       ERC_REST    1   5  0.342211   0.563     5\n",
       "...          ...  ...  ..       ...     ...   ...\n",
       "525594  WEC_SDGE  365  19  0.017689   0.529  8755\n",
       "525595  WEC_SDGE  365  20  0.017689   0.600  8756\n",
       "525596  WEC_SDGE  365  21  0.017689   0.650  8757\n",
       "525597  WEC_SDGE  365  22  0.017689   0.680  8758\n",
       "525598  WEC_SDGE  365  23  0.002517   0.688  8759\n",
       "\n",
       "[525599 rows x 6 columns]"
      ]
     },
     "execution_count": 19,
     "metadata": {},
     "output_type": "execute_result"
    }
   ],
   "source": [
    "rencf"
   ]
  },
  {
   "cell_type": "code",
   "execution_count": 14,
   "metadata": {},
   "outputs": [],
   "source": [
    "#create a list of our regions\n",
    "regions = set(load['r'])"
   ]
  },
  {
   "cell_type": "code",
   "execution_count": 15,
   "metadata": {},
   "outputs": [],
   "source": [
    "#calculate regions where generation > load\n",
    "for reg in regions:\n",
    "    gn = np.zeros((8759,))\n",
    "    gn += gen.loc[(gen['RegionName'] == reg).values * (gen['FuelType'] != 'Solar').values * (gen['FuelType'] != 'Wind').values * (gen['FuelType'] != 'wind_generator').values * (gen['FuelType'] != 'solar_generator').values, 'Capacity'].values.sum()\n",
    "    gn += (gen.loc[(gen['RegionName'] == reg).values * (gen['FuelType'] == 'Solar').values, 'Capacity'].values.sum() * rencf.loc[rencf['r'] == reg, 'solarCF'].values).sum()\n",
    "    gn += (gen.loc[(gen['RegionName'] == reg).values * (gen['FuelType'] == 'solar_generator').values, 'Capacity'].values.sum() * rencf.loc[rencf['r'] == reg, 'solarCF'].values).sum()\n",
    "    gn += (gen.loc[(gen['RegionName'] == reg).values * (gen['FuelType'] == 'Wind').values, 'Capacity'].values.sum() * rencf.loc[rencf['r'] == reg, 'windCF'].values).sum()\n",
    "    gn += (gen.loc[(gen['RegionName'] == reg).values * (gen['FuelType'] == 'wind_generator').values, 'Capacity'].values.sum() * rencf.loc[rencf['r'] == reg, 'windCF'].values).sum()\n",
    "\n",
    "    if (load.loc[load['r'] == reg, 'demandLoad'] > gn).values.sum() > 0:\n",
    "        print(f'Generation cannot match load in region {reg}')\n",
    "        print(max(load.loc[load['r'] == reg, 'demandLoad'] - gn))\n",
    "    "
   ]
  },
  {
   "cell_type": "code",
   "execution_count": 16,
   "metadata": {},
   "outputs": [
    {
     "name": "stdout",
     "output_type": "stream",
     "text": [
      "Nuclear generation 0.0\n",
      "Total generation 91309.1\n",
      "Transmission into the region 11916.72\n",
      "Transmission out of the region 5529\n",
      "Maximum net energy left after use from the region at time 5080 [95072.832]\n"
     ]
    }
   ],
   "source": [
    "#find the total generation for the region where generation > load\n",
    "\n",
    "region = 'ERC_REST'\n",
    "t = 5080\n",
    "\n",
    "print( 'Nuclear generation ' + str(gen.loc[gen['RegionName'] == region].loc[gen['FuelType'] == 'Nuclear','Capacity'].sum()))\n",
    "\n",
    "print( 'Total generation ' + str(gen.loc[gen['RegionName'] == region,'Capacity'].sum()))\n",
    "\n",
    "#look at the transmission into the region where generation > load\n",
    "\n",
    "print( 'Transmission into the region ' + str(trans.loc[(trans['r2'] == region).values * (trans['transCap'] > 1).values, 'transCap'].sum()*.972))\n",
    "\n",
    "print( 'Transmission out of the region ' + str(trans.loc[(trans['r1'] == region).values * (trans['transCap'] > 1).values, 'transCap'].sum()))\n",
    "\n",
    "#find the total amount of energy needed to/from that region if all used\n",
    "\n",
    "print( f'Maximum net energy left after use from the region at time {t} ' + \n",
    "    str(trans.loc[(trans['r2'] == region).values, 'transCap'].sum()*.972 + \n",
    "       gen.loc[gen['RegionName'] == region,'Capacity'].sum() - \n",
    "        trans.loc[(trans['r1'] == region).values, 'transCap'].sum() - \n",
    "       load.loc[(load['r'] == 'NY_Z_GI')].loc[(load['t'] == t)]['demandLoad'].values))"
   ]
  },
  {
   "cell_type": "code",
   "execution_count": 17,
   "metadata": {},
   "outputs": [
    {
     "data": {
      "text/html": [
       "<div>\n",
       "<style scoped>\n",
       "    .dataframe tbody tr th:only-of-type {\n",
       "        vertical-align: middle;\n",
       "    }\n",
       "\n",
       "    .dataframe tbody tr th {\n",
       "        vertical-align: top;\n",
       "    }\n",
       "\n",
       "    .dataframe thead th {\n",
       "        text-align: right;\n",
       "    }\n",
       "</style>\n",
       "<table border=\"1\" class=\"dataframe\">\n",
       "  <thead>\n",
       "    <tr style=\"text-align: right;\">\n",
       "      <th></th>\n",
       "      <th>Unnamed: 0</th>\n",
       "      <th>r</th>\n",
       "      <th>t</th>\n",
       "      <th>demandLoad</th>\n",
       "    </tr>\n",
       "  </thead>\n",
       "  <tbody>\n",
       "  </tbody>\n",
       "</table>\n",
       "</div>"
      ],
      "text/plain": [
       "Empty DataFrame\n",
       "Columns: [Unnamed: 0, r, t, demandLoad]\n",
       "Index: []"
      ]
     },
     "execution_count": 17,
     "metadata": {},
     "output_type": "execute_result"
    }
   ],
   "source": [
    "#find what time stamps are associated with demand > load \n",
    "#(we will go back and manually change our load based on this, assuming some of the region blacks out)\n",
    "load.loc[load['r'] == region].loc[load['t'].isin(range(5001,6000))].loc[load['demandLoad'] >= gen.loc[gen['RegionName'] == region,'Capacity'].sum()]"
   ]
  },
  {
   "cell_type": "code",
   "execution_count": 18,
   "metadata": {},
   "outputs": [
    {
     "name": "stdout",
     "output_type": "stream",
     "text": [
      "Solar generation 10842.0\n",
      "Wind generation 68058.0\n"
     ]
    }
   ],
   "source": [
    "print( 'Solar generation ' + str(gen.loc[gen['FuelType'] == 'Solar','Capacity'].sum()))\n",
    "\n",
    "print( 'Wind generation ' + str(gen.loc[gen['FuelType'] == 'Wind','Capacity'].sum()))\n"
   ]
  },
  {
   "cell_type": "code",
   "execution_count": null,
   "metadata": {},
   "outputs": [],
   "source": []
  }
 ],
 "metadata": {
  "kernelspec": {
   "display_name": "Python 3",
   "language": "python",
   "name": "python3"
  },
  "language_info": {
   "codemirror_mode": {
    "name": "ipython",
    "version": 3
   },
   "file_extension": ".py",
   "mimetype": "text/x-python",
   "name": "python",
   "nbconvert_exporter": "python",
   "pygments_lexer": "ipython3",
   "version": "3.8.5"
  },
  "toc": {
   "base_numbering": 1,
   "nav_menu": {},
   "number_sections": true,
   "sideBar": true,
   "skip_h1_title": false,
   "title_cell": "Table of Contents",
   "title_sidebar": "Contents",
   "toc_cell": false,
   "toc_position": {},
   "toc_section_display": true,
   "toc_window_display": false
  }
 },
 "nbformat": 4,
 "nbformat_minor": 4
}
