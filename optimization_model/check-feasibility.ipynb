{
 "cells": [
  {
   "cell_type": "code",
   "execution_count": 1,
   "metadata": {},
   "outputs": [],
   "source": [
    "import pandas as pd\n",
    "import numpy as np"
   ]
  },
  {
   "cell_type": "code",
   "execution_count": 2,
   "metadata": {},
   "outputs": [],
   "source": [
    "#import data\n",
    "suffix_no_nuclear = 'no-nuclear_no_coal_renewables'\n",
    "suffix_normal = 'normal'\n",
    "\n",
    "gen = pd.read_csv(f'./good_model_inputs/inputs_gen_{suffix_no_nuclear}.csv')\n",
    "load = pd.read_csv(f'./good_model_inputs/inputs_load_no-nuclear.csv')\n",
    "rencf = pd.read_csv(f'./good_model_inputs/inputs_renewableCF.csv')\n",
    "trans = pd.read_csv(f'./good_model_inputs/inputs_trans_no-nuclear.csv')"
   ]
  },
  {
   "cell_type": "code",
   "execution_count": 3,
   "metadata": {},
   "outputs": [],
   "source": [
    "#create a list of our regions\n",
    "regions = set(load['r'])"
   ]
  },
  {
   "cell_type": "code",
   "execution_count": 5,
   "metadata": {},
   "outputs": [],
   "source": [
    "#calculate regions where generation > load\n",
    "for reg in regions:\n",
    "    gn = np.zeros((8759,))\n",
    "    gn += gen.loc[(gen['RegionName'] == reg).values * (gen['FuelType'] != 'Solar').values * (gen['FuelType'] != 'Wind').values * (gen['FuelType'] != 'wind_generator').values * (gen['FuelType'] != 'solar_generator').values, 'Capacity'].values.sum()\n",
    "    gn += (gen.loc[(gen['RegionName'] == reg).values * (gen['FuelType'] == 'Solar').values, 'Capacity'].values.sum() * rencf.loc[rencf['r'] == reg, 'solarCF'].values).sum()\n",
    "    gn += (gen.loc[(gen['RegionName'] == reg).values * (gen['FuelType'] == 'solar_generator').values, 'Capacity'].values.sum() * rencf.loc[rencf['r'] == reg, 'solarCF'].values).sum()\n",
    "    gn += (gen.loc[(gen['RegionName'] == reg).values * (gen['FuelType'] == 'Wind').values, 'Capacity'].values.sum() * rencf.loc[rencf['r'] == reg, 'windCF'].values).sum()\n",
    "    gn += (gen.loc[(gen['RegionName'] == reg).values * (gen['FuelType'] == 'wind_generator').values, 'Capacity'].values.sum() * rencf.loc[rencf['r'] == reg, 'windCF'].values).sum()\n",
    "\n",
    "    if (load.loc[load['r'] == reg, 'demandLoad'] > gn).values.sum() > 0:\n",
    "        print(f'Generation cannot match load in region {reg}')\n",
    "        print(max(load.loc[load['r'] == reg, 'demandLoad'] - gn))\n",
    "    "
   ]
  },
  {
   "cell_type": "code",
   "execution_count": 32,
   "metadata": {},
   "outputs": [
    {
     "name": "stdout",
     "output_type": "stream",
     "text": [
      "Nuclear generation 0.0\n",
      "Total generation 451309.1\n",
      "Transmission into the region 11916.72\n",
      "Transmission out of the region 5529\n",
      "Maximum net energy left after use from the region at time 5080 [455072.832]\n"
     ]
    }
   ],
   "source": [
    "#find the total generation for the region where generation > load\n",
    "\n",
    "region = 'ERC_REST'\n",
    "t = 5080\n",
    "\n",
    "print( 'Nuclear generation ' + str(gen.loc[gen['RegionName'] == region].loc[gen['FuelType'] == 'Nuclear','Capacity'].sum()))\n",
    "\n",
    "print( 'Total generation ' + str(gen.loc[gen['RegionName'] == region,'Capacity'].sum()))\n",
    "\n",
    "#look at the transmission into the region where generation > load\n",
    "\n",
    "print( 'Transmission into the region ' + str(trans.loc[(trans['r2'] == region).values * (trans['transCap'] > 1).values, 'transCap'].sum()*.972))\n",
    "\n",
    "print( 'Transmission out of the region ' + str(trans.loc[(trans['r1'] == region).values * (trans['transCap'] > 1).values, 'transCap'].sum()))\n",
    "\n",
    "#find the total amount of energy needed to/from that region if all used\n",
    "\n",
    "print( f'Maximum net energy left after use from the region at time {t} ' + \n",
    "    str(trans.loc[(trans['r2'] == region).values, 'transCap'].sum()*.972 + \n",
    "       gen.loc[gen['RegionName'] == region,'Capacity'].sum() - \n",
    "        trans.loc[(trans['r1'] == region).values, 'transCap'].sum() - \n",
    "       load.loc[(load['r'] == 'NY_Z_GI')].loc[(load['t'] == t)]['demandLoad'].values))"
   ]
  },
  {
   "cell_type": "code",
   "execution_count": 33,
   "metadata": {},
   "outputs": [
    {
     "data": {
      "text/html": [
       "<div>\n",
       "<style scoped>\n",
       "    .dataframe tbody tr th:only-of-type {\n",
       "        vertical-align: middle;\n",
       "    }\n",
       "\n",
       "    .dataframe tbody tr th {\n",
       "        vertical-align: top;\n",
       "    }\n",
       "\n",
       "    .dataframe thead th {\n",
       "        text-align: right;\n",
       "    }\n",
       "</style>\n",
       "<table border=\"1\" class=\"dataframe\">\n",
       "  <thead>\n",
       "    <tr style=\"text-align: right;\">\n",
       "      <th></th>\n",
       "      <th>Unnamed: 0</th>\n",
       "      <th>r</th>\n",
       "      <th>t</th>\n",
       "      <th>demandLoad</th>\n",
       "    </tr>\n",
       "  </thead>\n",
       "  <tbody>\n",
       "  </tbody>\n",
       "</table>\n",
       "</div>"
      ],
      "text/plain": [
       "Empty DataFrame\n",
       "Columns: [Unnamed: 0, r, t, demandLoad]\n",
       "Index: []"
      ]
     },
     "execution_count": 33,
     "metadata": {},
     "output_type": "execute_result"
    }
   ],
   "source": [
    "#find what time stamps are associated with demand > load \n",
    "#(we will go back and manually change our load based on this, assuming some of the region blacks out)\n",
    "load.loc[load['r'] == region].loc[load['t'].isin(range(5001,6000))].loc[load['demandLoad'] >= gen.loc[gen['RegionName'] == region,'Capacity'].sum()]"
   ]
  },
  {
   "cell_type": "code",
   "execution_count": null,
   "metadata": {},
   "outputs": [],
   "source": []
  }
 ],
 "metadata": {
  "kernelspec": {
   "display_name": "Python 3 (ipykernel)",
   "language": "python",
   "name": "python3"
  },
  "language_info": {
   "codemirror_mode": {
    "name": "ipython",
    "version": 3
   },
   "file_extension": ".py",
   "mimetype": "text/x-python",
   "name": "python",
   "nbconvert_exporter": "python",
   "pygments_lexer": "ipython3",
   "version": "3.9.6"
  },
  "toc": {
   "base_numbering": 1,
   "nav_menu": {},
   "number_sections": true,
   "sideBar": true,
   "skip_h1_title": false,
   "title_cell": "Table of Contents",
   "title_sidebar": "Contents",
   "toc_cell": false,
   "toc_position": {},
   "toc_section_display": true,
   "toc_window_display": false
  }
 },
 "nbformat": 4,
 "nbformat_minor": 4
}
