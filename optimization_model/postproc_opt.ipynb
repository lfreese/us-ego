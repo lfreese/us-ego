{
 "cells": [
  {
   "cell_type": "code",
   "execution_count": 1,
   "metadata": {},
   "outputs": [
    {
     "name": "stderr",
     "output_type": "stream",
     "text": [
      "\n",
      "Bad key \"text.kerning_factor\" on line 4 in\n",
      "/home/emfreese/anaconda3/envs/conda_env/lib/python3.7/site-packages/matplotlib/mpl-data/stylelib/_classic_test_patch.mplstyle.\n",
      "You probably need to get an updated matplotlibrc file from\n",
      "http://github.com/matplotlib/matplotlib/blob/master/matplotlibrc.template\n",
      "or from the matplotlib source distribution\n",
      "/home/emfreese/anaconda3/envs/conda_env/lib/python3.7/site-packages/statsmodels/tools/_testing.py:19: FutureWarning: pandas.util.testing is deprecated. Use the functions in the public API at pandas.testing instead.\n",
      "  import pandas.util.testing as tm\n"
     ]
    }
   ],
   "source": [
    "%matplotlib inline\n",
    "\n",
    "%matplotlib inline\n",
    "%load_ext autoreload\n",
    "%autoreload 2\n",
    "\n",
    "import pandas as pd, numpy as np\n",
    "import feather, h5py\n",
    "import matplotlib.pyplot as plt\n",
    "import seaborn as sns\n"
   ]
  },
  {
   "cell_type": "markdown",
   "metadata": {},
   "source": [
    "# Merge the outputs of the optimization model with the power plant characteristics"
   ]
  },
  {
   "cell_type": "code",
   "execution_count": 2,
   "metadata": {},
   "outputs": [],
   "source": [
    "#gen = feather.read_dataframe('/home/gchossie/epa_ace/outputs/gen_orig_alan_v2.feather')\n",
    "gen = feather.read_dataframe('./outputs/gen_no-nuclear_modified-all-generators.feather')"
   ]
  },
  {
   "cell_type": "code",
   "execution_count": 3,
   "metadata": {},
   "outputs": [
    {
     "name": "stderr",
     "output_type": "stream",
     "text": [
      "/home/emfreese/anaconda3/envs/conda_env/lib/python3.7/site-packages/IPython/core/interactiveshell.py:3058: DtypeWarning: Columns (9) have mixed types.Specify dtype option on import or set low_memory=False.\n",
      "  interactivity=interactivity, compiler=compiler, result=result)\n"
     ]
    }
   ],
   "source": [
    "#read in the characteristics\n",
    "carac = pd.read_csv('./good_model_inputs/inputs_gen_no-nuclear_all-generators_20k-new_name.csv')\n",
    "#assign a generation column based on the gen df\n",
    "carac['generation'] = gen.sum(axis=1)\n",
    "#calculate capacity factor\n",
    "carac['capafac'] = carac['generation'] / (8759 * carac['Capacity'])"
   ]
  },
  {
   "cell_type": "markdown",
   "metadata": {},
   "source": [
    "### Check the capacity factors"
   ]
  },
  {
   "cell_type": "code",
   "execution_count": 4,
   "metadata": {},
   "outputs": [
    {
     "data": {
      "text/html": [
       "<div>\n",
       "<style scoped>\n",
       "    .dataframe tbody tr th:only-of-type {\n",
       "        vertical-align: middle;\n",
       "    }\n",
       "\n",
       "    .dataframe tbody tr th {\n",
       "        vertical-align: top;\n",
       "    }\n",
       "\n",
       "    .dataframe thead th {\n",
       "        text-align: right;\n",
       "    }\n",
       "</style>\n",
       "<table border=\"1\" class=\"dataframe\">\n",
       "  <thead>\n",
       "    <tr style=\"text-align: right;\">\n",
       "      <th></th>\n",
       "      <th>Unnamed: 0</th>\n",
       "      <th>RegionName</th>\n",
       "      <th>FuelType</th>\n",
       "      <th>FuelCostTotal</th>\n",
       "      <th>PLCO2RTA</th>\n",
       "      <th>ORISCode</th>\n",
       "      <th>DIVISIONCE</th>\n",
       "      <th>UNITID</th>\n",
       "      <th>Capacity</th>\n",
       "      <th>OBJECTID</th>\n",
       "      <th>...</th>\n",
       "      <th>PLN2ORTA</th>\n",
       "      <th>PLCH4RTA</th>\n",
       "      <th>PRMVR</th>\n",
       "      <th>FUELU1</th>\n",
       "      <th>pm.mmbtu</th>\n",
       "      <th>pm.mwh</th>\n",
       "      <th>generationCO2</th>\n",
       "      <th>g</th>\n",
       "      <th>generation</th>\n",
       "      <th>capafac</th>\n",
       "    </tr>\n",
       "  </thead>\n",
       "  <tbody>\n",
       "  </tbody>\n",
       "</table>\n",
       "<p>0 rows × 34 columns</p>\n",
       "</div>"
      ],
      "text/plain": [
       "Empty DataFrame\n",
       "Columns: [Unnamed: 0, RegionName, FuelType, FuelCostTotal, PLCO2RTA, ORISCode, DIVISIONCE, UNITID, Capacity, OBJECTID, UniqueID, StateName, CountyName, CountyCode, HeatRate, PlantType, FossilUnit, NERC, SUBRGN, FIPSCNTY, LAT, LON, PLNOXRTA, PLSO2RTA, PLN2ORTA, PLCH4RTA, PRMVR, FUELU1, pm.mmbtu, pm.mwh, generationCO2, g, generation, capafac]\n",
       "Index: []\n",
       "\n",
       "[0 rows x 34 columns]"
      ]
     },
     "execution_count": 4,
     "metadata": {},
     "output_type": "execute_result"
    }
   ],
   "source": [
    "carac.loc[carac['capafac'] > 1.01, :]"
   ]
  },
  {
   "cell_type": "code",
   "execution_count": 5,
   "metadata": {},
   "outputs": [
    {
     "data": {
      "text/plain": [
       "0.4807311301515042"
      ]
     },
     "execution_count": 5,
     "metadata": {},
     "output_type": "execute_result"
    }
   ],
   "source": [
    "carac['capafac'].mean()"
   ]
  },
  {
   "cell_type": "code",
   "execution_count": 6,
   "metadata": {},
   "outputs": [
    {
     "data": {
      "text/plain": [
       "4081961301.7187686"
      ]
     },
     "execution_count": 6,
     "metadata": {},
     "output_type": "execute_result"
    }
   ],
   "source": [
    "carac['generation'].sum()"
   ]
  },
  {
   "cell_type": "markdown",
   "metadata": {},
   "source": [
    "# Import eGrid data"
   ]
  },
  {
   "cell_type": "code",
   "execution_count": 7,
   "metadata": {},
   "outputs": [],
   "source": [
    "egrid = feather.read_dataframe('./good_model_inputs/egrid.feather')"
   ]
  },
  {
   "cell_type": "code",
   "execution_count": 8,
   "metadata": {},
   "outputs": [],
   "source": [
    "# convert us names to abbreviations\n",
    "us_state_abbrev={'Alabama': 'AL','Alaska': 'AK','Arizona': 'AZ','Arkansas': 'AR','California': 'CA',\\\n",
    "                'Colorado': 'CO','Connecticut': 'CT','Delaware': 'DE','District of Columbia':\\\n",
    "                'DC','Florida': 'FL','Georgia': 'GA','Hawaii': 'HI','Idaho':\\\n",
    "                'ID','Illinois': 'IL','Indiana': 'IN','Iowa':'IA','Kansas': 'KS','Kentucky': 'KY',\\\n",
    "                'Louisiana': 'LA','Maine': 'ME','Maryland': 'MD','Massachusetts': 'MA',\\\n",
    "                'Michigan': 'MI','Minnesota': 'MN','Mississippi': 'MS','Missouri': 'MO',\\\n",
    "                'Montana': 'MT','Nebraska': 'NE','Nevada': 'NV','New Hampshire': 'NH',\\\n",
    "                 'New Jersey': 'NJ','New Mexico': 'NM','New York': 'NY','North Carolina': 'NC',\\\n",
    "                 'North Dakota': 'ND','Northern Mariana Islands':'MP','Ohio': 'OH','Oklahoma': 'OK',\\\n",
    "                 'Oregon': 'OR','Palau': 'PW','Pennsylvania': 'PA','Puerto Rico': 'PR','Rhode Island': 'RI',\\\n",
    "                 'South Carolina': 'SC','South Dakota': 'SD','Tennessee': 'TN','Texas': 'TX','Utah': 'UT',\\\n",
    "                 'Vermont': 'VT','Virgin Islands': 'VI','Virginia': 'VA','Washington': 'WA','West Virginia':\\\n",
    "                 'WV','Wisconsin': 'WI','Wyoming': 'WY'}\n",
    "\n",
    "# thank you to @kinghelix and @trevormarburger for this idea\n",
    "abbrev_us_state = dict(map(reversed, us_state_abbrev.items()))"
   ]
  },
  {
   "cell_type": "markdown",
   "metadata": {},
   "source": [
    "## Plot generation by state"
   ]
  },
  {
   "cell_type": "code",
   "execution_count": 9,
   "metadata": {},
   "outputs": [],
   "source": [
    "carac['StateAbb'] = carac['StateName'].apply(lambda x: us_state_abbrev[x])"
   ]
  },
  {
   "cell_type": "code",
   "execution_count": 10,
   "metadata": {},
   "outputs": [],
   "source": [
    "tmp = pd.concat([egrid.groupby('SUBRGN')['PLNGENAN'].sum(), carac.groupby('SUBRGN')['generation'].sum()], axis=1)"
   ]
  },
  {
   "cell_type": "code",
   "execution_count": 11,
   "metadata": {},
   "outputs": [
    {
     "data": {
      "image/png": "[encoded data removed]",
      "text/plain": [
       "<Figure size 576x360 with 1 Axes>"
      ]
     },
     "metadata": {},
     "output_type": "display_data"
    }
   ],
   "source": [
    "sns.set_style('white')\n",
    "fig, ax = plt.subplots(1,1, figsize=(8,5))\n",
    "tmp.rename(columns={'PLNGENAN': 'eGRID', 'generation': 'Our model'}).plot.bar(ax=ax)\n",
    "ax.set_ylabel('Generation (MWh)')\n",
    "kw = {'rotation': 45}\n",
    "ax.set_xticklabels(ax.get_xticklabels(), **kw)\n",
    "fig.tight_layout()\n",
    "#plt.savefig('gen_per_state.png', dpi=300)"
   ]
  },
  {
   "cell_type": "code",
   "execution_count": 12,
   "metadata": {},
   "outputs": [
    {
     "data": {
      "text/plain": [
       "PLFUELCT\n",
       "BIOMASS    2.307505e+06\n",
       "COAL       6.094964e+07\n",
       "GAS        6.061905e+07\n",
       "HYDRO      5.668096e+06\n",
       "OFSL       1.395410e+05\n",
       "OIL        1.193003e+03\n",
       "OTHF       8.512800e+04\n",
       "SOLAR      1.638370e+05\n",
       "WIND       2.684675e+07\n",
       "Name: PLNGENAN, dtype: float64"
      ]
     },
     "execution_count": 12,
     "metadata": {},
     "output_type": "execute_result"
    }
   ],
   "source": [
    "egrid.groupby(['SUBRGN','PLFUELCT'])['PLNGENAN'].sum().loc['SPSO']"
   ]
  },
  {
   "cell_type": "code",
   "execution_count": 16,
   "metadata": {},
   "outputs": [
    {
     "data": {
      "text/plain": [
       "FuelType\n",
       "Coal            1.637710\n",
       "Hydro                NaN\n",
       "LF Gas          6.948892\n",
       "MSW             1.287742\n",
       "NaturalGas      0.646177\n",
       "Non-Fossil     19.418037\n",
       "Oil           121.760392\n",
       "Solar                NaN\n",
       "Wind                 NaN\n",
       "generator       0.000000\n",
       "Name: PLNOXRTA, dtype: float64"
      ]
     },
     "execution_count": 16,
     "metadata": {},
     "output_type": "execute_result"
    }
   ],
   "source": [
    "carac.groupby(['StateAbb', 'FuelType'])['PLNOXRTA'].mean().loc['IN']"
   ]
  },
  {
   "cell_type": "code",
   "execution_count": 17,
   "metadata": {},
   "outputs": [
    {
     "data": {
      "text/plain": [
       "FuelType\n",
       "Coal          8.985107e+07\n",
       "NaturalGas    1.644898e+07\n",
       "Wind          6.600246e+06\n",
       "LF Gas        4.992630e+05\n",
       "Hydro         1.334171e+05\n",
       "Solar         1.157598e+05\n",
       "MSW           4.379500e+04\n",
       "Non-Fossil    3.503600e+04\n",
       "generator     0.000000e+00\n",
       "Oil           0.000000e+00\n",
       "Name: generation, dtype: float64"
      ]
     },
     "execution_count": 17,
     "metadata": {},
     "output_type": "execute_result"
    }
   ],
   "source": [
    "carac.groupby(['StateAbb', 'FuelType'])['generation'].sum().loc['IN'].sort_values(ascending=False)"
   ]
  },
  {
   "cell_type": "code",
   "execution_count": 18,
   "metadata": {},
   "outputs": [
    {
     "data": {
      "text/plain": [
       "PLFUELCT\n",
       "BIOMASS    2.179130e+05\n",
       "COAL       3.755627e+06\n",
       "GAS        1.091278e+05\n",
       "HYDRO               NaN\n",
       "OFSL       1.282329e+05\n",
       "OIL        1.013326e+03\n",
       "OTHF       1.355929e+05\n",
       "SOLAR               NaN\n",
       "WIND                NaN\n",
       "Name: PLNOXAN, dtype: float64"
      ]
     },
     "execution_count": 18,
     "metadata": {},
     "output_type": "execute_result"
    }
   ],
   "source": [
    "egrid.groupby(['PSTATABB','PLFUELCT'])['PLNOXAN'].mean().loc['IN'] * 907.185"
   ]
  },
  {
   "cell_type": "markdown",
   "metadata": {},
   "source": [
    "## Plot generation by primary fuel type"
   ]
  },
  {
   "cell_type": "code",
   "execution_count": 22,
   "metadata": {},
   "outputs": [],
   "source": [
    "egrid.loc[pd.isnull(egrid['PLFUELCT']), 'PLFUELCT'] = ''"
   ]
  },
  {
   "cell_type": "code",
   "execution_count": 102,
   "metadata": {},
   "outputs": [],
   "source": [
    "# Translate eGrid fuel cat name to ours\n",
    "egrid.loc[pd.isnull(egrid['PLFUELCT']), 'PLFUELCT'] = ''\n",
    "egrid['PLFUELCT'] = egrid['PLFUELCT'].apply(lambda x: x[:1].upper() + x[1:].lower())"
   ]
  },
  {
   "cell_type": "code",
   "execution_count": 103,
   "metadata": {},
   "outputs": [],
   "source": [
    "#rename gas to natural gas\n",
    "egrid.loc[egrid['PLFUELCT'] == 'Gas', 'PLFUELCT'] = 'NaturalGas'"
   ]
  },
  {
   "cell_type": "code",
   "execution_count": 104,
   "metadata": {},
   "outputs": [],
   "source": [
    "# Regroup hydro and pumps\n",
    "carac.loc[carac['FuelType'] == 'Pumps', 'FuelType'] = 'Hydro'"
   ]
  },
  {
   "cell_type": "code",
   "execution_count": 105,
   "metadata": {},
   "outputs": [],
   "source": [
    "tmp = pd.concat([egrid.groupby('PLFUELCT')['PLNGENAN'].sum(), carac.groupby('FuelType')['generation'].sum()], axis=1)"
   ]
  },
  {
   "cell_type": "code",
   "execution_count": 106,
   "metadata": {},
   "outputs": [],
   "source": [
    "reg = 'RFCE'\n",
    "sube = egrid.loc[egrid['SUBRGN'] == reg].groupby('PLFUELCT')['PLNGENAN'].sum()\n",
    "subc = carac.loc[carac['SUBRGN'] == reg].groupby('FuelType')['generation'].sum()\n",
    "tmp = pd.DataFrame({'egrid': sube, 'Me': subc})"
   ]
  },
  {
   "cell_type": "code",
   "execution_count": 107,
   "metadata": {},
   "outputs": [
    {
     "data": {
      "image/png": "[encoded data removed]",
      "text/plain": [
       "<Figure size 432x288 with 1 Axes>"
      ]
     },
     "metadata": {},
     "output_type": "display_data"
    }
   ],
   "source": [
    "fig, ax = plt.subplots()\n",
    "tmp.plot.bar(ax=ax)\n",
    "fig.tight_layout()"
   ]
  },
  {
   "cell_type": "code",
   "execution_count": 108,
   "metadata": {},
   "outputs": [],
   "source": [
    "tmp = pd.concat([egrid.groupby('PLPRMFL')['PLNGENAN'].sum(), carac.groupby('FUELU1')['generation'].sum()], axis=1)"
   ]
  },
  {
   "cell_type": "code",
   "execution_count": 29,
   "metadata": {},
   "outputs": [
    {
     "data": {
      "text/plain": [
       "1845281822.142205"
      ]
     },
     "execution_count": 29,
     "metadata": {},
     "output_type": "execute_result"
    }
   ],
   "source": [
    "egrid['PLCO2AN'].sum()*.907"
   ]
  },
  {
   "cell_type": "code",
   "execution_count": 109,
   "metadata": {},
   "outputs": [
    {
     "data": {
      "image/png": "[encoded data removed]",
      "text/plain": [
       "<Figure size 432x288 with 1 Axes>"
      ]
     },
     "metadata": {},
     "output_type": "display_data"
    }
   ],
   "source": [
    "fig, ax = plt.subplots()\n",
    "tmp.plot.bar(ax=ax)\n",
    "fig.tight_layout()"
   ]
  },
  {
   "cell_type": "markdown",
   "metadata": {},
   "source": [
    "# Compute emissions"
   ]
  },
  {
   "cell_type": "code",
   "execution_count": 110,
   "metadata": {},
   "outputs": [],
   "source": [
    "# Import needs emissions\n",
    "#needs = pd.read_excel('./good_model_inputs/needs_v6_12-18-2019.xlsx', sheet_name='NEEDS v6_active')"
   ]
  },
  {
   "cell_type": "code",
   "execution_count": 111,
   "metadata": {},
   "outputs": [],
   "source": [
    "#tst = needs[['UniqueID_Final', 'Heat Rate (Btu/kWh)','Mode 2 NOx Rate (lbs/mmBtu)','SO2 Permit Rate (lbs/mmBtu)']]\n",
    "#mgd = carac.rename(columns={'UniqueID': 'UniqueID_Final'}).merge(tst, on='UniqueID_Final', how='outer')\n",
    "#mgd['NOX emissions (kg)'] = carac['generation'] * mgd['Heat Rate (Btu/kWh)'] * mgd['Mode 2 NOx Rate (lbs/mmBtu)'] * 1e-3 * 0.45359 # 0.45 kg / lb\n",
    "#mgd['SO2 emissions (kg)'] = carac['generation'] * mgd['Heat Rate (Btu/kWh)'] * mgd['SO2 Permit Rate (lbs/mmBtu)'] * 1e-3 * 0.45359"
   ]
  },
  {
   "cell_type": "code",
   "execution_count": 112,
   "metadata": {},
   "outputs": [],
   "source": [
    "# emissions in kg\n",
    "region_tots = feather.read_dataframe('./good_model_inputs/egrid_corr_fac.feather').set_index('index')\n",
    "carac['NOX corr'] = carac['SUBRGN'].apply(lambda x: region_tots['NOX corr fac'][x])\n",
    "carac['SO2 corr'] = carac['SUBRGN'].apply(lambda x: region_tots['SO2 corr fac'][x])\n",
    "carac['NOX emissions (kg)'] = carac['generation'] * carac['PLNOXRTA']# * carac['NOX corr']\n",
    "carac['SO2 emissions (kg)'] = carac['generation'] * carac['PLSO2RTA'] #* carac['SO2 corr']\n",
    "carac['N2O emissions (kg)'] = carac['generation'] * carac['PLN2ORTA']\n",
    "carac['CH4 emissions (kg)'] = carac['generation'] * carac['PLCH4RTA']\n",
    "carac['CO2 emissions (kg)'] = carac['generation'] * carac['PLCO2RTA']"
   ]
  },
  {
   "cell_type": "code",
   "execution_count": 114,
   "metadata": {},
   "outputs": [
    {
     "name": "stdout",
     "output_type": "stream",
     "text": [
      "0.37252690313308306\n"
     ]
    }
   ],
   "source": [
    "poll = 'CO2'\n",
    "df = carac\n",
    "print((df[f'{poll} emissions (kg)'].sum() - egrid[f'PL{poll}AN'].sum()*907.185) / (egrid[f'PL{poll}AN'].sum()*907.185))\n",
    "#tmp = pd.concat([egrid.groupby('PLPRMFL')[f'PL{poll}AN'].sum(), carac.groupby('FUELU1')[f'{poll} emissions (kg)'].sum()], axis=1, sort=True)\n",
    "tmp = pd.concat([egrid.groupby('SUBRGN')[f'PL{poll}AN'].sum(), df.groupby('SUBRGN')[f'{poll} emissions (kg)'].sum()], axis=1, sort=True)\n",
    "tmp[f'PL{poll}AN'] *= 907.185 #kg / sort ton"
   ]
  },
  {
   "cell_type": "code",
   "execution_count": 115,
   "metadata": {},
   "outputs": [
    {
     "data": {
      "text/html": [
       "<div>\n",
       "<style scoped>\n",
       "    .dataframe tbody tr th:only-of-type {\n",
       "        vertical-align: middle;\n",
       "    }\n",
       "\n",
       "    .dataframe tbody tr th {\n",
       "        vertical-align: top;\n",
       "    }\n",
       "\n",
       "    .dataframe thead th {\n",
       "        text-align: right;\n",
       "    }\n",
       "</style>\n",
       "<table border=\"1\" class=\"dataframe\">\n",
       "  <thead>\n",
       "    <tr style=\"text-align: right;\">\n",
       "      <th></th>\n",
       "      <th>PLCO2AN</th>\n",
       "      <th>CO2 emissions (kg)</th>\n",
       "    </tr>\n",
       "  </thead>\n",
       "  <tbody>\n",
       "    <tr>\n",
       "      <th>AKGD</th>\n",
       "      <td>2.288562e+09</td>\n",
       "      <td>NaN</td>\n",
       "    </tr>\n",
       "    <tr>\n",
       "      <th>AKMS</th>\n",
       "      <td>3.719237e+08</td>\n",
       "      <td>NaN</td>\n",
       "    </tr>\n",
       "    <tr>\n",
       "      <th>AZNM</th>\n",
       "      <td>7.873777e+10</td>\n",
       "      <td>6.918970e+10</td>\n",
       "    </tr>\n",
       "    <tr>\n",
       "      <th>CAMX</th>\n",
       "      <td>4.803114e+10</td>\n",
       "      <td>6.426753e+10</td>\n",
       "    </tr>\n",
       "    <tr>\n",
       "      <th>ERCT</th>\n",
       "      <td>1.784930e+11</td>\n",
       "      <td>1.662561e+11</td>\n",
       "    </tr>\n",
       "    <tr>\n",
       "      <th>FRCC</th>\n",
       "      <td>1.052734e+11</td>\n",
       "      <td>1.047051e+11</td>\n",
       "    </tr>\n",
       "    <tr>\n",
       "      <th>HIMS</th>\n",
       "      <td>1.432666e+09</td>\n",
       "      <td>NaN</td>\n",
       "    </tr>\n",
       "    <tr>\n",
       "      <th>HIOA</th>\n",
       "      <td>5.436155e+09</td>\n",
       "      <td>NaN</td>\n",
       "    </tr>\n",
       "    <tr>\n",
       "      <th>MROE</th>\n",
       "      <td>1.549082e+10</td>\n",
       "      <td>5.938794e+09</td>\n",
       "    </tr>\n",
       "    <tr>\n",
       "      <th>MROW</th>\n",
       "      <td>1.226129e+11</td>\n",
       "      <td>1.590584e+11</td>\n",
       "    </tr>\n",
       "    <tr>\n",
       "      <th>NEWE</th>\n",
       "      <td>2.727434e+10</td>\n",
       "      <td>5.523087e+10</td>\n",
       "    </tr>\n",
       "    <tr>\n",
       "      <th>NWPP</th>\n",
       "      <td>8.415727e+10</td>\n",
       "      <td>1.154017e+11</td>\n",
       "    </tr>\n",
       "    <tr>\n",
       "      <th>NYCW</th>\n",
       "      <td>1.280979e+10</td>\n",
       "      <td>2.140714e+10</td>\n",
       "    </tr>\n",
       "    <tr>\n",
       "      <th>NYLI</th>\n",
       "      <td>6.294636e+09</td>\n",
       "      <td>5.682658e+09</td>\n",
       "    </tr>\n",
       "    <tr>\n",
       "      <th>NYUP</th>\n",
       "      <td>1.123959e+10</td>\n",
       "      <td>2.434251e+10</td>\n",
       "    </tr>\n",
       "    <tr>\n",
       "      <th>RFCE</th>\n",
       "      <td>9.740131e+10</td>\n",
       "      <td>2.457038e+11</td>\n",
       "    </tr>\n",
       "    <tr>\n",
       "      <th>RFCM</th>\n",
       "      <td>5.327120e+10</td>\n",
       "      <td>9.178201e+10</td>\n",
       "    </tr>\n",
       "    <tr>\n",
       "      <th>RFCW</th>\n",
       "      <td>3.009022e+11</td>\n",
       "      <td>4.282495e+11</td>\n",
       "    </tr>\n",
       "    <tr>\n",
       "      <th>RMPA</th>\n",
       "      <td>3.965172e+10</td>\n",
       "      <td>6.488396e+10</td>\n",
       "    </tr>\n",
       "    <tr>\n",
       "      <th>SPNO</th>\n",
       "      <td>4.275675e+10</td>\n",
       "      <td>5.632100e+10</td>\n",
       "    </tr>\n",
       "    <tr>\n",
       "      <th>SPSO</th>\n",
       "      <td>8.877435e+10</td>\n",
       "      <td>8.497089e+10</td>\n",
       "    </tr>\n",
       "    <tr>\n",
       "      <th>SRMV</th>\n",
       "      <td>6.558500e+10</td>\n",
       "      <td>6.173018e+10</td>\n",
       "    </tr>\n",
       "    <tr>\n",
       "      <th>SRMW</th>\n",
       "      <td>8.872180e+10</td>\n",
       "      <td>1.612550e+11</td>\n",
       "    </tr>\n",
       "    <tr>\n",
       "      <th>SRSO</th>\n",
       "      <td>1.307285e+11</td>\n",
       "      <td>1.593408e+11</td>\n",
       "    </tr>\n",
       "    <tr>\n",
       "      <th>SRTV</th>\n",
       "      <td>1.194837e+11</td>\n",
       "      <td>2.108738e+11</td>\n",
       "    </tr>\n",
       "    <tr>\n",
       "      <th>SRVC</th>\n",
       "      <td>1.184378e+11</td>\n",
       "      <td>1.766241e+11</td>\n",
       "    </tr>\n",
       "  </tbody>\n",
       "</table>\n",
       "</div>"
      ],
      "text/plain": [
       "           PLCO2AN  CO2 emissions (kg)\n",
       "AKGD  2.288562e+09                 NaN\n",
       "AKMS  3.719237e+08                 NaN\n",
       "AZNM  7.873777e+10        6.918970e+10\n",
       "CAMX  4.803114e+10        6.426753e+10\n",
       "ERCT  1.784930e+11        1.662561e+11\n",
       "FRCC  1.052734e+11        1.047051e+11\n",
       "HIMS  1.432666e+09                 NaN\n",
       "HIOA  5.436155e+09                 NaN\n",
       "MROE  1.549082e+10        5.938794e+09\n",
       "MROW  1.226129e+11        1.590584e+11\n",
       "NEWE  2.727434e+10        5.523087e+10\n",
       "NWPP  8.415727e+10        1.154017e+11\n",
       "NYCW  1.280979e+10        2.140714e+10\n",
       "NYLI  6.294636e+09        5.682658e+09\n",
       "NYUP  1.123959e+10        2.434251e+10\n",
       "RFCE  9.740131e+10        2.457038e+11\n",
       "RFCM  5.327120e+10        9.178201e+10\n",
       "RFCW  3.009022e+11        4.282495e+11\n",
       "RMPA  3.965172e+10        6.488396e+10\n",
       "SPNO  4.275675e+10        5.632100e+10\n",
       "SPSO  8.877435e+10        8.497089e+10\n",
       "SRMV  6.558500e+10        6.173018e+10\n",
       "SRMW  8.872180e+10        1.612550e+11\n",
       "SRSO  1.307285e+11        1.593408e+11\n",
       "SRTV  1.194837e+11        2.108738e+11\n",
       "SRVC  1.184378e+11        1.766241e+11"
      ]
     },
     "execution_count": 115,
     "metadata": {},
     "output_type": "execute_result"
    }
   ],
   "source": [
    "tmp"
   ]
  },
  {
   "cell_type": "code",
   "execution_count": 87,
   "metadata": {},
   "outputs": [
    {
     "data": {
      "text/plain": [
       "1801052580012.4524"
      ]
     },
     "execution_count": 87,
     "metadata": {},
     "output_type": "execute_result"
    }
   ],
   "source": [
    "tmp[f'{poll} emissions (kg)'].sum()"
   ]
  },
  {
   "cell_type": "code",
   "execution_count": 116,
   "metadata": {},
   "outputs": [
    {
     "data": {
      "text/plain": [
       "2533215537150.3853"
      ]
     },
     "execution_count": 116,
     "metadata": {},
     "output_type": "execute_result"
    }
   ],
   "source": [
    "tmp[f'{poll} emissions (kg)'].sum()"
   ]
  },
  {
   "cell_type": "code",
   "execution_count": 117,
   "metadata": {},
   "outputs": [
    {
     "data": {
      "text/plain": [
       "1845658202668.221"
      ]
     },
     "execution_count": 117,
     "metadata": {},
     "output_type": "execute_result"
    }
   ],
   "source": [
    "tmp[f'PL{poll}AN'].sum()"
   ]
  },
  {
   "cell_type": "code",
   "execution_count": 82,
   "metadata": {},
   "outputs": [
    {
     "data": {
      "image/png": "[encoded data removed]",
      "text/plain": [
       "<Figure size 432x288 with 1 Axes>"
      ]
     },
     "metadata": {},
     "output_type": "display_data"
    }
   ],
   "source": [
    "fig, ax = plt.subplots()\n",
    "tmp.plot.bar(ax=ax)\n",
    "fig.tight_layout()"
   ]
  },
  {
   "cell_type": "code",
   "execution_count": 56,
   "metadata": {},
   "outputs": [
    {
     "name": "stdout",
     "output_type": "stream",
     "text": [
      "Mean : 0.3164510136603776  Max : 15.08549622  Min : 0.0\n",
      "Generation-weighted mean:  0.16811395470790497\n"
     ]
    }
   ],
   "source": [
    "reg = 'NWPP'\n",
    "df = carac\n",
    "sp = 'SO2'\n",
    "print('Mean :', df.loc[df['SUBRGN'] == reg, f'PL{sp}RTA'].mean(), ' Max :', df.loc[df['SUBRGN'] == reg, f'PL{sp}RTA'].max(),' Min :', df.loc[df['SUBRGN'] == reg, f'PL{sp}RTA'].min())\n",
    "print('Generation-weighted mean: ', (df.loc[df['SUBRGN'] == reg, f'{sp} emissions (kg)']).sum()/\\\n",
    "    df.loc[df['SUBRGN'] == reg, 'generation'].sum())"
   ]
  },
  {
   "cell_type": "code",
   "execution_count": 57,
   "metadata": {},
   "outputs": [
    {
     "name": "stdout",
     "output_type": "stream",
     "text": [
      "Mean : nan  Max : 15.085496220000001  Min : 0.0\n",
      "Generation-weighted mean:  0.1993382001348433\n"
     ]
    }
   ],
   "source": [
    "print('Mean :',  0.45359 *egrid.loc[carac['SUBRGN'] == reg, f'PL{sp}RTA'].mean(),' Max :',  0.45359 *egrid.loc[egrid['SUBRGN'] == reg, f'PL{sp}RTA'].max(),' Min :',  0.45359 *egrid.loc[egrid['SUBRGN'] == reg, f'PL{sp}RTA'].min())\n",
    "print('Generation-weighted mean: ', 0.45359 * (egrid.loc[egrid['SUBRGN'] == reg, f'PL{sp}RTA'] * egrid.loc[egrid['SUBRGN'] == reg, 'PLNGENAN']).sum()/\\\n",
    "    egrid.loc[egrid['SUBRGN'] == reg, 'PLNGENAN'].sum())"
   ]
  },
  {
   "cell_type": "markdown",
   "metadata": {},
   "source": [
    "### Compute correction factor to match region wide emissions with eGRID"
   ]
  },
  {
   "cell_type": "code",
   "execution_count": 73,
   "metadata": {},
   "outputs": [],
   "source": [
    "# Compute total and eGRID total by region\n",
    "df = carac\n",
    "region_tots = pd.DataFrame([], index=set(df['SUBRGN']))\n",
    "for poll in ['SO2', 'NOX']:\n",
    "    tmp = pd.concat([egrid.groupby('SUBRGN')[f'PL{poll}AN'].sum(), df.groupby('SUBRGN')[f'{poll} emissions (kg)'].sum()], axis=1, sort=True)\n",
    "    tmp[f'PL{poll}AN'] *= 907.185 #kg / sort ton\n",
    "    tmp = tmp.dropna()\n",
    "    region_tots[f'my {poll}'] = tmp[f'{poll} emissions (kg)']\n",
    "    region_tots[f'egrid {poll}'] = tmp[f'PL{poll}AN']\n",
    "    region_tots[f'{poll} corr fac'] = region_tots[f'egrid {poll}'] / region_tots[f'my {poll}']"
   ]
  },
  {
   "cell_type": "code",
   "execution_count": 82,
   "metadata": {},
   "outputs": [],
   "source": [
    "region_tots.reset_index(drop=False).to_feather('egrid_corr_fac.feather')"
   ]
  },
  {
   "cell_type": "code",
   "execution_count": 78,
   "metadata": {},
   "outputs": [],
   "source": [
    "df['NOX corr'] = df['SUBRGN'].apply(lambda x: region_tots['NOX corr fac'][x])\n",
    "df['SO2 corr'] = df['SUBRGN'].apply(lambda x: region_tots['SO2 corr fac'][x])"
   ]
  },
  {
   "cell_type": "code",
   "execution_count": 79,
   "metadata": {},
   "outputs": [
    {
     "data": {
      "text/html": [
       "<div>\n",
       "<style scoped>\n",
       "    .dataframe tbody tr th:only-of-type {\n",
       "        vertical-align: middle;\n",
       "    }\n",
       "\n",
       "    .dataframe tbody tr th {\n",
       "        vertical-align: top;\n",
       "    }\n",
       "\n",
       "    .dataframe thead th {\n",
       "        text-align: right;\n",
       "    }\n",
       "</style>\n",
       "<table border=\"1\" class=\"dataframe\">\n",
       "  <thead>\n",
       "    <tr style=\"text-align: right;\">\n",
       "      <th></th>\n",
       "      <th>Unnamed: 0</th>\n",
       "      <th>RegionName</th>\n",
       "      <th>FuelType</th>\n",
       "      <th>FuelCostTotal</th>\n",
       "      <th>PLCO2RTA</th>\n",
       "      <th>ORISCode</th>\n",
       "      <th>DIVISIONCE</th>\n",
       "      <th>UNITID</th>\n",
       "      <th>Capacity</th>\n",
       "      <th>OBJECTID</th>\n",
       "      <th>...</th>\n",
       "      <th>generation</th>\n",
       "      <th>capafac</th>\n",
       "      <th>StateAbb</th>\n",
       "      <th>NOX emissions (kg)</th>\n",
       "      <th>SO2 emissions (kg)</th>\n",
       "      <th>N2O emissions (kg)</th>\n",
       "      <th>CH4 emissions (kg)</th>\n",
       "      <th>CO2 emissions (kg)</th>\n",
       "      <th>NOX corr</th>\n",
       "      <th>SO2 corr</th>\n",
       "    </tr>\n",
       "  </thead>\n",
       "  <tbody>\n",
       "    <tr>\n",
       "      <th>0</th>\n",
       "      <td>0</td>\n",
       "      <td>ERC_FRNT</td>\n",
       "      <td>NaturalGas</td>\n",
       "      <td>19.686689</td>\n",
       "      <td>395.819870</td>\n",
       "      <td>55062</td>\n",
       "      <td>WSC-TX</td>\n",
       "      <td>GTG1</td>\n",
       "      <td>155.0</td>\n",
       "      <td>12038.0</td>\n",
       "      <td>...</td>\n",
       "      <td>0.0</td>\n",
       "      <td>0.0</td>\n",
       "      <td>TX</td>\n",
       "      <td>0.0</td>\n",
       "      <td>0.0</td>\n",
       "      <td>0.0</td>\n",
       "      <td>0.0</td>\n",
       "      <td>0.0</td>\n",
       "      <td>1.659633</td>\n",
       "      <td>1.33184</td>\n",
       "    </tr>\n",
       "    <tr>\n",
       "      <th>1</th>\n",
       "      <td>1</td>\n",
       "      <td>ERC_FRNT</td>\n",
       "      <td>NaturalGas</td>\n",
       "      <td>19.686689</td>\n",
       "      <td>395.819870</td>\n",
       "      <td>55062</td>\n",
       "      <td>WSC-TX</td>\n",
       "      <td>GTG2</td>\n",
       "      <td>155.0</td>\n",
       "      <td>12037.0</td>\n",
       "      <td>...</td>\n",
       "      <td>0.0</td>\n",
       "      <td>0.0</td>\n",
       "      <td>TX</td>\n",
       "      <td>0.0</td>\n",
       "      <td>0.0</td>\n",
       "      <td>0.0</td>\n",
       "      <td>0.0</td>\n",
       "      <td>0.0</td>\n",
       "      <td>1.659633</td>\n",
       "      <td>1.33184</td>\n",
       "    </tr>\n",
       "    <tr>\n",
       "      <th>2</th>\n",
       "      <td>2</td>\n",
       "      <td>ERC_FRNT</td>\n",
       "      <td>NaturalGas</td>\n",
       "      <td>19.686689</td>\n",
       "      <td>395.819870</td>\n",
       "      <td>55062</td>\n",
       "      <td>WSC-TX</td>\n",
       "      <td>GTG3</td>\n",
       "      <td>155.0</td>\n",
       "      <td>12040.0</td>\n",
       "      <td>...</td>\n",
       "      <td>0.0</td>\n",
       "      <td>0.0</td>\n",
       "      <td>TX</td>\n",
       "      <td>0.0</td>\n",
       "      <td>0.0</td>\n",
       "      <td>0.0</td>\n",
       "      <td>0.0</td>\n",
       "      <td>0.0</td>\n",
       "      <td>1.659633</td>\n",
       "      <td>1.33184</td>\n",
       "    </tr>\n",
       "    <tr>\n",
       "      <th>3</th>\n",
       "      <td>3</td>\n",
       "      <td>ERC_FRNT</td>\n",
       "      <td>NaturalGas</td>\n",
       "      <td>19.686689</td>\n",
       "      <td>395.819870</td>\n",
       "      <td>55062</td>\n",
       "      <td>WSC-TX</td>\n",
       "      <td>STG1</td>\n",
       "      <td>395.0</td>\n",
       "      <td>12039.0</td>\n",
       "      <td>...</td>\n",
       "      <td>0.0</td>\n",
       "      <td>0.0</td>\n",
       "      <td>TX</td>\n",
       "      <td>0.0</td>\n",
       "      <td>0.0</td>\n",
       "      <td>0.0</td>\n",
       "      <td>0.0</td>\n",
       "      <td>0.0</td>\n",
       "      <td>1.659633</td>\n",
       "      <td>1.33184</td>\n",
       "    </tr>\n",
       "    <tr>\n",
       "      <th>4</th>\n",
       "      <td>4</td>\n",
       "      <td>ERC_GWAY</td>\n",
       "      <td>NaturalGas</td>\n",
       "      <td>20.737758</td>\n",
       "      <td>397.926796</td>\n",
       "      <td>55132</td>\n",
       "      <td>WSC-TX</td>\n",
       "      <td>GTG1</td>\n",
       "      <td>152.0</td>\n",
       "      <td>12185.0</td>\n",
       "      <td>...</td>\n",
       "      <td>0.0</td>\n",
       "      <td>0.0</td>\n",
       "      <td>TX</td>\n",
       "      <td>0.0</td>\n",
       "      <td>0.0</td>\n",
       "      <td>0.0</td>\n",
       "      <td>0.0</td>\n",
       "      <td>0.0</td>\n",
       "      <td>1.659633</td>\n",
       "      <td>1.33184</td>\n",
       "    </tr>\n",
       "  </tbody>\n",
       "</table>\n",
       "<p>5 rows × 42 columns</p>\n",
       "</div>"
      ],
      "text/plain": [
       "   Unnamed: 0 RegionName    FuelType  FuelCostTotal    PLCO2RTA  ORISCode  \\\n",
       "0           0   ERC_FRNT  NaturalGas      19.686689  395.819870     55062   \n",
       "1           1   ERC_FRNT  NaturalGas      19.686689  395.819870     55062   \n",
       "2           2   ERC_FRNT  NaturalGas      19.686689  395.819870     55062   \n",
       "3           3   ERC_FRNT  NaturalGas      19.686689  395.819870     55062   \n",
       "4           4   ERC_GWAY  NaturalGas      20.737758  397.926796     55132   \n",
       "\n",
       "  DIVISIONCE UNITID  Capacity  OBJECTID  ... generation capafac StateAbb  \\\n",
       "0     WSC-TX   GTG1     155.0   12038.0  ...        0.0     0.0       TX   \n",
       "1     WSC-TX   GTG2     155.0   12037.0  ...        0.0     0.0       TX   \n",
       "2     WSC-TX   GTG3     155.0   12040.0  ...        0.0     0.0       TX   \n",
       "3     WSC-TX   STG1     395.0   12039.0  ...        0.0     0.0       TX   \n",
       "4     WSC-TX   GTG1     152.0   12185.0  ...        0.0     0.0       TX   \n",
       "\n",
       "   NOX emissions (kg)  SO2 emissions (kg) N2O emissions (kg)  \\\n",
       "0                 0.0                 0.0                0.0   \n",
       "1                 0.0                 0.0                0.0   \n",
       "2                 0.0                 0.0                0.0   \n",
       "3                 0.0                 0.0                0.0   \n",
       "4                 0.0                 0.0                0.0   \n",
       "\n",
       "  CH4 emissions (kg) CO2 emissions (kg)  NOX corr  SO2 corr  \n",
       "0                0.0                0.0  1.659633   1.33184  \n",
       "1                0.0                0.0  1.659633   1.33184  \n",
       "2                0.0                0.0  1.659633   1.33184  \n",
       "3                0.0                0.0  1.659633   1.33184  \n",
       "4                0.0                0.0  1.659633   1.33184  \n",
       "\n",
       "[5 rows x 42 columns]"
      ]
     },
     "execution_count": 79,
     "metadata": {},
     "output_type": "execute_result"
    }
   ],
   "source": [
    "df.head()"
   ]
  },
  {
   "cell_type": "code",
   "execution_count": null,
   "metadata": {},
   "outputs": [],
   "source": [
    "# Compare gen-weighted EI by region\n",
    "df = pd.DataFrame([], index=set(carac['SUBRGN']), columns=['Me', 'egrid'])\n",
    "sp = 'NOX'\n",
    "src = 'NaturalGas'\n",
    "for reg in df.index:\n",
    "    idx1 = (carac['SUBRGN'] == reg).values * (carac['FuelType'] == src).values\n",
    "    idx2 = (egrid['SUBRGN'] == reg).values * (egrid['PLFUELCT'] == src).values\n",
    "    df.loc[reg, 'Me'] = carac.loc[idx1, f'{sp} emissions (kg)'].sum()/carac.loc[idx1, 'generation'].sum()\n",
    "    df.loc[reg, 'egrid'] = 907.185 * egrid.loc[idx2, f'PL{sp}AN'].sum()/egrid.loc[idx2, 'PLNGENAN'].sum()"
   ]
  },
  {
   "cell_type": "code",
   "execution_count": null,
   "metadata": {
    "scrolled": true
   },
   "outputs": [],
   "source": [
    "# df.reset_index(inplace=True)\n",
    "df['reldiff'] = (df['Me'] - df['egrid']) / df['egrid']"
   ]
  },
  {
   "cell_type": "code",
   "execution_count": null,
   "metadata": {},
   "outputs": [],
   "source": [
    "df.sort_values(by='reldiff', ascending=False)"
   ]
  },
  {
   "cell_type": "code",
   "execution_count": null,
   "metadata": {},
   "outputs": [],
   "source": [
    "carac.groupby('StateName')['CO2 emissions (kg)'].sum()"
   ]
  },
  {
   "cell_type": "code",
   "execution_count": null,
   "metadata": {},
   "outputs": [],
   "source": [
    "idx = (carac['SUBRGN'] == 'NWPP').values * (carac['FuelType'] == 'NaturalGas').values\n",
    "carac.loc[idx,:]"
   ]
  },
  {
   "cell_type": "markdown",
   "metadata": {},
   "source": [
    "## Look at monthly generation"
   ]
  },
  {
   "cell_type": "code",
   "execution_count": null,
   "metadata": {},
   "outputs": [],
   "source": [
    "# Get generation per month\n",
    "days_per_mth = [31,28,31,30,31,30,31,31,30,31,30,31]\n",
    "mths = ['Jan', 'Feb', 'Mar', 'Apr', 'May', 'Jun', 'Jul', 'Aug', 'Sep', 'Oct', 'Nov', 'Dec']\n",
    "idx = 0\n",
    "for mm in range(len(mths)):\n",
    "    if mm == 11:\n",
    "        carac[mths[mm]] = gen.iloc[:,idx:].sum(axis=1)\n",
    "    else:\n",
    "        carac[mths[mm]] = gen.iloc[:,idx:idx+days_per_mth[mm]*24].sum(axis=1)\n",
    "        idx += days_per_mth[mm]*24"
   ]
  },
  {
   "cell_type": "code",
   "execution_count": null,
   "metadata": {},
   "outputs": [],
   "source": [
    "(carac['Jan'] * carac['generationCO2'] * 1e3).sum()"
   ]
  },
  {
   "cell_type": "code",
   "execution_count": null,
   "metadata": {},
   "outputs": [],
   "source": [
    "carac['NOX emissions (kg)'].sum()"
   ]
  },
  {
   "cell_type": "markdown",
   "metadata": {},
   "source": [
    "## Plot me vs egrid totals"
   ]
  },
  {
   "cell_type": "code",
   "execution_count": null,
   "metadata": {},
   "outputs": [],
   "source": [
    "compar = pd.DataFrame([], columns=['eGrid', 'Me'], index=['NOX', 'SO2', 'CO2'])\n",
    "for sp in compar.index:\n",
    "    compar.loc[sp,'eGrid'] = (egrid[f'PLNGENAN'] * egrid[f'PL{sp}RTA'] * 0.45359).sum()\n",
    "    compar.loc[sp,'Me'] = carac[f'{sp} emissions (kg)'].sum()\n",
    "compar.loc['CO2',:] *= 1e-3"
   ]
  },
  {
   "cell_type": "code",
   "execution_count": null,
   "metadata": {},
   "outputs": [],
   "source": [
    "compar"
   ]
  },
  {
   "cell_type": "code",
   "execution_count": null,
   "metadata": {},
   "outputs": [],
   "source": [
    "%matplotlib notebook\n",
    "fig, ax = plt.subplots()\n",
    "compar.plot.bar(ax=ax)\n",
    "fig.tight_layout()"
   ]
  },
  {
   "cell_type": "code",
   "execution_count": null,
   "metadata": {},
   "outputs": [],
   "source": [
    "# CO2: -6%\n",
    "# NOX: -8%\n",
    "# SO2: -12%"
   ]
  },
  {
   "cell_type": "code",
   "execution_count": null,
   "metadata": {},
   "outputs": [],
   "source": [
    "gpby_me = 'NERC'; gpby_egrid='NERC'\n",
    "#compar_nox = pd.DataFrame([], columns=['eGrid', 'Me'], index=us_state_abbrev.values())\n",
    "#compar_so2= pd.DataFrame([], columns=['eGrid', 'Me'], index=us_state_abbrev.values())\n",
    "compar_nox = pd.DataFrame([], columns=['eGrid', 'Me'], index=carac['NERC'].unique())\n",
    "compar_so2= pd.DataFrame([], columns=['eGrid', 'Me'], index=carac['NERC'].unique())\n",
    "compar_co2= pd.DataFrame([], columns=['eGrid', 'Me'], index=carac['NERC'].unique())\n",
    "compar_gen= pd.DataFrame([], columns=['eGrid', 'Me'], index=carac['NERC'].unique())\n",
    "# NOx\n",
    "egrid['temp'] = egrid['PLNGENAN'] * egrid['PLNOXRTA'] * 0.45359\n",
    "compar_nox['eGrid'] = egrid.groupby(gpby_egrid)['temp'].sum() \n",
    "compar_nox['Me'] = carac.groupby(gpby_me)['NOX emissions (kg)'].sum()\n",
    "# SO2\n",
    "egrid['temp'] = egrid['PLNGENAN'] * egrid['PLSO2RTA'] * 0.45359\n",
    "compar_so2['eGrid'] = egrid.groupby(gpby_egrid)['temp'].sum() \n",
    "compar_so2['Me'] = carac.groupby(gpby_me)['SO2 emissions (kg)'].sum()\n",
    "# CO2\n",
    "egrid['temp'] = egrid['PLNGENAN'] * egrid['PLCO2RTA'] * 0.45359\n",
    "compar_co2['eGrid'] = egrid.groupby(gpby_egrid)['temp'].sum() \n",
    "compar_co2['Me'] = carac.groupby(gpby_me)['CO2 emissions (kg)'].sum()\n",
    "# Generation\n",
    "compar_gen['eGrid'] = egrid.groupby(gpby_egrid)['PLNGENAN'].sum() \n",
    "compar_gen['Me'] = carac.groupby(gpby_me)['generation'].sum()"
   ]
  },
  {
   "cell_type": "code",
   "execution_count": null,
   "metadata": {},
   "outputs": [],
   "source": [
    "%matplotlib notebook\n",
    "fig, ax = plt.subplots(figsize=(9,5))\n",
    "compar_co2.plot.bar(ax=ax)\n",
    "fig.tight_layout()"
   ]
  },
  {
   "cell_type": "code",
   "execution_count": null,
   "metadata": {},
   "outputs": [],
   "source": [
    "carac.groupby('ORISCode')['NOX emissions (kg)'].sum()"
   ]
  },
  {
   "cell_type": "code",
   "execution_count": null,
   "metadata": {},
   "outputs": [],
   "source": [
    "carac['NERC'].unique()"
   ]
  },
  {
   "cell_type": "code",
   "execution_count": null,
   "metadata": {},
   "outputs": [],
   "source": [
    "carac.loc[carac['StateAbb'] == 'TX','ORISCode'].unique().count()"
   ]
  },
  {
   "cell_type": "code",
   "execution_count": null,
   "metadata": {},
   "outputs": [],
   "source": [
    "import numpy as np"
   ]
  },
  {
   "cell_type": "code",
   "execution_count": null,
   "metadata": {},
   "outputs": [],
   "source": [
    "egrid_temp = egrid.copy()\n",
    "egrid_temp.loc[pd.isnull(egrid_temp['PLNOXRTA']),'PLNOXRTA']=0\n",
    "print(np.unique(egrid_temp.loc[egrid['PSTATABB'] == 'NM', 'ORISPL'],return_counts=True)[1].sum())\n",
    "egrid_temp.loc[egrid['PSTATABB'] == 'NM', 'PLNOXRTA'].mean()"
   ]
  },
  {
   "cell_type": "code",
   "execution_count": null,
   "metadata": {},
   "outputs": [],
   "source": [
    "np.unique(carac.loc[carac['StateAbb'] == 'NM', 'ORISCode'],return_counts=True)[1].sum()\n",
    "carac.loc[carac['StateAbb'] == 'NM', 'PLNOXRTA'].mean()"
   ]
  },
  {
   "cell_type": "code",
   "execution_count": null,
   "metadata": {},
   "outputs": [],
   "source": [
    "tot = 0\n",
    "for ori in egrid['ORISPL'].unique():\n",
    "    if ori not in carac['ORISCode'].unique():\n",
    "        tot+=1\n",
    "print(tot, len(egrid['ORISPL'].unique()))"
   ]
  },
  {
   "cell_type": "code",
   "execution_count": null,
   "metadata": {},
   "outputs": [],
   "source": [
    "tot = 0\n",
    "for ori in carac['ORISCode'].unique():\n",
    "    if ori not in egrid['ORISPL'].unique():\n",
    "        tot += 1\n",
    "print(tot, len(carac['ORISCode'].unique()))"
   ]
  },
  {
   "cell_type": "code",
   "execution_count": null,
   "metadata": {},
   "outputs": [],
   "source": []
  }
 ],
 "metadata": {
  "kernelspec": {
   "display_name": "conda_env",
   "language": "python",
   "name": "conda_env"
  },
  "language_info": {
   "codemirror_mode": {
    "name": "ipython",
    "version": 3
   },
   "file_extension": ".py",
   "mimetype": "text/x-python",
   "name": "python",
   "nbconvert_exporter": "python",
   "pygments_lexer": "ipython3",
   "version": "3.7.3"
  },
  "toc": {
   "base_numbering": 1,
   "nav_menu": {},
   "number_sections": true,
   "sideBar": true,
   "skip_h1_title": false,
   "title_cell": "Table of Contents",
   "title_sidebar": "Contents",
   "toc_cell": false,
   "toc_position": {},
   "toc_section_display": true,
   "toc_window_display": false
  }
 },
 "nbformat": 4,
 "nbformat_minor": 4
}
