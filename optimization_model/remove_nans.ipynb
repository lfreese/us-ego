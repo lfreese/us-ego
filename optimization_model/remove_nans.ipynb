{
 "cells": [
  {
   "cell_type": "code",
   "execution_count": 1,
   "metadata": {},
   "outputs": [],
   "source": [
    "import xarray as xr\n",
    "import numpy as np\n",
    "import matplotlib.pyplot as plt\n",
    "import datetime\n",
    "import pandas as pd"
   ]
  },
  {
   "cell_type": "markdown",
   "metadata": {},
   "source": [
    "Run this to remove the nans from any inventories to ensure they work with HEMCO. There are plot tests below to check that the new dataset doesn't mess up any of the data."
   ]
  },
  {
   "cell_type": "code",
   "execution_count": 16,
   "metadata": {},
   "outputs": [],
   "source": [
    "#import dataset\n",
    "#choose one of the datasets below, or enter a new name\n",
    "#data_path = 'inventory_power_plants_final.nc' \n",
    "#data_path = 'inventory_power_plants_no-nuclear.nc' \n",
    "#data_path = 'inventory_power_plants_egrid.nc'\n",
    "data_path = '../annual_emissions/inventory_power_plants_no-nuclear_no-coal_lim_NOx.nc'\n",
    "\n",
    "ds = xr.open_dataset(data_path)"
   ]
  },
  {
   "cell_type": "code",
   "execution_count": 3,
   "metadata": {},
   "outputs": [],
   "source": [
    "ds_mod = ds.fillna(0)"
   ]
  },
  {
   "cell_type": "code",
   "execution_count": 4,
   "metadata": {},
   "outputs": [],
   "source": [
    "#choose a pollutant to look at as our test\n",
    "poll = 'NO'"
   ]
  },
  {
   "cell_type": "code",
   "execution_count": 5,
   "metadata": {},
   "outputs": [
    {
     "data": {
      "text/plain": [
       "array([False])"
      ]
     },
     "execution_count": 5,
     "metadata": {},
     "output_type": "execute_result"
    }
   ],
   "source": [
    "#check that there are no longer nans in the new dataset\n",
    "np.unique(np.isnan(ds_mod.isel(time = slice(-48,-24))[poll]).values)"
   ]
  },
  {
   "cell_type": "code",
   "execution_count": 6,
   "metadata": {},
   "outputs": [
    {
     "data": {
      "text/plain": [
       "array([False,  True])"
      ]
     },
     "execution_count": 6,
     "metadata": {},
     "output_type": "execute_result"
    }
   ],
   "source": [
    "#compare to the old dataset (should have True and False)\n",
    "np.unique(np.isnan(ds.isel(time = slice(-48,-24))[poll]).values)"
   ]
  },
  {
   "cell_type": "code",
   "execution_count": 7,
   "metadata": {},
   "outputs": [
    {
     "data": {
      "text/plain": [
       "Text(0.5, 1.0, 'New Dataset, 1 = True, 0 = False')"
      ]
     },
     "execution_count": 7,
     "metadata": {},
     "output_type": "execute_result"
    },
    {
     "data": {
      "image/png": "[encoded data removed]",
      "text/plain": [
       "<Figure size 432x288 with 1 Axes>"
      ]
     },
     "metadata": {
      "needs_background": "light"
     },
     "output_type": "display_data"
    }
   ],
   "source": [
    "plt.plot(np.isnan(ds.isel(time = slice(-100,-90))[poll]).values[0], '.');\n",
    "plt.title('Old Dataset, 1 = True, 0 = False')\n",
    "plt.plot(np.isnan(ds_mod.isel(time = slice(-48,-24))[poll]).values[0], '.');\n",
    "plt.title('New Dataset, 1 = True, 0 = False')\n"
   ]
  },
  {
   "cell_type": "code",
   "execution_count": 8,
   "metadata": {},
   "outputs": [
    {
     "data": {
      "text/plain": [
       "Text(0.5, 1.0, 'New Dataset')"
      ]
     },
     "execution_count": 8,
     "metadata": {},
     "output_type": "execute_result"
    },
    {
     "data": {
      "image/png": "[encoded data removed]",
      "text/plain": [
       "<Figure size 432x288 with 1 Axes>"
      ]
     },
     "metadata": {
      "needs_background": "light"
     },
     "output_type": "display_data"
    }
   ],
   "source": [
    "#plot a time slice to check that the values stay the same in the old and new\n",
    "plt.plot((ds.isel(time = slice(-50,-24))[poll]).values.ravel(), 'o')\n",
    "plt.title('Old Dataset')\n",
    "plt.plot((ds_mod.isel(time = slice(-50,-24))[poll]).values.ravel(), 'o')\n",
    "plt.title('New Dataset')"
   ]
  },
  {
   "cell_type": "code",
   "execution_count": 15,
   "metadata": {},
   "outputs": [
    {
     "name": "stderr",
     "output_type": "stream",
     "text": [
      "IOStream.flush timed out\n"
     ]
    }
   ],
   "source": [
    "#save out our dataset (you may have to delete the old one first)\n",
    "ds_mod.to_netcdf(data_path, mode = 'w')"
   ]
  },
  {
   "cell_type": "code",
   "execution_count": null,
   "metadata": {},
   "outputs": [],
   "source": []
  }
 ],
 "metadata": {
  "kernelspec": {
   "display_name": "Python 3 (ipykernel)",
   "language": "python",
   "name": "python3"
  },
  "language_info": {
   "codemirror_mode": {
    "name": "ipython",
    "version": 3
   },
   "file_extension": ".py",
   "mimetype": "text/x-python",
   "name": "python",
   "nbconvert_exporter": "python",
   "pygments_lexer": "ipython3",
   "version": "3.9.6"
  }
 },
 "nbformat": 4,
 "nbformat_minor": 4
}
