{
 "cells": [
  {
   "cell_type": "code",
   "execution_count": 1,
   "metadata": {},
   "outputs": [],
   "source": [
    "import pandas as pd\n",
    "import feather\n",
    "import matplotlib.pyplot as plt\n",
    "from datetime import date\n",
    "import numpy as np\n"
   ]
  },
  {
   "cell_type": "markdown",
   "metadata": {},
   "source": [
    "# Runtime Parameters"
   ]
  },
  {
   "cell_type": "code",
   "execution_count": 2,
   "metadata": {},
   "outputs": [],
   "source": [
    "nuclear_shutdown = True\n",
    "nuclear_reduction = 0 #as a percent of initial value\n",
    "coal_shutdown = True\n",
    "coal_reduction = 0\n",
    "add_generators = True\n",
    "modify_regional_load = False\n",
    "region_load_to_modify = 'NY_Z_GI'"
   ]
  },
  {
   "cell_type": "markdown",
   "metadata": {},
   "source": [
    "# Generation"
   ]
  },
  {
   "cell_type": "markdown",
   "metadata": {},
   "source": [
    "## Load original inputs (with a lot of missing capacities) and eGrid plant-level database"
   ]
  },
  {
   "cell_type": "code",
   "execution_count": 3,
   "metadata": {},
   "outputs": [],
   "source": [
    "# Load input files from Alan\n",
    "orig_inp = pd.read_csv('./good_model_inputs/inputs_generators_v2.csv')\n",
    "\n",
    "# Load to match missing capacities with eGRID \n",
    "egrid = feather.read_dataframe('./good_model_inputs/egrid.feather')\n",
    "\n",
    "# Load to use raw fuelcost\n",
    "#epaparsed = pd.read_excel('/home/gchossie/epa_ace/good_model_inputs/epa2015ParsedFile.xlsx')\n",
    "\n",
    "# Load to use EIA 2016 fuel costs\n",
    "eiaprice = pd.read_excel('./good_model_inputs/eia_price_data.xlsx',\\\n",
    "                        skiprows=4, header=0)\n",
    "#Times for which we will modify our load\n",
    "#load_times = pd.read_csv('./good_model_inputs/times_NY_Z_GI.csv')\n",
    "\n",
    "# Setup output file\n",
    "out = orig_inp.copy()"
   ]
  },
  {
   "cell_type": "code",
   "execution_count": 4,
   "metadata": {},
   "outputs": [
    {
     "data": {
      "text/plain": [
       "FuelType\n",
       "Biomass         4821.0\n",
       "Coal          331112.0\n",
       "Fwaste           412.0\n",
       "Geothermal      2439.0\n",
       "Hydro          28839.6\n",
       "LF Gas          1852.0\n",
       "MSW             2239.0\n",
       "NaturalGas    435126.0\n",
       "Non-Fossil      1589.0\n",
       "Nuclear       102493.0\n",
       "Oil            31285.0\n",
       "Pet. Coke       1101.0\n",
       "Pumps          22349.0\n",
       "Solar          10842.0\n",
       "Waste Coal       893.0\n",
       "Wind           68058.0\n",
       "Name: Capacity, dtype: float64"
      ]
     },
     "execution_count": 4,
     "metadata": {},
     "output_type": "execute_result"
    }
   ],
   "source": [
    "# Total capacity by type\n",
    "orig_inp.groupby('FuelType')['Capacity'].sum()"
   ]
  },
  {
   "cell_type": "code",
   "execution_count": 5,
   "metadata": {},
   "outputs": [
    {
     "data": {
      "text/plain": [
       "FuelType\n",
       "Biomass        45.450000\n",
       "Coal           25.725000\n",
       "Fwaste          0.010000\n",
       "Geothermal      0.010000\n",
       "Hydro           0.010000\n",
       "LF Gas          0.010000\n",
       "MSW             0.010000\n",
       "NaturalGas     30.569185\n",
       "Non-Fossil      0.010000\n",
       "Nuclear         8.400000\n",
       "Oil           211.500000\n",
       "Pet. Coke      41.868750\n",
       "Pumps           0.010000\n",
       "Solar           0.010000\n",
       "Waste Coal     30.712500\n",
       "Wind            0.010000\n",
       "Name: FuelCostTotal, dtype: float64"
      ]
     },
     "execution_count": 5,
     "metadata": {},
     "output_type": "execute_result"
    }
   ],
   "source": [
    "# Median fuel cost by type\n",
    "orig_inp.groupby('FuelType')['FuelCostTotal'].median()"
   ]
  },
  {
   "cell_type": "markdown",
   "metadata": {},
   "source": [
    "## Limit max hydro capacity by macro region"
   ]
  },
  {
   "cell_type": "code",
   "execution_count": 6,
   "metadata": {},
   "outputs": [],
   "source": [
    "regions = {'NW': ['Washington', 'Oregon', 'Idaho', 'Montana', 'Wyoming'],\n",
    "          'SW': ['California', 'Nevada', 'Utah', 'Arizona', 'New Mexico', 'Colorado'],\n",
    "          'MW': ['North Dakota', 'South Dakota', 'Nebraska', 'Kansas', 'Minnesota', 'Iowa', 'Missouri', 'Wisconsin', 'Illinois', 'Indiana', 'Kentucky', 'Michigan', 'Ohio'],\n",
    "          'SE': ['Oklahoma', 'Texas', 'Arkansas', 'Louisiana', 'Tennessee', 'Alabama', 'Mississippi', 'Georgia', 'Florida', 'North Carolina', 'South Carolina', 'Virginia'],\n",
    "          'NE': ['District of Columbia', 'West Virginia', 'Maryland', 'Delaware', 'New Jersey', 'Pennsylvania', 'New York', 'Rhode Island', 'Massachusetts', 'Connecticut', 'Vermont', 'New Hampshire', 'Maine']\n",
    "          }\n",
    "# max factors are the upper ranges of the graph https://www.energy.gov/sites/prod/files/2018/04/f51/Hydropower%20Market%20Report.pdf p.70 (74 of 108)\n",
    "# except for the NW which underpredicts Hydro, so we allow it to max out to 100% if needed\n",
    "def maxhydrocapa(state):\n",
    "    if state in regions['NW']:\n",
    "        return 1 # 0.68 is the true highest value\n",
    "    elif state in regions['SW']:\n",
    "        return 0.56\n",
    "    elif state in regions['MW']:\n",
    "        return 0.68\n",
    "    elif state in regions['SE']:\n",
    "        return 0.49\n",
    "    elif state in regions['NE']:\n",
    "        return 0.73\n",
    "    else:\n",
    "        raise ValueError('Invalid state')"
   ]
  },
  {
   "cell_type": "code",
   "execution_count": 7,
   "metadata": {},
   "outputs": [],
   "source": [
    "# Select hydro power plant and replace their max capacity\n",
    "idx = (out.loc[out['FuelType'] == 'Hydro',:]).index\n",
    "for i in idx:\n",
    "    out.loc[i, 'Capacity'] *= maxhydrocapa(out.loc[i, 'StateName']) \n",
    "    \n",
    "idx = (out.loc[out['FuelType'] == 'Pumps',:]).index\n",
    "for i in idx:\n",
    "    out.loc[i, 'Capacity'] *= maxhydrocapa(out.loc[i, 'StateName']) "
   ]
  },
  {
   "cell_type": "markdown",
   "metadata": {},
   "source": [
    "## Fix the labeling of coal, biomass, nat gas, and oil"
   ]
  },
  {
   "cell_type": "code",
   "execution_count": 8,
   "metadata": {},
   "outputs": [],
   "source": [
    "fuel_abs = ['AB', 'BG', 'BLQ', 'DG', 'LFG', 'ME', 'MSB', 'OBL', 'OBS', 'PP', 'SLW', 'WDL', 'WDS',\\\n",
    "           'ANT', 'BIT', 'LIG', 'SUB', 'SC', 'RC', 'WC', 'SGC','NG', 'PG', 'BU',\\\n",
    "           'DFO', 'JF', 'KER', 'OO', 'OTL', 'PC', 'RG', 'RFO', 'WO']\n",
    "fueltype_abbrev = {'Biomass': ['AB', 'BG', 'BLQ', 'DG', 'LFG', 'ME', 'MSB', 'OBL', 'OBS', 'PP', 'SLW', 'WDL', 'WDS'],\\\n",
    "           'Coal': ['ANT', 'BIT', 'LIG', 'SUB', 'SC', 'RC', 'WC', 'SGC'],\\\n",
    "           'NaturalGas': ['NG', 'PG', 'BU'],\\\n",
    "           'Oil': ['DFO', 'JF', 'KER', 'OO', 'OTL', 'PC', 'RG', 'RFO', 'WO']}\n",
    "def find_key(value):\n",
    "    return next((k for k, v in fueltype_abbrev.items() if value in v), None)"
   ]
  },
  {
   "cell_type": "code",
   "execution_count": 9,
   "metadata": {},
   "outputs": [],
   "source": [
    "# Find discrepancies between FuelType and FUELU1 columns\n",
    "for idx in out.index:\n",
    "    fu = out.loc[idx, 'FUELU1']\n",
    "    cat = out.loc[idx, 'FuelType']\n",
    "    egrid_cat = find_key(fu)\n",
    "    if fu in fuel_abs and cat != egrid_cat:\n",
    "        cat = egrid_cat"
   ]
  },
  {
   "cell_type": "markdown",
   "metadata": {},
   "source": [
    "## Fix regions names"
   ]
  },
  {
   "cell_type": "code",
   "execution_count": 10,
   "metadata": {},
   "outputs": [],
   "source": [
    "out.loc[out['RegionName'] == 'NY_Z_A&B', 'RegionName'] = 'NY_Z_AB'\n",
    "out.loc[out['RegionName'] == 'NY_Z_C&E', 'RegionName'] = 'NY_Z_CE'\n",
    "out.loc[out['RegionName'] == 'NY_Z_G-I', 'RegionName'] = 'NY_Z_GI'"
   ]
  },
  {
   "cell_type": "markdown",
   "metadata": {},
   "source": [
    "## Get fuel cost from EIA data instead of raw input from Alan"
   ]
  },
  {
   "cell_type": "code",
   "execution_count": 11,
   "metadata": {},
   "outputs": [],
   "source": [
    "us_state_abbrev={'Alabama': 'AL','Alaska': 'AK','Arizona': 'AZ','Arkansas': 'AR','California': 'CA',\\\n",
    "                'Colorado': 'CO','Connecticut': 'CT','Delaware': 'DE','District of Columbia':\\\n",
    "                'DC','Florida': 'FL','Georgia': 'GA','Hawaii': 'HI','Idaho':\\\n",
    "                'ID','Illinois': 'IL','Indiana': 'IN','Iowa':'IA','Kansas': 'KS','Kentucky': 'KY',\\\n",
    "                'Louisiana': 'LA','Maine': 'ME','Maryland': 'MD','Massachusetts': 'MA',\\\n",
    "                'Michigan': 'MI','Minnesota': 'MN','Mississippi': 'MS','Missouri': 'MO',\\\n",
    "                'Montana': 'MT','Nebraska': 'NE','Nevada': 'NV','New Hampshire': 'NH',\\\n",
    "                 'New Jersey': 'NJ','New Mexico': 'NM','New York': 'NY','North Carolina': 'NC',\\\n",
    "                 'North Dakota': 'ND','Northern Mariana Islands':'MP','Ohio': 'OH','Oklahoma': 'OK',\\\n",
    "                 'Oregon': 'OR','Palau': 'PW','Pennsylvania': 'PA','Puerto Rico': 'PR','Rhode Island': 'RI',\\\n",
    "                 'South Carolina': 'SC','South Dakota': 'SD','Tennessee': 'TN','Texas': 'TX','Utah': 'UT',\\\n",
    "                 'Vermont': 'VT','Virgin Islands': 'VI','Virginia': 'VA','Washington': 'WA','West Virginia':\\\n",
    "                 'WV','Wisconsin': 'WI','Wyoming': 'WY'}"
   ]
  },
  {
   "cell_type": "code",
   "execution_count": 12,
   "metadata": {},
   "outputs": [],
   "source": [
    "eiaprice.loc[eiaprice['FUEL_COST'] == '.', 'FUEL_COST'] = None\n",
    "eiaprice.loc[eiaprice['FUEL_COST'] >= 1e5, 'FUEL_COST'] = eiaprice.loc[eiaprice['FUEL_COST'] <= 1e4, 'FUEL_COST'].max()"
   ]
  },
  {
   "cell_type": "code",
   "execution_count": 13,
   "metadata": {},
   "outputs": [],
   "source": [
    "for gen in out.index:\n",
    "    if out.loc[gen, 'SUBRGN'] not in ['RFCW', 'SRMV', 'SRMW', 'AZNM']:\n",
    "        if out.loc[gen,'FuelType'] == 'Coal' or out.loc[gen,'FuelType'] == 'NaturalGas':\n",
    "            # determine whether EIA has fuel data\n",
    "            idx = (eiaprice['Plant Id'] == out.loc[gen,'ORISCode']).values *\\\n",
    "                (eiaprice['ENERGY_SOURCE'] == out.loc[gen,'FUELU1']).values\n",
    "            # if this is not empty\n",
    "            if pd.notnull(eiaprice.loc[idx, 'FUEL_COST'].mean()):\n",
    "                out.loc[gen,'FuelCostTotal'] = eiaprice.loc[idx, 'FUEL_COST'].mean()*1e-2*\\\n",
    "                                out.loc[gen,'HeatRate']*1e-3\n",
    "            else:# get state-level value\n",
    "                idx_st = (eiaprice['Plant State'] == us_state_abbrev[out.loc[gen,'StateName']]).values*\\\n",
    "                    (eiaprice['ENERGY_SOURCE'] == out.loc[gen,'FUELU1']).values*\\\n",
    "                    (eiaprice['FUEL_COST'] > 0).values\n",
    "                if pd.notnull(eiaprice.loc[idx_st, 'FUEL_COST'].mean()):\n",
    "                    out.loc[gen,'FuelCostTotal'] = eiaprice.loc[idx_st, 'FUEL_COST'].mean()*1e-2*\\\n",
    "                                out.loc[gen,'HeatRate']*1e-3"
   ]
  },
  {
   "cell_type": "code",
   "execution_count": 14,
   "metadata": {},
   "outputs": [
    {
     "data": {
      "text/html": [
       "<div>\n",
       "<style scoped>\n",
       "    .dataframe tbody tr th:only-of-type {\n",
       "        vertical-align: middle;\n",
       "    }\n",
       "\n",
       "    .dataframe tbody tr th {\n",
       "        vertical-align: top;\n",
       "    }\n",
       "\n",
       "    .dataframe thead th {\n",
       "        text-align: right;\n",
       "    }\n",
       "</style>\n",
       "<table border=\"1\" class=\"dataframe\">\n",
       "  <thead>\n",
       "    <tr style=\"text-align: right;\">\n",
       "      <th></th>\n",
       "      <th>RegionName</th>\n",
       "      <th>FuelType</th>\n",
       "      <th>FuelCostTotal</th>\n",
       "      <th>PLCO2RTA</th>\n",
       "      <th>ORISCode</th>\n",
       "      <th>DIVISIONCE</th>\n",
       "      <th>UNITID</th>\n",
       "      <th>Capacity</th>\n",
       "      <th>OBJECTID</th>\n",
       "      <th>UniqueID</th>\n",
       "      <th>...</th>\n",
       "      <th>PLNOXRTA</th>\n",
       "      <th>PLSO2RTA</th>\n",
       "      <th>PLN2ORTA</th>\n",
       "      <th>PLCH4RTA</th>\n",
       "      <th>PRMVR</th>\n",
       "      <th>FUELU1</th>\n",
       "      <th>pm.mmbtu</th>\n",
       "      <th>pm.mwh</th>\n",
       "      <th>generationCO2</th>\n",
       "      <th>g</th>\n",
       "    </tr>\n",
       "  </thead>\n",
       "  <tbody>\n",
       "  </tbody>\n",
       "</table>\n",
       "<p>0 rows × 31 columns</p>\n",
       "</div>"
      ],
      "text/plain": [
       "Empty DataFrame\n",
       "Columns: [RegionName, FuelType, FuelCostTotal, PLCO2RTA, ORISCode, DIVISIONCE, UNITID, Capacity, OBJECTID, UniqueID, StateName, CountyName, CountyCode, HeatRate, PlantType, FossilUnit, NERC, SUBRGN, FIPSCNTY, LAT, LON, PLNOXRTA, PLSO2RTA, PLN2ORTA, PLCH4RTA, PRMVR, FUELU1, pm.mmbtu, pm.mwh, generationCO2, g]\n",
       "Index: []\n",
       "\n",
       "[0 rows x 31 columns]"
      ]
     },
     "execution_count": 14,
     "metadata": {},
     "output_type": "execute_result"
    }
   ],
   "source": [
    "# look for missing values\n",
    "out[pd.isnull(out['FuelCostTotal'])]"
   ]
  },
  {
   "cell_type": "code",
   "execution_count": 15,
   "metadata": {},
   "outputs": [
    {
     "data": {
      "text/plain": [
       "FuelType\n",
       "Biomass        45.450000\n",
       "Coal           25.620000\n",
       "Fwaste          0.010000\n",
       "Geothermal      0.010000\n",
       "Hydro           0.010000\n",
       "LF Gas          0.010000\n",
       "MSW             0.010000\n",
       "NaturalGas     34.467779\n",
       "Non-Fossil      0.010000\n",
       "Nuclear         8.400000\n",
       "Oil           211.500000\n",
       "Pet. Coke      41.868750\n",
       "Pumps           0.010000\n",
       "Solar           0.010000\n",
       "Waste Coal     30.712500\n",
       "Wind            0.010000\n",
       "Name: FuelCostTotal, dtype: float64"
      ]
     },
     "execution_count": 15,
     "metadata": {},
     "output_type": "execute_result"
    }
   ],
   "source": [
    "out.groupby('FuelType')['FuelCostTotal'].median()"
   ]
  },
  {
   "cell_type": "markdown",
   "metadata": {},
   "source": [
    "## Turn off Nuclear Power by deleting the Nuclear plants from the dataset\n"
   ]
  },
  {
   "cell_type": "code",
   "execution_count": 16,
   "metadata": {},
   "outputs": [],
   "source": [
    "#create a variable to reduce our load later \n",
    "#(we will reduce based on the nuclear generation that would have been available but will now be cut)\n",
    "nuclear_load_reduction = out.loc[(out['FuelType'] == 'Nuclear') & (out['RegionName'] == region_load_to_modify),'Capacity'].sum()"
   ]
  },
  {
   "cell_type": "code",
   "execution_count": 17,
   "metadata": {},
   "outputs": [
    {
     "data": {
      "text/plain": [
       "496      1205.0\n",
       "497      1195.0\n",
       "498      1280.0\n",
       "499      1280.0\n",
       "1036      981.0\n",
       "          ...  \n",
       "12702    1314.0\n",
       "12703    1312.0\n",
       "14483    1132.0\n",
       "16417    1122.0\n",
       "16418    1118.0\n",
       "Name: Capacity, Length: 102, dtype: float64"
      ]
     },
     "execution_count": 17,
     "metadata": {},
     "output_type": "execute_result"
    }
   ],
   "source": [
    "#check our initial nuclear power generation\n",
    "out.loc[out['FuelType'] == 'Nuclear', 'Capacity']"
   ]
  },
  {
   "cell_type": "code",
   "execution_count": 18,
   "metadata": {},
   "outputs": [],
   "source": [
    "#shutdown nuclear power if we have set it to true above\n",
    "if nuclear_shutdown == True:\n",
    "    out.loc[out['FuelType'] == 'Nuclear', 'Capacity'] *= nuclear_reduction\n",
    "    if nuclear_reduction == 0.:\n",
    "        out= out.loc[out['FuelType'] != 'Nuclear']"
   ]
  },
  {
   "cell_type": "code",
   "execution_count": 19,
   "metadata": {},
   "outputs": [
    {
     "data": {
      "text/plain": [
       "Series([], Name: Capacity, dtype: float64)"
      ]
     },
     "execution_count": 19,
     "metadata": {},
     "output_type": "execute_result"
    }
   ],
   "source": [
    "#check we no longer have nuclear generation\n",
    "out.loc[out['FuelType'] == 'Nuclear', 'Capacity']"
   ]
  },
  {
   "cell_type": "markdown",
   "metadata": {},
   "source": [
    "## Turn off Coal Power if chosen"
   ]
  },
  {
   "cell_type": "code",
   "execution_count": 20,
   "metadata": {},
   "outputs": [],
   "source": [
    "#shutdown nuclear power if we have set it to true above\n",
    "if coal_shutdown == True:\n",
    "    out.loc[out['FuelType'] == 'Coal', 'Capacity'] *= coal_reduction\n",
    "    if nuclear_reduction == 0.:\n",
    "        out= out.loc[out['FuelType'] != 'Coal']"
   ]
  },
  {
   "cell_type": "code",
   "execution_count": 21,
   "metadata": {},
   "outputs": [
    {
     "data": {
      "text/plain": [
       "Series([], Name: Capacity, dtype: float64)"
      ]
     },
     "execution_count": 21,
     "metadata": {},
     "output_type": "execute_result"
    }
   ],
   "source": [
    "#check we no longer have nuclear generation\n",
    "out.loc[out['FuelType'] == 'Coal', 'Capacity']"
   ]
  },
  {
   "cell_type": "markdown",
   "metadata": {},
   "source": [
    "## Reduce generation cost for RC (subsidies)"
   ]
  },
  {
   "cell_type": "code",
   "execution_count": 22,
   "metadata": {},
   "outputs": [],
   "source": [
    "out.loc[out['FUELU1'] == 'RC', 'FuelCostTotal'] -= 3"
   ]
  },
  {
   "cell_type": "markdown",
   "metadata": {},
   "source": [
    "## Get EI from eGrid instead of Alan\n",
    "#### Convert from lb to kg"
   ]
  },
  {
   "cell_type": "code",
   "execution_count": 23,
   "metadata": {},
   "outputs": [],
   "source": [
    "# Fix EI (take back from eGrid)\n",
    "# For each unique ORISCode in Alan's dataset,\n",
    "#    Get PLNOXRTA, etc from the total power plant from eGRid\n",
    "not_found=0\n",
    "for oris in set(out['ORISCode']):\n",
    "    # Exclude the regions where the original EI work well\n",
    "    #if out.loc[out['ORISCode'] == oris, 'SUBRGN'].all() not in ['NWPP', 'RFCE', 'RMPA']:\n",
    "    for sp in ['NOX', 'SO2', 'CH4', 'CO2', 'N2O']:\n",
    "        if egrid.loc[egrid['ORISPL'] == oris, f'PL{sp}RTA'].values.size:#ie if array not empty\n",
    "            plrta = egrid.loc[egrid['ORISPL'] == oris, f'PL{sp}RTA'].values[0] * 0.45359 # kg/lb\n",
    "            out.loc[out['ORISCode'] == oris, f'PL{sp}RTA'] = plrta\n",
    "        else:\n",
    "            not_found+=1\n",
    "#Alan's original data is in kg/MWh, so we convert eGRID data to kg as well."
   ]
  },
  {
   "cell_type": "markdown",
   "metadata": {},
   "source": [
    "## Add generators\n",
    "-in all regions at a cost such that it is only activated when absolutely necessary. Set the emission factors to zero. We will record when it is used and assume partial blackouts when used. This is just to close the budget and allow for optimization\n",
    "\n",
    "-co-locate with the most expensive EGU in that region\n",
    "\n",
    "-set the capacity at 20000 to ensure it fills the gap\n",
    "\n",
    "-set the price at 1000 to ensure that it is the highest price and only turned on in these scenarios\n"
   ]
  },
  {
   "cell_type": "code",
   "execution_count": 24,
   "metadata": {},
   "outputs": [],
   "source": [
    "if add_generators == True:\n",
    "    #get list of unique region names\n",
    "    reg = np.unique(out['RegionName'])\n",
    "    generator_oris_number = np.arange(100000,100000+len(reg))\n",
    "    #create a dictionary to reassign the mixed ORISCodes for our generators (99999region_name) to a number (100000 and above)\n",
    "    generator_oris_dict = {f'99999{r}':generator_oris_number[idx] for idx,r in enumerate(reg)}    #create data frame for our generators\n",
    "    generators = pd.DataFrame(index = (generator_oris_dict[f'99999{r}'] for r in reg), columns = out.columns.values)\n",
    "    #fill the dataframe by region\n",
    "    for idx,r in enumerate(reg):\n",
    "        generators.loc[generator_oris_dict[f'99999{r}']] = out.loc[(out['RegionName'] == r) & (out['FuelCostTotal'] == (out.loc[(out['RegionName'] == r),'FuelCostTotal'].max()))].values[0]\n",
    "        generators.loc[generator_oris_dict[f'99999{r}'],'ORISCode'] = generator_oris_dict[f'99999{r}']\n",
    "        generators.loc[generator_oris_dict[f'99999{r}'],'OBJECTID'] = f'99999_{r}'\n",
    "        generators.loc[generator_oris_dict[f'99999{r}'],'UniqueID'] = f'99999_{r}'\n",
    "        generators.loc[generator_oris_dict[f'99999{r}'],'RegionName'] = r\n",
    "    #add in fuel cost, capcity, and emissions factors (same for all generators)\n",
    "    generators['FuelCostTotal'] = 1000\n",
    "    generators['Capacity'] = 20000 #for nonuc only; 40000 for nonuc and no coal\n",
    "    generators['PLCO2RTA'] = 0\n",
    "    generators['PLNOXRTA'] = 0\n",
    "    generators['PLN2ORTA'] = 0\n",
    "    generators['PLSO2RTA'] = 0\n",
    "    generators['PLCH4RTA'] = 0\n",
    "    generators['FuelType'] = 'generator'\n",
    "    generators['HeatRate'] = 0\n",
    "    generators['pm.mmbtu'] = 0\n",
    "    generators['pm.mwh'] = 0\n",
    "    generators['generationCO2'] = 0\n",
    "    generators['g'] = 0\n",
    "    #append this to our generation out dataframe\n",
    "    out = out.append(generators)\n",
    "    out"
   ]
  },
  {
   "cell_type": "markdown",
   "metadata": {},
   "source": [
    "## Save output"
   ]
  },
  {
   "cell_type": "code",
   "execution_count": 25,
   "metadata": {},
   "outputs": [],
   "source": [
    "# Save \n",
    "out.to_csv(f'./good_model_inputs/inputs_gen_no-nuclear_no_coal.csv')"
   ]
  },
  {
   "cell_type": "code",
   "execution_count": 36,
   "metadata": {},
   "outputs": [
    {
     "data": {
      "text/html": [
       "<div>\n",
       "<style scoped>\n",
       "    .dataframe tbody tr th:only-of-type {\n",
       "        vertical-align: middle;\n",
       "    }\n",
       "\n",
       "    .dataframe tbody tr th {\n",
       "        vertical-align: top;\n",
       "    }\n",
       "\n",
       "    .dataframe thead th {\n",
       "        text-align: right;\n",
       "    }\n",
       "</style>\n",
       "<table border=\"1\" class=\"dataframe\">\n",
       "  <thead>\n",
       "    <tr style=\"text-align: right;\">\n",
       "      <th></th>\n",
       "      <th>RegionName</th>\n",
       "      <th>FuelType</th>\n",
       "      <th>FuelCostTotal</th>\n",
       "      <th>PLCO2RTA</th>\n",
       "      <th>ORISCode</th>\n",
       "      <th>DIVISIONCE</th>\n",
       "      <th>UNITID</th>\n",
       "      <th>Capacity</th>\n",
       "      <th>OBJECTID</th>\n",
       "      <th>UniqueID</th>\n",
       "      <th>...</th>\n",
       "      <th>PLNOXRTA</th>\n",
       "      <th>PLSO2RTA</th>\n",
       "      <th>PLN2ORTA</th>\n",
       "      <th>PLCH4RTA</th>\n",
       "      <th>PRMVR</th>\n",
       "      <th>FUELU1</th>\n",
       "      <th>pm.mmbtu</th>\n",
       "      <th>pm.mwh</th>\n",
       "      <th>generationCO2</th>\n",
       "      <th>g</th>\n",
       "    </tr>\n",
       "  </thead>\n",
       "  <tbody>\n",
       "  </tbody>\n",
       "</table>\n",
       "<p>0 rows × 31 columns</p>\n",
       "</div>"
      ],
      "text/plain": [
       "Empty DataFrame\n",
       "Columns: [RegionName, FuelType, FuelCostTotal, PLCO2RTA, ORISCode, DIVISIONCE, UNITID, Capacity, OBJECTID, UniqueID, StateName, CountyName, CountyCode, HeatRate, PlantType, FossilUnit, NERC, SUBRGN, FIPSCNTY, LAT, LON, PLNOXRTA, PLSO2RTA, PLN2ORTA, PLCH4RTA, PRMVR, FUELU1, pm.mmbtu, pm.mwh, generationCO2, g]\n",
       "Index: []\n",
       "\n",
       "[0 rows x 31 columns]"
      ]
     },
     "execution_count": 36,
     "metadata": {},
     "output_type": "execute_result"
    }
   ],
   "source": [
    "# Check for nans\n",
    "out.loc[pd.isnull(out['Capacity']),:]"
   ]
  },
  {
   "cell_type": "markdown",
   "metadata": {},
   "source": [
    "# Transmission"
   ]
  },
  {
   "cell_type": "markdown",
   "metadata": {},
   "source": [
    "## Load original inputs"
   ]
  },
  {
   "cell_type": "code",
   "execution_count": 31,
   "metadata": {},
   "outputs": [],
   "source": [
    "trans = pd.read_csv('../good_model_inputs/inputs_transmission.csv')"
   ]
  },
  {
   "cell_type": "markdown",
   "metadata": {},
   "source": [
    "## Modify inputs"
   ]
  },
  {
   "cell_type": "code",
   "execution_count": 32,
   "metadata": {},
   "outputs": [],
   "source": [
    "# Separate ERCOT (Texas: ERC_FRNT, ERC_GWAY, ERC_REST, ERC_WEST) from the other regions\n",
    "lst = ['ERC_FRNT', 'ERC_GWAY', 'ERC_REST', 'ERC_WEST']\n",
    "idx = (trans['r1'].isin(lst) & ~trans['r2'].isin(lst) |\\\n",
    "        trans['r2'].isin(lst) & ~trans['r1'].isin(lst))&\\\n",
    "        (trans['transCap'] > 1).values\n",
    "trans.loc[idx,'transCap'] = 1\n",
    "trans.loc[idx,'transCost'] = 0.01"
   ]
  },
  {
   "cell_type": "code",
   "execution_count": 33,
   "metadata": {},
   "outputs": [],
   "source": [
    "# Isolate WECC (West of Rockies) from the rest\n",
    "lst = ['WECC_AZ','WECC_CO','WECC_ID','WECC_IID','WECC_MT', 'WECC_NM','WECC_NNV','WECC_PNW',\\\n",
    "       'WECC_SCE','WECC_SF','WECC_SNV','WECC_UT','WECC_WY','WEC_CALN','WEC_LADW','WEC_SDGE']\n",
    "idx = (trans['r1'].isin(lst) & ~trans['r2'].isin(lst) |\\\n",
    "        trans['r2'].isin(lst) & ~trans['r1'].isin(lst))&\\\n",
    "        (trans['transCap'] > 1).values\n",
    "trans.loc[idx,:]\n",
    "trans.loc[idx,'transCap'] = 1\n",
    "trans.loc[idx,'transCost'] = 0.01"
   ]
  },
  {
   "cell_type": "code",
   "execution_count": 35,
   "metadata": {},
   "outputs": [],
   "source": [
    "# Add incoming capacity to NY_Z_J (3 active lines, add 700MW to each)\n",
    "idx = (trans['r2'] == 'NY_Z_J').values * (trans['transCap'] > 1).values\n",
    "trans.loc[idx, 'transCap'] += 700"
   ]
  },
  {
   "cell_type": "markdown",
   "metadata": {},
   "source": [
    "## Save output"
   ]
  },
  {
   "cell_type": "code",
   "execution_count": 40,
   "metadata": {},
   "outputs": [],
   "source": [
    "trans.to_csv(f'./good_model_inputs/inputs_trans_no-nuclear_{tdy}.csv')"
   ]
  },
  {
   "cell_type": "markdown",
   "metadata": {},
   "source": [
    "# Load"
   ]
  },
  {
   "cell_type": "markdown",
   "metadata": {},
   "source": [
    "## Load original inputs"
   ]
  },
  {
   "cell_type": "code",
   "execution_count": 22,
   "metadata": {},
   "outputs": [],
   "source": [
    "#import our data\n",
    "load = pd.read_csv('./good_model_inputs/inputs_load.csv')\n",
    "#increase the demand load by 15% in ERC_WEST and ERC_REST\n",
    "idx = (load['r'] == 'ERC_REST').values + (load['r'] == 'ERC_WEST').values\n",
    "load.loc[idx, 'demandLoad'] *= 1.15\n"
   ]
  },
  {
   "cell_type": "markdown",
   "metadata": {},
   "source": [
    "## Modify regional load (if set to true), usually not needed if we modify the generators"
   ]
  },
  {
   "cell_type": "code",
   "execution_count": 107,
   "metadata": {},
   "outputs": [
    {
     "name": "stdout",
     "output_type": "stream",
     "text": [
      "Reducing load in regions where load exceeds generation by 170 MwH by 2061.0\n",
      "Mean of load before modification 1849.0366480191803\n",
      "Mean of load after modification 1839.855462952392\n",
      "              r     t  demandLoad\n",
      "180186  NY_Z_GI  5007       350.0\n",
      "180187  NY_Z_GI  5008       363.0\n",
      "180188  NY_Z_GI  5009       343.0\n",
      "180211  NY_Z_GI  5032       349.0\n",
      "180212  NY_Z_GI  5033       349.0\n",
      "180235  NY_Z_GI  5056       339.0\n",
      "180236  NY_Z_GI  5057       353.0\n",
      "180255  NY_Z_GI  5076       415.0\n",
      "180256  NY_Z_GI  5077       489.0\n",
      "180257  NY_Z_GI  5078       546.0\n",
      "180258  NY_Z_GI  5079       546.0\n",
      "180259  NY_Z_GI  5080       546.0\n",
      "180260  NY_Z_GI  5081       509.0\n",
      "180261  NY_Z_GI  5082       409.0\n",
      "180280  NY_Z_GI  5101       360.0\n",
      "180281  NY_Z_GI  5102       405.0\n",
      "180282  NY_Z_GI  5103       437.0\n",
      "180283  NY_Z_GI  5104       459.0\n",
      "180284  NY_Z_GI  5105       457.0\n",
      "180285  NY_Z_GI  5106       401.0\n",
      "180353  NY_Z_GI  5174       357.0\n",
      "180354  NY_Z_GI  5175       366.0\n",
      "180355  NY_Z_GI  5176       380.0\n",
      "180356  NY_Z_GI  5177       372.0\n",
      "180401  NY_Z_GI  5222       363.0\n",
      "180402  NY_Z_GI  5223       381.0\n",
      "180403  NY_Z_GI  5224       380.0\n",
      "180404  NY_Z_GI  5225       375.0\n",
      "180405  NY_Z_GI  5226       347.0\n",
      "180422  NY_Z_GI  5243       336.0\n",
      "180423  NY_Z_GI  5244       387.0\n",
      "180424  NY_Z_GI  5245       438.0\n",
      "180425  NY_Z_GI  5246       464.0\n",
      "180426  NY_Z_GI  5247       452.0\n",
      "180427  NY_Z_GI  5248       380.0\n",
      "180428  NY_Z_GI  5249       343.0\n",
      "180474  NY_Z_GI  5295       339.0\n",
      "180475  NY_Z_GI  5296       352.0\n",
      "180476  NY_Z_GI  5297       346.0\n"
     ]
    }
   ],
   "source": [
    "#modify the load at the particular times that generation < load (we will assume partial blackouts in these regions at these times)\n",
    "if modify_regional_load == True:\n",
    "    region = region_to_modify\n",
    "    times = load_times['0'].values\n",
    "    date_range = np.arange(5000,6002)\n",
    "    print('Reducing load in regions where load exceeds generation by 170 MwH by ' + str(nuclear_load_reduction))\n",
    "    print('Mean of load before modification '+ str(load.loc[(load['r'] == region),'demandLoad'].mean()))\n",
    "    #reduce our loads by the amount that nucler would have supplied in all regions where it is possible; \n",
    "    #for those regions where the load stays above 546 MwH, we reduce it to 546 or else the model will not optimize\n",
    "    for t in times:\n",
    "        if ((load.loc[(load['r'] == region_to_modify) & (load['t'] == t),'demandLoad']) - nuclear_load_reduction).values <= 546: #alter anything below 546 load \n",
    "            load.loc[(load['r'] == region_to_modify) & (load['t'] == t),'demandLoad'] -= nuclear_load_reduction\n",
    "        elif (load.loc[(load['r'] == region_to_modify) & (load['t'] == t),'demandLoad'] - nuclear_load_reduction).values > 546: # we have to assume anything above 546\n",
    "            load.loc[(load['r'] == region_to_modify) & (load['t'] == t),'demandLoad'] = 546\n",
    "    print('Mean of load after modification '+ str(load.loc[(load['r'] == region),'demandLoad'].mean()))\n",
    "    print(load.loc[(load['r'] == region) & load['t'].isin(times)])"
   ]
  },
  {
   "cell_type": "code",
   "execution_count": 61,
   "metadata": {},
   "outputs": [],
   "source": [
    "load.to_csv(f'./good_model_inputs/inputs_load_no-nuclear_{tdy}_reduced-100percent-nuclear_modified-max0_NYZJ-0.csv')"
   ]
  },
  {
   "cell_type": "code",
   "execution_count": null,
   "metadata": {},
   "outputs": [],
   "source": []
  }
 ],
 "metadata": {
  "kernelspec": {
   "display_name": "Python 3 (ipykernel)",
   "language": "python",
   "name": "python3"
  },
  "language_info": {
   "codemirror_mode": {
    "name": "ipython",
    "version": 3
   },
   "file_extension": ".py",
   "mimetype": "text/x-python",
   "name": "python",
   "nbconvert_exporter": "python",
   "pygments_lexer": "ipython3",
   "version": "3.9.6"
  },
  "toc": {
   "base_numbering": 1,
   "nav_menu": {},
   "number_sections": true,
   "sideBar": true,
   "skip_h1_title": false,
   "title_cell": "Table of Contents",
   "title_sidebar": "Contents",
   "toc_cell": false,
   "toc_position": {},
   "toc_section_display": true,
   "toc_window_display": false
  }
 },
 "nbformat": 4,
 "nbformat_minor": 4
}
