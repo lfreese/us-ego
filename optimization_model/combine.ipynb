{
 "cells": [
  {
   "cell_type": "code",
   "execution_count": 1,
   "metadata": {},
   "outputs": [],
   "source": [
    "import pandas as pd\n",
    "import feather"
   ]
  },
  {
   "cell_type": "code",
   "execution_count": 2,
   "metadata": {
    "tags": []
   },
   "outputs": [],
   "source": [
    "hr = [500,1000,1500,2000,2500, 3000,3500, 4000,4500, 5000, 5500, 6000, 6500, 7000, 7500, 8000, 8500, 8759]\n",
    "init = 1\n",
    "lstgen = []\n",
    "lsttrans = []\n",
    "suffix = 'LA_no_ONG'\n",
    "for nb in hr:\n",
    "    tmpgen = pd.read_csv(f'./outputs/gen_{suffix}_{init}_{nb}.csv')\n",
    "    tmptrans = pd.read_csv(f'./outputs/trans_{suffix}_{init}_{nb}.csv')\n",
    "    lstgen.append(tmpgen)\n",
    "    lsttrans.append(tmptrans)\n",
    "    init = nb + 1"
   ]
  },
  {
   "cell_type": "code",
   "execution_count": 3,
   "metadata": {},
   "outputs": [],
   "source": [
    "gen = pd.concat(lstgen, axis=1)\n",
    "trans = pd.concat(lsttrans, axis=1)"
   ]
  },
  {
   "cell_type": "code",
   "execution_count": 4,
   "metadata": {},
   "outputs": [],
   "source": [
    "gen.columns = [f'2016_{i//24 + 1}_{i%24}' for i in range(8759)]\n",
    "trans.columns = [f'2016_{i//24 + 1}_{i%24}' for i in range(8759)]"
   ]
  },
  {
   "cell_type": "code",
   "execution_count": 5,
   "metadata": {},
   "outputs": [],
   "source": [
    "gen.to_feather(f'./outputs/gen_{suffix}.feather')"
   ]
  },
  {
   "cell_type": "code",
   "execution_count": 6,
   "metadata": {},
   "outputs": [],
   "source": [
    "trans.to_feather(f'./outputs/trans_{suffix}.feather')"
   ]
  },
  {
   "cell_type": "code",
   "execution_count": null,
   "metadata": {},
   "outputs": [],
   "source": []
  }
 ],
 "metadata": {
  "kernelspec": {
   "display_name": "Python grid_mod",
   "language": "python",
   "name": "grid_mod"
  },
  "language_info": {
   "codemirror_mode": {
    "name": "ipython",
    "version": 3
   },
   "file_extension": ".py",
   "mimetype": "text/x-python",
   "name": "python",
   "nbconvert_exporter": "python",
   "pygments_lexer": "ipython3",
   "version": "3.9.6"
  },
  "toc": {
   "base_numbering": 1,
   "nav_menu": {},
   "number_sections": true,
   "sideBar": true,
   "skip_h1_title": false,
   "title_cell": "Table of Contents",
   "title_sidebar": "Contents",
   "toc_cell": false,
   "toc_position": {},
   "toc_section_display": true,
   "toc_window_display": false
  }
 },
 "nbformat": 4,
 "nbformat_minor": 4
}
