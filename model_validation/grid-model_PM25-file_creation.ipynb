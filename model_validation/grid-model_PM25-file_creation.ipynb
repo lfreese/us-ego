{
 "cells": [
  {
   "cell_type": "code",
   "execution_count": 1,
   "metadata": {},
   "outputs": [],
   "source": [
    "%matplotlib inline\n",
    "\n",
    "%matplotlib inline\n",
    "%load_ext autoreload\n",
    "%autoreload 2\n",
    "\n",
    "import numpy as np\n",
    "\n",
    "import xarray as xr\n",
    "\n",
    "import pandas as pd\n",
    "\n",
    "import zarr\n",
    "\n",
    "import sys\n",
    "sys.path.append('../')\n",
    "import utils\n",
    "\n",
    "np.seterr(invalid='ignore'); # disable a warning from matplotlib and cartopy"
   ]
  },
  {
   "cell_type": "markdown",
   "metadata": {},
   "source": [
    "# Data"
   ]
  },
  {
   "cell_type": "markdown",
   "metadata": {},
   "source": [
    "## GEOS Chem Runs\n",
    "\n",
    "Using egrid, NEI, and our model emissions inventories for NO, NO2, SO2"
   ]
  },
  {
   "cell_type": "code",
   "execution_count": 3,
   "metadata": {},
   "outputs": [],
   "source": [
    "egrid_path = '../../GCrundirs/type_NA-out_conc-yr_2016-gridmod_final-validation-egrid/OutputDir/'\n",
    "NEI_path = '../../GCrundirs/type_NA-out_conc-yr_2016-gtropchem/merra2_05x0625_tropchem_na/OutputDir/'\n",
    "MODEL_path = '../../GCrundirs/type_NA-out_conc-yr_2016-gridmod_final-validation/OutputDir/'\n",
    "nonuc_path = '../../GCrundirs/type_NA-out_conc-yr_2016-gridmod_nonuc/OutputDir/'\n",
    "speciesconc_output = 'GEOSChem.SpeciesConc.2016*.nc4'\n",
    "aerosol_output = 'GEOSChem.AerosolMass.2016*.nc4'\n",
    "\n",
    "ds_egrid= xr.Dataset()\n",
    "ds_egrid = utils.import_GC_runs_general(ds_egrid, egrid_path, aerosol_output, speciesconc_output, 'egrid')\n",
    "\n",
    "ds_MODEL= xr.Dataset()\n",
    "ds_MODEL = utils.import_GC_runs_general(ds_MODEL, MODEL_path, aerosol_output, speciesconc_output, 'MODEL')\n",
    "\n",
    "ds_NEI= xr.Dataset()\n",
    "ds_NEI = utils.import_GC_runs_general(ds_NEI, NEI_path, aerosol_output, speciesconc_output, 'NEI')\n"
   ]
  },
  {
   "cell_type": "code",
   "execution_count": 10,
   "metadata": {},
   "outputs": [],
   "source": [
    "datasets = [\n",
    "    ds_egrid,\n",
    "    ds_NEI,\n",
    "    ds_MODEL\n",
    "]"
   ]
  },
  {
   "cell_type": "code",
   "execution_count": 11,
   "metadata": {},
   "outputs": [],
   "source": [
    "ds = xr.concat(datasets, pd.Index(['egrid', 'NEI', 'MODEL'], name='model_name'))"
   ]
  },
  {
   "cell_type": "code",
   "execution_count": 12,
   "metadata": {},
   "outputs": [],
   "source": [
    "#molecular weights of species\n",
    "mw_species = {\n",
    "    'NH4': 18.,\n",
    "    'NIT': 62.,\n",
    "    'SO4': 96.,\n",
    "    'BCPI': 12.,\n",
    "    'OCPI': 12.,\n",
    "    'BCPO': 12.,\n",
    "    'OCPO': 12.,\n",
    "    'DST1': 29.,\n",
    "    'DST2': 29.,\n",
    "    'SALA': 31.4,\n",
    "    'HNO3': 63.01,\n",
    "    'NH3' : 17.031\n",
    "} #g/mol\n",
    "#list of pm species\n",
    "pm_species = list(mw_species.keys())\n",
    "#list of names of species in ds\n",
    "pm_tracers = ['SpeciesConc_' + spec for spec in pm_species]\n",
    "\n",
    "#loop through each model and create a subset for pm\n",
    "pm_data = (\n",
    "    ds[pm_tracers]\n",
    "    .rename({'SpeciesConc_' + spec: spec for spec in pm_species})\n",
    ")\n",
    "pm_data = pm_data.isel(lev = 0)"
   ]
  },
  {
   "cell_type": "code",
   "execution_count": 13,
   "metadata": {},
   "outputs": [
    {
     "data": {
      "text/plain": [
       "<xarray.backends.zarr.ZarrStore at 0x7fe0da8df570>"
      ]
     },
     "execution_count": 13,
     "metadata": {},
     "output_type": "execute_result"
    }
   ],
   "source": [
    "xr.Dataset.to_zarr(pm_data, 'pm_ds.zarr', mode = 'w') #save the dataset \n"
   ]
  },
  {
   "cell_type": "markdown",
   "metadata": {},
   "source": [
    "PM25     = 1.33 (NH4 + NIT  + SO4)\n",
    "         + BCPI + BCPO\n",
    "         + 2.1 (OCPO + 1.16 OCPI) + 1.16 SOA\n",
    "         + DST1 + 0.38 DST2 + 1.86 SALA"
   ]
  }
 ],
 "metadata": {
  "kernelspec": {
   "display_name": "Python 3",
   "language": "python",
   "name": "python3"
  },
  "language_info": {
   "codemirror_mode": {
    "name": "ipython",
    "version": 3
   },
   "file_extension": ".py",
   "mimetype": "text/x-python",
   "name": "python",
   "nbconvert_exporter": "python",
   "pygments_lexer": "ipython3",
   "version": "3.7.3"
  }
 },
 "nbformat": 4,
 "nbformat_minor": 4
}
